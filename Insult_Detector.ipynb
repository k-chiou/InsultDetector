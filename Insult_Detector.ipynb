{
  "nbformat": 4,
  "nbformat_minor": 0,
  "metadata": {
    "colab": {
      "name": "Insult Detector.ipynb",
      "version": "0.3.2",
      "provenance": [],
      "collapsed_sections": [],
      "include_colab_link": true
    },
    "kernelspec": {
      "display_name": "Python 3",
      "language": "python",
      "name": "python3"
    }
  },
  "cells": [
    {
      "cell_type": "markdown",
      "metadata": {
        "id": "view-in-github",
        "colab_type": "text"
      },
      "source": [
        "[View in Colaboratory](https://colab.research.google.com/github/k-chiou/InsultDetector/blob/master/Insult_Detector.ipynb)"
      ]
    },
    {
      "metadata": {
        "id": "plqe32TU34Sp",
        "colab_type": "text"
      },
      "cell_type": "markdown",
      "source": [
        "# Insult Detecter\n",
        "\n",
        "https://www.kaggle.com/c/detecting-insults-in-social-commentary"
      ]
    },
    {
      "metadata": {
        "id": "TM7pt5R-6EBX",
        "colab_type": "text"
      },
      "cell_type": "markdown",
      "source": [
        "## ⓪学習Data取得"
      ]
    },
    {
      "metadata": {
        "id": "HK_8lzNH6KnQ",
        "colab_type": "text"
      },
      "cell_type": "markdown",
      "source": [
        "### By Google Drive"
      ]
    },
    {
      "metadata": {
        "id": "sc50VQZpSS4q",
        "colab_type": "code",
        "colab": {}
      },
      "cell_type": "code",
      "source": [
        "# Google Driveと連携\n",
        "from google.colab import drive\n",
        "drive.mount('/content/drive/')"
      ],
      "execution_count": 0,
      "outputs": []
    },
    {
      "metadata": {
        "id": "vtpiot1h8ZCy",
        "colab_type": "code",
        "colab": {}
      },
      "cell_type": "code",
      "source": [
        "!ls /content/drive/'My Drive'"
      ],
      "execution_count": 0,
      "outputs": []
    },
    {
      "metadata": {
        "id": "IxpLoYw46NLS",
        "colab_type": "text"
      },
      "cell_type": "markdown",
      "source": [
        "### By Downloading\n",
        "Kaggelからダウンロードするため、ログイン（Cookie?）要りそう"
      ]
    },
    {
      "metadata": {
        "colab_type": "code",
        "id": "lxpstF47BnzV",
        "colab": {}
      },
      "cell_type": "code",
      "source": [
        "#!wget https://www.kaggle.com/c/detecting-insults-in-social-commentary/download/train.csv\n",
        "#!wget https://www.kaggle.com/c/detecting-insults-in-social-commentary/download/test_with_solutions.csv\n",
        "#!ls"
      ],
      "execution_count": 0,
      "outputs": []
    },
    {
      "metadata": {
        "id": "j17sQbwTAmBi",
        "colab_type": "code",
        "colab": {
          "base_uri": "https://localhost:8080/",
          "height": 204
        },
        "outputId": "7710f602-953a-4eb5-d89c-e25f3ff67fb7"
      },
      "cell_type": "code",
      "source": [
        "!wget https://github.com/k-chiou/InsultDetector/blob/master/test_with_solutions.csv\n",
        "!wget https://github.com/k-chiou/InsultDetector/blob/master/train.csv\n",
        "!ls"
      ],
      "execution_count": 2,
      "outputs": [
        {
          "output_type": "stream",
          "text": [
            "--2018-10-26 01:34:50--  https://github.com/k-chiou/InsultDetector/blob/master/test_with_solutions.csv\n",
            "Resolving github.com (github.com)... 192.30.253.112, 192.30.253.113\n",
            "Connecting to github.com (github.com)|192.30.253.112|:443... connected.\n",
            "HTTP request sent, awaiting response... 200 OK\n",
            "Length: unspecified [text/html]\n",
            "Saving to: ‘test_with_solutions.csv.1’\n",
            "\n",
            "test_with_solutions     [  <=>               ]   1.19M  3.88MB/s    in 0.3s    \n",
            "\n",
            "2018-10-26 01:34:51 (3.88 MB/s) - ‘test_with_solutions.csv.1’ saved [1243189]\n",
            "\n"
          ],
          "name": "stdout"
        }
      ]
    },
    {
      "metadata": {
        "id": "RifwvA3H5oQ6",
        "colab_type": "text"
      },
      "cell_type": "markdown",
      "source": [
        "## ①Data処理"
      ]
    },
    {
      "metadata": {
        "id": "8jay8SabRCwl",
        "colab_type": "code",
        "colab": {}
      },
      "cell_type": "code",
      "source": [
        "import pandas as pd\n",
        "import os\n",
        "#path = \"/content/drive/My Drive/Colab Notebooks/insult\" # Google Driveと連携する場合\n",
        "path = \".\" # wgetの場合\n",
        "data = pd.read_csv(os.path.join(path, 'train.csv')) # os.path.join = path + \"/\" + filename"
      ],
      "execution_count": 0,
      "outputs": []
    },
    {
      "metadata": {
        "id": "pXoLC4FcRCwo",
        "colab_type": "code",
        "outputId": "7b2c2253-8779-47b3-9988-b233f5c016e3",
        "colab": {
          "base_uri": "https://localhost:8080/",
          "height": 195
        }
      },
      "cell_type": "code",
      "source": [
        "data.head(5) # 先頭n行のデータを表示。nは省略可（デフォルト:n=5）。"
      ],
      "execution_count": 0,
      "outputs": [
        {
          "output_type": "execute_result",
          "data": {
            "text/html": [
              "<div>\n",
              "<style scoped>\n",
              "    .dataframe tbody tr th:only-of-type {\n",
              "        vertical-align: middle;\n",
              "    }\n",
              "\n",
              "    .dataframe tbody tr th {\n",
              "        vertical-align: top;\n",
              "    }\n",
              "\n",
              "    .dataframe thead th {\n",
              "        text-align: right;\n",
              "    }\n",
              "</style>\n",
              "<table border=\"1\" class=\"dataframe\">\n",
              "  <thead>\n",
              "    <tr style=\"text-align: right;\">\n",
              "      <th></th>\n",
              "      <th>Insult</th>\n",
              "      <th>Date</th>\n",
              "      <th>Comment</th>\n",
              "    </tr>\n",
              "  </thead>\n",
              "  <tbody>\n",
              "    <tr>\n",
              "      <th>0</th>\n",
              "      <td>1</td>\n",
              "      <td>20120618192155Z</td>\n",
              "      <td>\"You fuck your dad.\"</td>\n",
              "    </tr>\n",
              "    <tr>\n",
              "      <th>1</th>\n",
              "      <td>0</td>\n",
              "      <td>20120528192215Z</td>\n",
              "      <td>\"i really don't understand your point.\\xa0 It ...</td>\n",
              "    </tr>\n",
              "    <tr>\n",
              "      <th>2</th>\n",
              "      <td>0</td>\n",
              "      <td>NaN</td>\n",
              "      <td>\"A\\\\xc2\\\\xa0majority of Canadians can and has ...</td>\n",
              "    </tr>\n",
              "    <tr>\n",
              "      <th>3</th>\n",
              "      <td>0</td>\n",
              "      <td>NaN</td>\n",
              "      <td>\"listen if you dont wanna get married to a man...</td>\n",
              "    </tr>\n",
              "    <tr>\n",
              "      <th>4</th>\n",
              "      <td>0</td>\n",
              "      <td>20120619094753Z</td>\n",
              "      <td>\"C\\xe1c b\\u1ea1n xu\\u1ed1ng \\u0111\\u01b0\\u1edd...</td>\n",
              "    </tr>\n",
              "  </tbody>\n",
              "</table>\n",
              "</div>"
            ],
            "text/plain": [
              "   Insult             Date                                            Comment\n",
              "0       1  20120618192155Z                               \"You fuck your dad.\"\n",
              "1       0  20120528192215Z  \"i really don't understand your point.\\xa0 It ...\n",
              "2       0              NaN  \"A\\\\xc2\\\\xa0majority of Canadians can and has ...\n",
              "3       0              NaN  \"listen if you dont wanna get married to a man...\n",
              "4       0  20120619094753Z  \"C\\xe1c b\\u1ea1n xu\\u1ed1ng \\u0111\\u01b0\\u1edd..."
            ]
          },
          "metadata": {
            "tags": []
          },
          "execution_count": 3
        }
      ]
    },
    {
      "metadata": {
        "id": "Gswh5J4KRCwu",
        "colab_type": "code",
        "colab": {}
      },
      "cell_type": "code",
      "source": [
        "data.drop('Date', axis=1, inplace=True) # axis = 0: 行/　axis = 1: 列。 inplace: 対象をそのまま取り替えるか\n",
        "#data = data.drop('Date', axis=1, inplace=False)"
      ],
      "execution_count": 0,
      "outputs": []
    },
    {
      "metadata": {
        "id": "581WexOuRCwx",
        "colab_type": "code",
        "outputId": "8f7ec535-0a1d-4c91-f2d4-2a2d30182cb0",
        "colab": {
          "base_uri": "https://localhost:8080/",
          "height": 195
        }
      },
      "cell_type": "code",
      "source": [
        "data.head(5)"
      ],
      "execution_count": 0,
      "outputs": [
        {
          "output_type": "execute_result",
          "data": {
            "text/html": [
              "<div>\n",
              "<style scoped>\n",
              "    .dataframe tbody tr th:only-of-type {\n",
              "        vertical-align: middle;\n",
              "    }\n",
              "\n",
              "    .dataframe tbody tr th {\n",
              "        vertical-align: top;\n",
              "    }\n",
              "\n",
              "    .dataframe thead th {\n",
              "        text-align: right;\n",
              "    }\n",
              "</style>\n",
              "<table border=\"1\" class=\"dataframe\">\n",
              "  <thead>\n",
              "    <tr style=\"text-align: right;\">\n",
              "      <th></th>\n",
              "      <th>Insult</th>\n",
              "      <th>Comment</th>\n",
              "    </tr>\n",
              "  </thead>\n",
              "  <tbody>\n",
              "    <tr>\n",
              "      <th>0</th>\n",
              "      <td>1</td>\n",
              "      <td>\"You fuck your dad.\"</td>\n",
              "    </tr>\n",
              "    <tr>\n",
              "      <th>1</th>\n",
              "      <td>0</td>\n",
              "      <td>\"i really don't understand your point.\\xa0 It ...</td>\n",
              "    </tr>\n",
              "    <tr>\n",
              "      <th>2</th>\n",
              "      <td>0</td>\n",
              "      <td>\"A\\\\xc2\\\\xa0majority of Canadians can and has ...</td>\n",
              "    </tr>\n",
              "    <tr>\n",
              "      <th>3</th>\n",
              "      <td>0</td>\n",
              "      <td>\"listen if you dont wanna get married to a man...</td>\n",
              "    </tr>\n",
              "    <tr>\n",
              "      <th>4</th>\n",
              "      <td>0</td>\n",
              "      <td>\"C\\xe1c b\\u1ea1n xu\\u1ed1ng \\u0111\\u01b0\\u1edd...</td>\n",
              "    </tr>\n",
              "  </tbody>\n",
              "</table>\n",
              "</div>"
            ],
            "text/plain": [
              "   Insult                                            Comment\n",
              "0       1                               \"You fuck your dad.\"\n",
              "1       0  \"i really don't understand your point.\\xa0 It ...\n",
              "2       0  \"A\\\\xc2\\\\xa0majority of Canadians can and has ...\n",
              "3       0  \"listen if you dont wanna get married to a man...\n",
              "4       0  \"C\\xe1c b\\u1ea1n xu\\u1ed1ng \\u0111\\u01b0\\u1edd..."
            ]
          },
          "metadata": {
            "tags": []
          },
          "execution_count": 5
        }
      ]
    },
    {
      "metadata": {
        "id": "VGgP3r0PRCw4",
        "colab_type": "code",
        "colab": {}
      },
      "cell_type": "code",
      "source": [
        "# Check the equalization of shapes of input(X) and output(Y) data \n",
        "print(\"Shape of Comment: {}\".format(data['Comment'].shape))\n",
        "print(\"Shape of Insult: {}\".format(data.Insult.shape))"
      ],
      "execution_count": 0,
      "outputs": []
    },
    {
      "metadata": {
        "id": "slHnxpkLRCw9",
        "colab_type": "code",
        "colab": {}
      },
      "cell_type": "code",
      "source": [
        "# Check if there is any null in data\n",
        "print(\"Shape of Comment with null: {}\".format(data.Comment[data.Comment.isnull()].shape))\n",
        "print(\"Shape of Insult with null: {}\".format(data.Insult[data.Insult.isnull()].shape))\n",
        "# もしあれば、便宜上、削除する/（数値の場合）全データの平均値に取り替える"
      ],
      "execution_count": 0,
      "outputs": []
    },
    {
      "metadata": {
        "id": "ZbJOmEATGwua",
        "colab_type": "code",
        "colab": {}
      },
      "cell_type": "code",
      "source": [
        "data.info()"
      ],
      "execution_count": 0,
      "outputs": []
    },
    {
      "metadata": {
        "id": "KOIdvr1lRCxF",
        "colab_type": "code",
        "outputId": "d343f196-099c-4395-fdbd-857943484ec7",
        "colab": {
          "base_uri": "https://localhost:8080/",
          "height": 71
        }
      },
      "cell_type": "code",
      "source": [
        "import re\n",
        "regex = re.compile('[^a-zA-Z]')\n",
        "\n",
        "words_dict = []\n",
        "for string in data['Comment']:\n",
        "    words_dict = words_dict + string.split()\n",
        "    \n",
        "for i, word in enumerate(words_dict):\n",
        "    words_dict[i] = regex.sub('', word)\n",
        "    words_dict[i] = words_dict[i].lower()\n",
        "    \n",
        "words_dict = [words for words in words_dict if (words != \"\" and len(words) <= 15)]\n",
        "        \n",
        "words_dict = list(set(words_dict))\n",
        "print(len(words_dict))\n",
        "print(words_dict)"
      ],
      "execution_count": 0,
      "outputs": [
        {
          "output_type": "stream",
          "text": [
            "17829\n",
            "['jesus', 'applies', 'organics', 'nnyouve', 'layton', 'wop', 'tboned', 'biblical', 'unreelectable', 'chargesxcxa', 'broken', 'copt', 'token', 'hahahahaa', 'file', 'tuesdaynnone', 'somethingna', 'status', 'jai', 'putin', 'xanxani', 'aheadnnq', 'bark', 'regress', 'analogy', 'commentators', 'chestxa', 'surf', 'knownnbesides', 'round', 'charecter', 'fools', 'senador', 'californian', 'donit', 'visible', 'mronnproof', 'libel', 'authorities', 'thexannuananana', 'zemun', 'topic', 'membershipnnthe', 'nlong', 'borrowed', 'beginsxcxa', 'plans', 'pear', 'striaght', 'fouled', 'corrupt', 'diction', 'details', 'kinect', 'uhif', 'xcxabut', 'slavexa', 'gloyte', 'shitnmust', 'topharry', 'yankeeclipper', 'solely', 'bat', 'nice', 'guards', 'vest', 'lib', 'appoints', 'minimally', 'faster', 'dayloser', 'exam', 'apparent', 'xatoo', 'greedcommon', 'mohr', 'trolling', 'stem', 'themselves', 'days', 'bred', 'outsized', 'ricky', 'conceding', 'foolxa', 'countless', 'condom', 'diseased', 'denies', 'sexualityxcxa', 'squealing', 'remark', 'klanman', 'international', 'onthescene', 'fares', 'bastered', 'mccann', 'hunted', 'upp', 'sheening', 'idiocy', 'kp', 'freshman', 'pieobamas', 'creates', 'divk', 'planeud', 'stays', 'papuudu', 'caresnread', 'itthe', 'demoralize', 'ike', 'book', 'epoca', 'sub', 'sleepmanny', 'motto', 'prosperity', 'edutainment', 'yes', 'extended', 'nnyeah', 'embarrassing', 'consciousnees', 'san', 'deception', 'abominations', 'ok', 'professor', 'because', 'finns', 'inspiration', 'column', 'forever', 'constitution', 'formnand', 'k', 'nother', 'proxy', 'weak', 'iranian', 'smh', 'ears', 'dorms', 'chocolate', 'yoursxaand', 'perpetuating', 'klanthe', 'itxcxa', 'brooms', 'rein', 'lieutenant', 'secrets', 'even', 'judges', 'thats', 'chase', 'makes', 'amazaballs', 'ics', 'singh', 'suited', 'asian', 'apply', 'boyna', 'dudeyou', 'manufactured', 'creek', 'itself', 'xacon', 'soon', 'esa', 'cowered', 'shooter', 'stirred', 'hisher', 'base', 'frxegan', 'operations', 'ndaniel', 'jrpg', 'nnnn', 'toxicology', 'dearly', 'wowhe', 'parece', 'slamming', 'resorted', 'engaging', 'suzyxa', 'sock', 'didnt', 'shutup', 'mathematical', 'homestead', 'mods', 'election', 'methinks', 'sanctimoniously', 'assholes', 'adversary', 'douchebags', 'taught', 'omokunde', 'mocking', 'donkey', 'illegitimate', 'enjoy', 'fuccck', 'punishment', 'goodxcxa', 'bitchnno', 'prometheus', 'purposesxa', 'sunmedia', 'celts', 'cues', 'detractors', 'bushnni', 'documentary', 'hougaard', 'favoratism', 'tueec', 'skateboarding', 'hush', 'muck', 'identified', 'jsut', 'mistressnnetc', 'third', 'skilled', 'xcxanote', 'vail', 'candidates', 'adele', 'current', 'chuyxcaun', 'crrupt', 'themnxanon', 'ghw', 'mil', 'powerfulxcxa', 'somali', 'rdb', 'respondents', 'losego', 'rejoin', 'using', 'trip', 'supposed', 'purely', 'queenyif', 'doesnni', 'diuecn', 'cock', 'urchin', 'tis', 'rituals', 'cooler', 'deflect', 'courage', 'shootnmmet', 'shotand', 'insecure', 'oh', 'ngubueddi', 'surplus', 'mueang', 'secretsxaxanot', 'slashing', 'citenexactly', 'evel', 'nnthere', 'method', 'whining', 'success', 'confidence', 'roam', 'daddyhuh', 'statelevel', 'existent', 'remind', 'trumped', 'avowed', 'bitchnavande', 'noynoy', 'spamming', 'moral', 'privilegeu', 'attentiondont', 'populace', 'taken', 'josef', 'tha', 'wfd', 'nnhowever', 'peeps', 'vengefully', 'fhuck', 'orgy', 'event', 'tooxa', 'shipped', 'dismayed', 'asami', 'nthink', 'schoolxcxa', 'dramatically', 'scarily', 'fantasy', 'reproduction', 'politicsxa', 'irrelevantnnif', 'rig', 'perception', 'magnanimous', 'leavesimple', 'usas', 'outlet', 'apologize', 'democratnnsaul', 'punkbryan', 'farmers', 'karmic', 'describing', 'countednnnnif', 'giles', 'niggaenough', 'orton', 'survived', 'markakis', 'murderous', 'century', 'dumbfucktry', 'dfa', 'saline', 'obsessively', 'exercise', 'himher', 'httptcorxnmrt', 'camels', 'stockholders', 'pelota', 'asdrubal', 'wound', 'dictate', 'principles', 'anyonenhad', 'throwing', 'chance', 'axaone', 'tu', 'moby', 'athletic', 'xfxfxx', 'spare', 'lions', 'costume', 'jacqueline', 'writings', 'abortifacients', 'contstantly', 'approve', 'receipts', 'xblagusombongga', 'exemptions', 'onebyone', 'ama', 'there', 'presidentromney', 'valuennnni', 'thief', 'revealed', 'countries', 'streak', 'innocentask', 'princes', 'krusty', 'expects', 'mode', 'packerniner', 'sig', 'americansnnif', 'corp', 'viuect', 'crapnnyou', 'elated', 'greatnnso', 'needs', 'nhxe', 'trollleave', 'wayxaclosed', 'parameter', 'centrist', 'producers', 'drudge', 'track', 'saudi', 'catcher', 'somethin', 'hoursxa', 'affixed', 'independent', 'realism', 'governmental', 'copsyou', 'strays', 'russians', 'interviews', 'historically', 'shots', 'absurd', 'avengers', 'arbitrarynnthe', 'fevered', 'buttons', 'outdated', 'alessandra', 'psychopaths', 'december', 'itxexxd', 'branches', 'hills', 'oklahoma', 'suxnni', 'ey', 'kidsnnyou', 'toured', 'itxexxsntrue', 'warp', 'firenzefps', 'riffraff', 'shrugs', 'yearsbut', 'violent', 'dragged', 'rourke', 'phil', 'near', 'cutting', 'oneil', 'sox', 'rotation', 'xaterror', 'boy', 'foota', 'promises', 'brocks', 'reported', 'parenthoods', 'item', 'snsd', 'newish', 'charges', 'retract', 'shakin', 'inject', 'mix', 'tankxcxa', 'impeach', 'islam', 'endorse', 'sobering', 'coverxcxa', 'negativeanswer', 'racesxa', 'copy', 'pleasant', 'juicy', 'paposwing', 'fears', 'attorney', 'letters', 'alsoruns', 'ideology', 'newsthis', 'iubi', 'snnn', 'echo', 'occupiers', 'fruitful', 'moar', 'professors', 'caring', 'themsince', 'electrudfc', 'schmurd', 'blues', 'avoiding', 'whipping', 'santa', 'rightsignoring', 'blackman', 'legitimate', 'todaynnyoure', 'fighter', 'psychopathxcxa', 'anology', 'lynchingxa', 'powersnmonster', 'ecolax', 'wayne', 'disgusting', 'huni', 'oldfag', 'lacking', 'dancing', 'boeing', 'conflicting', 'colonial', 'businesses', 'systemxcxa', 'yismael', 'polite', 'generousnnthe', 'madison', 'hears', 'wasalwaysfor', 'nredistribute', 'defenseman', 'peoplexexxd', 'brush', 'smashed', 'throughxa', 'almighty', 'jxevla', 'sirasa', 'crouchy', 'trivializing', 'schmeichel', 'chambers', 'bitchnwith', 'awexa', 'hrxe', 'roadsides', 'unxcxaxcxathat', 'france', 'shias', 'beef', 'rabies', 'sums', 'jurk', 'usda', 'evah', 'policexcxa', 'mitch', 'chihauhaus', 'ie', 'hahahaha', 'consider', 'political', 'ting', 'tried', 'taxation', 'arc', 'parts', 'mexcxa', 'thereisnoreason', 'ferdinand', 'aap', 'thejeanrosenn', 'timethat', 'sand', 'picsnnoh', 'ceas', 'medicare', 'gustoni', 'laundry', 'children', 'tlgiguere', 'naturalization', 'entanglements', 'disadvantage', 'elbow', 'idio', 'consult', 'crosses', 'prisonxcxabill', 'you', 'evacuated', 'responsiblexcxa', 'mastercard', 'african', 'tvxertom', 'reaction', 'weets', 'chubby', 'walks', 'cpac', 'xa', 'patheticxcxa', 'broward', 'demint', 'heeded', 'awesomennsay', 'enhancing', 'slurper', 'hips', 'bexa', 'veer', 'odouche', 'bin', 'rankerthe', 'annabortion', 'wakeup', 'yeah', 'law', 'taxesxafor', 'calories', 'ambitious', 'drivernyou', 'pnk', 'blaine', 'repaired', 'owser', 'bleeding', 'uselessxcxa', 'fact', 'hou', 'executives', 'hhh', 'austerity', 'espn', 'stepped', 'itus', 'bankruptcyn', 'camoron', 'cowells', 'caps', 'queengo', 'cyberduckie', 'fiscally', 'chess', 'interesting', 'joke', 'sacramentbased', 'wroks', 'wedge', 'hindering', 'giant', 'missionstrong', 'goodnntonight', 'vandalism', 'paula', 'kagawa', 'amusement', 'happy', 'wished', 'pecker', 'guyxexx', 'onnot', 'woolwich', 'homexcxa', 'pedophilexa', 'dumbfounded', 'combine', 'overreach', 'falklands', 'baggie', 'dummy', 'federal', 'relly', 'hooker', 'congress', 'xaah', 'ulster', 'garden', 'shortened', 'hatred', 'followed', 'touchdowns', 'flatxa', 'inches', 'disappears', 'chops', 'cowhide', 'one', 'astrology', 'regulations', 'azz', 'nnpar', 'rephrase', 'rephrasennin', 'donorsdavid', 'oliver', 'boatxcxawith', 'wrongdoing', 'staten', 'vxegar', 'knees', 'beetlekill', 'construction', 'contribute', 'rome', 'centinaia', 'lolthey', 'sacred', 'thinkxa', 'sungjong', 'httpsharesqztz', 'united', 'corpo', 'outrage', 'estkill', 'inherited', 'hillbilly', 'mathsits', 'purge', 'sone', 'cesaro', 'pair', 'xaeven', 'badgering', 'transplanted', 'ay', 'charging', 'investors', 'roads', 'corporatist', 'paulis', 'pressing', 'auxilliarries', 'contributors', 'beasts', 'voter', 'working', 'margins', 'observer', 'palinesque', 'billy', 'certificate', 'debate', 'crying', 'funded', 'apprentice', 'bored', 'playaz', 'derriere', 'historia', 'orphanages', 'usawhat', 'senseless', 'yourselfgoogle', 'salman', 'continent', 'xcxawe', 'scariest', 'talkwalkdressgo', 'jumping', 'unemployment', 'whaaaa', 'assclown', 'defensive', 'xcxan', 'peta', 'unbecoming', 'lack', 'nut', 'homeless', 'ancient', 'reaaaaally', 'corndog', 'apple', 'itnngo', 'ahs', 'funniest', 'chollie', 'ufuu', 'kill', 'yacht', 'senile', 'sharpton', 'sounding', 'enlightenment', 'medborgare', 'vxeckaxaopinion', 'random', 'artist', 'cueap', 'lynch', 'leahynthe', 'jasamoah', 'rerelease', 'range', 'lmao', 'booby', 'stronghow', 'shi', 'straits', 'carolina', 'downs', 'jacker', 'temp', 'waise', 'links', 'youwhite', 'knockoffs', 'dogs', 'andersons', 'yearsnnyet', 'tennot', 'fansnnwhat', 'detain', 'darexexx', 'zuckerberg', 'flairs', 'olsen', 'music', 'libdems', 'makenn', 'grandparents', 'preshow', 'xanancy', 'mommas', 'yearsnxanits', 'therexexxd', 'potato', 'ballsxaare', 'exhausting', 'toiletsxa', 'viva', 'themselvesnnooh', 'obuma', 'httpsharesqzmxa', 'presidents', 'reidtard', 'met', 'otherwise', 'petraeus', 'joemygod', 'doubled', 'incategory', 'tel', 'tensai', 'bura', 'uranium', 'crapkiller', 'uniformed', 'inconsistent', 'tightly', 'help', 'detail', 'wifi', 'failure', 'closes', 'retardedor', 'grannys', 'gd', 'chinese', 'agents', 'charla', 'hurst', 'shelby', 'barking', 'solutions', 'penalties', 'soup', 'really', 'rear', 'plight', 'idioti', 'bltch', 'iam', 'cpa', 'royal', 'flogged', 'opinionxcxa', 'haventxcxa', 'himnxannever', 'addxcxato', 'generous', 'buckwheat', 'review', 'doingxcxa', 'issues', 'talked', 'raze', 'muedbi', 'offers', 'woweexa', 'pmendez', 'gratuity', 'tak', 'doobama', 'private', 'alexander', 'viuecc', 'jugular', 'boil', 'frustration', 'dognnremember', 'neonazism', 'larry', 'employee', 'ipad', 'tengoq', 'draconian', 'controversial', 'fit', 'caught', 'table', 'interpret', 'humour', 'doctor', 'sony', 'introduction', 'accolades', 'gods', 'supporter', 'award', 'balack', 'tokyo', 'noticed', 'clownn', 'armando', 'syndicate', 'indivudal', 'google', 'nlifestyles', 'romneys', 'reason', 'ford', 'laudio', 'xapic', 'williams', 'lifetime', 'crossed', 'racebating', 'csm', 'evry', 'bilxcxaxcxa', 'cleverest', 'shootout', 'appreciates', 'perpetuated', 'land', 'sparrows', 'npowerdeprived', 'predicts', 'tortured', 'accomplishments', 'dude', 'foreheads', 'impersonating', 'archives', 'nnlafayette', 'viewership', 'theocracies', 'poisoned', 'why', 'road', 'draws', 'sophistication', 'owners', 'ers', 'vehicles', 'womennbut', 'wholly', 'immigrant', 'decline', 'sitesnnron', 'messes', 'yorubaman', 'telentime', 'fkin', 'fraudthat', 'livesxa', 'meadows', 'sexul', 'jewsi', 'biaggi', 'laffs', 'unstable', 'selfn', 'integrated', 'unsurpassable', 'guidance', 'ayerswhat', 'kwang', 'wisdom', 'beacoup', 'twistxa', 'mahers', 'debauched', 'thingxexxd', 'homophobicxa', 'society', 'required', 'wonks', 'xao', 'execs', 'hallucinations', 'prev', 'reid', 'say', 'surley', 'andfuckedup', 'cooked', 'athleticism', 'reasons', 'isolated', 'lowlife', 'possession', 'hohos', 'beech', 'notnat', 'rattlesnake', 'chuuedng', 'uncivil', 'cuan', 'gutter', 'feelings', 'payed', 'nabari', 'solyndra', 'trigger', 'commands', 'pointnnalthough', 'pulling', 'lawmaker', 'elementary', 'srilankan', 'grudge', 'fatherthat', 'pointy', 'cardiff', 'oldnnthe', 'warriors', 'grave', 'teasing', 'xashameful', 'otis', 'likes', 'raise', 'shagging', 'joeynnthe', 'reasonably', 'notably', 'idiotarent', 'sexiest', 'educate', 'funk', 'indirectly', 'mississippi', 'misfortune', 'becasue', 'rickthey', 'xcxamix', 'loopholes', 'romennthe', 'doruri', 'about', 'books', 'mash', 'watched', 'penoso', 'hmmmnnyou', 'masses', 'entertaining', 'included', 'endure', 'asset', 'stunt', 'annavaram', 'richxa', 'bank', 'gal', 'fooledthe', 'lyonessi', 'wordnmama', 'optional', 'hampster', 'teh', 'exactly', 'inhabitants', 'icebergnive', 'brainwashed', 'trainer', 'performed', 'duecda', 'specialty', 'gant', 'watchers', 'bench', 'culprits', 'enjoyed', 'recognized', 'freaakin', 'truthnfalse', 'rielle', 'bik', 'coldplay', 'hdnaturetv', 'hussain', 'eloquently', 'alreadynkennedy', 'httpsharesqmb', 'operated', 'musicians', 'motive', 'waging', 'stormfront', 'behalf', 'context', 'tvchill', 'hihoze', 'rises', 'bestnnplease', 'torvalds', 'himplease', 'talkin', 'sweeney', 'berate', 'starving', 'eligible', 'minorities', 'sensationalist', 'announcement', 'subsaharan', 'introduce', 'bootlegging', 'marriagennyou', 'slam', 'gxecxa', 'w', 'jim', 'twos', 'repentance', 'xaroar', 'gw', 'doesxa', 'fails', 'worrisome', 'stare', 'legals', 'sullo', 'hackle', 'inexcusable', 'ufc', 'stoned', 'pour', 'yahoo', 'realistic', 'admire', 'selection', 'destined', 'christian', 'sette', 'zombies', 'suckerpunch', 'arrested', 'nirvana', 'loud', 'jackson', 'verden', 'premier', 'reflected', 'civilitynn', 'miscarried', 'patience', 'prosper', 'repealed', 'obfanxa', 'doing', 'wouldnt', 'yelling', 'carsxa', 'shitty', 'wannabe', 'weaver', 'angeles', 'deluded', 'engagement', 'apologist', 'cattttt', 'contributor', 'odumbo', 'cared', 'holyshit', 'freaking', 'understanding', 'vxelbehxfvt', 'heatley', 'likexamy', 'frozen', 'xb', 'apps', 'quoting', 'development', 'nguedi', 'creeps', 'chalupa', 'disasters', 'sucked', 'finals', 'rookie', 'escaped', 'tamrabam', 'stimulus', 'applied', 'dictionary', 'investment', 'codirectorxexx', 'counseling', 'churches', 'pumped', 'says', 'honest', 'que', 'asswhere', 'exhibited', 'perseverance', 'through', 'cheese', 'semen', 'chiuebfn', 'akp', 'nmany', 'nightmare', 'paying', 'gea', 'immutable', 'witchcraft', 'tabxannthats', 'penetrate', 'highlevel', 'keyboard', 'share', 'farm', 'blind', 'consitution', 'payroll', 'bullshitwhere', 'irrefutably', 'iheads', 'traitornnobama', 'wexexxll', 'mons', 'crawford', 'lessons', 'duality', 'tearing', 'xafox', 'wave', 'jamarcus', 'history', 'youxaare', 'pokecheck', 'soft', 'labeaus', 'proportion', 'flounder', 'kadri', 'sab', 'rangers', 'hudsons', 'compel', 'sincere', 'abandon', 'questions', 'hopelessly', 'becuase', 'prodevelopment', 'exparty', 'thermometer', 'concept', 'marvin', 'ngxenh', 'retain', 'localities', 'truely', 'xaevery', 'coles', 'refresh', 'gonzi', 'operation', 'willn', 'wau', 'attentato', 'worry', 'financially', 'gms', 'straight', 'editor', 'frequent', 'islandnnyou', 'czars', 'recieve', 'soil', 'deceive', 'click', 'europeans', 'efter', 'relevance', 'heals', 'myselfnnif', 'prowler', 'party', 'arguments', 'threatxa', 'goldstein', 'branded', 'schisms', 'thong', 'crab', 'sit', 'rxfstrxett', 'ethanol', 'deservedxexxd', 'locked', 'tactics', 'tennessee', 'defy', 'prince', 'feels', 'whenthey', 'usxa', 'pulled', 'peoplest', 'gungnir', 'transplant', 'mormon', 'rumored', 'feminists', 'nnanthony', 'afterall', 'region', 'ticked', 'deployed', 'crews', 'hup', 'sending', 'myers', 'nddiv', 'makexaan', 'logical', 'countsxexxalee', 'tedious', 'interstate', 'congratulations', 'dat', 'sycophants', 'signature', 'tax', 'jury', 'fha', 'hexexxd', 'toysoldier', 'missar', 'bout', 'latest', 'campy', 'helped', 'sodalet', 'insulting', 'milkxcxa', 'snl', 'journey', 'cannotn', 'foreign', 'nsure', 'thisnn', 'argo', 'optimists', 'experience', 'okc', 'bird', 'cousinis', 'sprint', 'dressed', 'sexualize', 'place', 'vast', 'follicles', 'skillz', 'sturridge', 'spaceni', 'refreshing', 'mmj', 'unit', 'ajumoke', 'brainntdamage', 'consumate', 'whore', 'commerce', 'cny', 'rained', 'judgesbetter', 'dime', 'roles', 'frog', 'serendipity', 'yhat', 'emontional', 'managing', 'olympics', 'ndaaxa', 'titted', 'anyonr', 'stickychin', 'oems', 'hours', 'swearxaelitist', 'chusi', 'sitesnjust', 'firexa', 'tooso', 'jones', 'rira', 'revolution', 'worryby', 'overused', 'baggins', 'versions', 'untill', 'alls', 'mailnn', 'whilst', 'photos', 'looseleaf', 'maritzburg', 'spokesperson', 'paolo', 'mentality', 'morcar', 'wonder', 'nsan', 'nationxa', 'pabaon', 'specsavers', 'barnduty', 'users', 'degenerate', 'cheques', 'o', 'beingnnadal', 'robbersobj', 'yourselfnnnot', 'youxcxa', 'overtime', 'thuec', 'marcus', 'xbfxbfxbfxbf', 'versace', 'jolly', 'handpicked', 'hotter', 'border', 'smash', 'boom', 'sellingxa', 'colored', 'nor', 'moosemuffins', 'aliens', 'vetted', 'waitxa', 'legable', 'finding', 'dbl', 'idk', 'fuckerranbir', 'loosing', 'fan', 'b', 'intend', 'sensitive', 'clawsxaand', 'start', 'suggested', 'democrats', 'acid', 'prostitution', 'amendment', 'duhnnplease', 'ackbar', 'moveonorg', 'reflection', 'managernn', 'mckennas', 'beleive', 'backgrounds', 'addressing', 'offn', 'restructuring', 'dibrubaker', 'tip', 'hole', 'detroit', 'indirect', 'sleeps', 'allergic', 'suicide', 'pentagon', 'tambuwal', 'brief', 'employed', 'ashley', 'purposely', 'corny', 'phased', 'pisstak', 'estaria', 'xaass', 'splintering', 'dirt', 'compiling', 'oppars', 'ideasbut', 'slobnufffff', 'finish', 'remorse', 'motives', 'credibility', 'tidexapaulbot', 'grandmannis', 'cute', 'reporters', 'spainnn', 'whos', 'dupes', 'ona', 'nonliberal', 'discuss', 'esi', 'trout', 'suplus', 'designed', 'dec', 'laundering', 'congressmans', 'hallxaand', 'hernnthere', 'ensignnnthen', 'theologian', 'boycitt', 'involves', 'biasd', 'dr', 'agism', 'pretender', 'assad', 'rightly', 'rightxaxa', 'olbermannxexx', 'pen', 'passion', 'caliber', 'raptor', 'fken', 'leann', 'signaturexcxa', 'exchange', 'sxe', 'dan', 'entirelynni', 'valid', 'aks', 'spurs', 'sxetter', 'marinesomeone', 'suingxcxa', 'em', 'racistnnfrom', 'manufacturers', 'dance', 'hagas', 'et', 'smoke', 'boyfriend', 'rabble', 'wasting', 'technicals', 'dislikes', 'lusts', 'goo', 'example', 'trashnnslaver', 'nonlinear', 'penis', 'faggot', 'nnred', 'advicenand', 'cord', 'offends', 'reelect', 'ohara', 'crapxa', 'medicine', 'ios', 'shape', 'youwhere', 'wshh', 'rosecolored', 'upxcxa', 'department', 'resigns', 'unto', 'submitting', 'warrior', 'freedoms', 'busy', 'wall', 'rosemont', 'ram', 'hanoi', 'immense', 'actively', 'impose', 'frank', 'muslimsxcxa', 'teapiss', 'overweight', 'despite', 'criuticism', 'sean', 'spellers', 'chosen', 'lousy', 'ultimate', 'nap', 'neediness', 'desperation', 'clearlyhmmm', 'jose', 'chef', 'ends', 'sprawling', 'condell', 'pols', 'trophies', 'secularized', 'misdirection', 'premises', 'outright', 'treatment', 'techniques', 'vxersta', 'enemys', 'episode', 'uxf', 'reside', 'morality', 'gotcha', 'oooooooooooo', 'productionxcxa', 'ammunitionnas', 'distorted', 'girlfriends', 'nurse', 'profession', 'waaaahnbut', 'reporting', 'havent', 'contain', 'meanxa', 'japan', 'cbns', 'mahstah', 'ezra', 'angry', 'strxeva', 'dedicated', 'needing', 'shotthey', 'skimpy', 'for', 'rareexpensive', 'mantra', 'ton', 'prize', 'scored', 'minimal', 'cabbage', 'conclude', 'checked', 'infrastructure', 'anyones', 'perchxa', 'pork', 'punished', 'wnnahem', 'refugees', 'excuses', 'commenters', 'agenda', 'bellow', 'apologies', 'commie', 'deepest', 'totaling', 'skins', 'rigid', 'phi', 'protestersxexxd', 'stomach', 'genetski', 'mala', 'eats', 'mezvinsky', 'utnyttja', 'laffinxa', 'homophobic', 'going', 'authority', 'christmas', 'cheney', 'daynnnnis', 'administration', 'enoughnn', 'units', 'filing', 'asswipexaluana', 'offill', 'roomsnnthat', 'stating', 'picking', 'declared', 'coach', 'advice', 'flicks', 'hockey', 'fathering', 'morechildrenn', 'xe', 'asked', 'existing', 'leighdont', 'yearxa', 'belong', 'sandusky', 'tonother', 'nnkenna', 'restaurants', 'attached', 'manufacturer', 'shuffling', 'crude', 'pollution', 'hoe', 'champions', 'faker', 'savornan', 'dross', 'xx', 'daddymention', 'beerxa', 'booty', 'dean', 'consistantly', 'whineing', 'beaks', 'hatedriven', 'vettiga', 'cigarettebetter', 'bold', 'stereotypical', 'hgis', 'lucifer', 'evidence', 'var', 'cheneyxa', 'hotand', 'termites', 'werenxexxt', 'mouthfull', 'asians', 'smacknnusing', 'isxaxalaunching', 'kinda', 'httpsharesqztk', 'healing', 'inequidad', 'overturning', 'females', 'donpardo', 'specially', 'paycheck', 'lipcu', 'huhnnnhey', 'screw', 'capito', 'constrict', 'cleansing', 'nthings', 'live', 'habitually', 'pissante', 'semper', 'sanghi', 'ever', 'petty', 'stareomgyoure', 'mexico', 'itbut', 'mets', 'provide', 'lezzies', 'minded', 'sleazy', 'sedin', 'tapes', 'cl', 'jingle', 'leveltriggered', 'washington', 'blank', 'possessed', 'mayorni', 'nnive', 'posts', 'etcnnin', 'bullets', 'waynisha', 'drop', 'russell', 'balance', 'brutally', 'concert', 'defended', 'thegop', 'professionals', 'congo', 'flies', 'outmoded', 'anyway', 'gabrielxcxa', 'technology', 'agriculture', 'numbered', 'extremesnni', 'gaga', 'pool', 'son', 'xason', 'woot', 'expensive', 'doesnut', 'overnight', 'yousaidit', 'uuec', 'cooperate', 'promoting', 'partyxa', 'baddest', 'ler', 'purposexcxa', 'hunt', 'askxaquestions', 'ejected', 'blogging', 'snip', 'backstage', 'saboteur', 'axafool', 'springxcxa', 'bith', 'strokecoronary', 'limits', 'lobbyistxexxs', 'males', 'norquist', 'keeping', 'body', 'paided', 'trillions', 'geeznnncoming', 'fakta', 'forestal', 'allra', 'therexcxa', 'constantly', 'xanwhats', 'server', 'ruth', 'slime', 'carling', 'showing', 'contra', 'pope', 'shitnnobama', 'bashed', 'again', 'roomsso', 'bradleys', 'yourselffool', 'brisket', 'packer', 'harden', 'erode', 'pokey', 'channels', 'gimme', 'moocle', 'rednosed', 'raleigh', 'suit', 'truly', 'directlyxadid', 'roach', 'yesterdayglad', 'impersonate', 'libyaxcxa', 'expansion', 'stylernrnread', 'generation', 'version', 'sword', 'telegraph', 'filled', 'ian', 'wool', 'bravo', 'diesel', 'ciertoxa', 'palms', 'redistributing', 'stock', 'newts', 'worth', 'xaread', 'outnhe', 'stxfrre', 'hurricane', 'affluent', 'beatingxa', 'abraham', 'screwing', 'goodness', 'preschool', 'user', 'xatrue', 'enhanced', 'dominant', 'kekayaanitu', 'benashamed', 'fathers', 'drivel', 'rating', 'iwe', 'senate', 'farming', 'implodes', 'toxa', 'solo', 'ucgayud', 'tranh', 'defeatobama', 'craft', 'heads', 'ec', 'articlennin', 'bow', 'nsubject', 'fell', 'dumbif', 'pitching', 'thompson', 'linennvia', 'gnu', 'retard', 'marginal', 'mugger', 'la', 'surprised', 'rationallyor', 'foxnews', 'fundraising', 'ry', 'chin', 'nxaxafuck', 'eussr', 'rant', 'stores', 'morals', 'available', 'isheeple', 'lure', 'movement', 'vigilance', 'blockquote', 'abortion', 'cisneros', 'enforcing', 'perdio', 'comical', 'lookin', 'itnnget', 'ahahahahah', 'faggotnnshow', 'afucking', 'unfair', 'almost', 'parallels', 'costs', 'usualxawexamust', 'snap', 'shitnthe', 'debt', 'bushwhackers', 'stranger', 'pollak', 'rightnntell', 'sprinkled', 'lastxcxa', 'arexaalways', 'declined', 'tomatoes', 'behaved', 'hacknbsp', 'toyota', 'babiesxexx', 'alien', 'neverending', 'nhand', 'capabilities', 'covgrats', 'prenatal', 'emcxaxa', 'female', 'tells', 'awakens', 'demands', 'finally', 'win', 'demanded', 'quel', 'mb', 'bite', 'water', 'thencenter', 'fallacy', 'klux', 'impact', 'backlash', 'lol', 'species', 'strict', 'outlets', 'audience', 'polarizing', 'non', 'email', 'approachingxa', 'ipods', 'bullshitnnnoh', 'keystone', 'pooch', 'requires', 'applegadget', 'dodger', 'assxa', 'barroso', 'discards', 'selfish', 'cent', 'crimes', 'nstudents', 'antilib', 'genetically', 'lemay', 'minst', 'elmer', 'lords', 'berlusconi', 'newcastle', 'litt', 'likeable', 'lolnxcxa', 'mandingo', 'prioritize', 'vettedxa', 'insurance', 'liking', 'sees', 'newspapers', 'word', 'buecn', 'retardation', 'certain', 'gota', 'smarter', 'well', 'listsnnhow', 'faggots', 'grand', 'gang', 'pregnant', 'alenlemone', 'focus', 'hanging', 'dullus', 'raised', 'returnxaagain', 'simpsons', 'lsu', 'lastminutemandy', 'ail', 'vehicular', 'gotnno', 'mistake', 'smoked', 'cs', 'actsxcxahasnt', 'funnymorning', 'runnxcxa', 'inga', 'redsox', 'respectable', 'prejudice', 'nndallas', 'logicnnno', 'solution', 'fielding', 'bimbo', 'hour', 'jerome', 'obammmy', 'dom', 'xaplus', 'phucking', 'jag', 'molester', 'kardashian', 'sabrosearselos', 'werent', 'xahow', 'bitchnigga', 'pujols', 'victim', 'gussa', 'transfers', 'ritual', 'acknowledge', 'sgr', 'rostitute', 'happenxexxdxcxa', 'flat', 'openings', 'thq', 'murk', 'opposition', 'mein', 'racketeering', 'itn', 'israel', 'gallons', 'immaculate', 'andyou', 'burnerhas', 'moron', 'flag', 'brewer', 'pains', 'barbarians', 'julissa', 'gran', 'fee', 'sitting', 'amazzzzing', 'robin', 'minionsyou', 'chiggers', 'whooped', 'early', 'gop', 'focused', 'obese', 'flattery', 'humongous', 'alone', 'familia', 'humanity', 'filtyhm', 'donald', 'doo', 'kurt', 'tupid', 'davids', 'rahegi', 'mrl', 'eyed', 'inbred', 'peke', 'neutral', 'kerrys', 'teamni', 'duckits', 'jordan', 'across', 'viewers', 'whims', 'cowering', 'allowing', 'snarky', 'preferences', 'fingers', 'rife', 'crazy', 'reined', 'nigs', 'veins', 'ahead', 'pathological', 'look', 'barnunga', 'finds', 'watersxexx', 'acordxe', 'fukuoka', 'xaon', 'strikeout', 'differentufeff', 'scares', 'cockneyslimboy', 'mateslets', 'fals', 'hahahahahahann', 'ewethinking', 'billionnnjust', 'thisnwishful', 'panties', 'pacifier', 'soldier', 'jab', 'misspelling', 'compass', 'multi', 'preachy', 'travisxa', 'intimations', 'duckie', 'cause', 'bandwagon', 'sa', 'grammatical', 'peppers', 'gnashers', 'unemployedxcxa', 'signatures', 'verbally', 'rax', 'dumber', 'ties', 'science', 'expression', 'outcome', 'terry', 'stupider', 'heus', 'counts', 'nigger', 'greeks', 'kkknnafter', 'canxexxt', 'eaaaaaat', 'agency', 'angel', 'nnmost', 'expecting', 'apologizing', 'yep', 'union', 'merchants', 'epsnyour', 'bitched', 'heterosexual', 'panel', 'dem', 'steady', 'dropping', 'meg', 'teachers', 'againnnpack', 'baseless', 'huhyou', 'isxcxascary', 'mood', 'boatloads', 'lineage', 'vaders', 'veryxavery', 'recently', 'fdr', 'nevoie', 'lose', 'chronic', 'goingxa', 'consideration', 'morteza', 'taste', 'thexanextxa', 'jon', 'schools', 'senators', 'enableroh', 'illegalnhands', 'strongme', 'luean', 'nwouldnt', 'juegan', 'relationship', 'truecb', 'slaughtered', 'bruh', 'nnsure', 'hai', 'garagexcxa', 'tripped', 'chronically', 'exercising', 'nncould', 'videonnpeople', 'dimwitted', 'fanatics', 'regressed', 'div', 'approvel', 'reaching', 'alivennits', 'revelations', 'absurdumnatt', 'signore', 'sweetpuke', 'xeates', 'intern', 'pimpi', 'directing', 'onennbut', 'brob', 'turnovers', 'guys', 'slot', 'team', 'detroiters', 'media', 'nxcxa', 'hijack', 'russian', 'projects', 'dimwit', 'whatsoever', 'regarding', 'threaten', 'hatefull', 'itnnthis', 'bookend', 'mediamatters', 'verified', 'etc', 'months', 'operative', 'xayou', 'mccain', 'adept', 'judg', 'mugabe', 'bet', 'garfieldis', 'wholesome', 'than', 'weirdo', 'glasses', 'fought', 'bust', 'aressted', 'beagle', 'worlds', 'heyday', 'postage', 'cakennwords', 'bleach', 'thinks', 'helpsbut', 'folklore', 'sandy', 'cited', 'lyndon', 'yrsthis', 'include', 'cy', 'off', 'imo', 'upnnwin', 'cavity', 'wednesday', 'isolationist', 'teambring', 'assholeand', 'neymarnnmata', 'drowning', 'shaolin', 'correctxcxathe', 'analysis', 'fuuk', 'packaging', 'babynni', 'unintelligent', 'possibly', 'halladay', 'realities', 'hip', 'province', 'drroppn', 'asxagay', 'fertilizante', 'xcxaxcxa', 'santos', 'harming', 'damage', 'limber', 'retardnnwhat', 'buedfi', 'representatives', 'redsnw', 'knocking', 'faktiskt', 'upnnthis', 'probar', 'peopleits', 'unsophisticated', 'armiesnnthe', 'vote', 'korthet', 'definately', 'calmer', 'coun', 'sykora', 'pa', 'opposing', 'personal', 'att', 'signs', 'addiction', 'marriage', 'dressesits', 'xexx', 'ui', 'chxfang', 'homer', 'smithereens', 'labor', 'widening', 'huhnnmany', 'southerners', 'stormer', 'seexathe', 'pickers', 'cubansnot', 'yolo', 'overxa', 'admitting', 'tucker', 'wax', 'encourage', 'grass', 'haha', 'listenxa', 'betting', 'ironlung', 'trivial', 'sodium', 'hold', 'spread', 'pompous', 'invasions', 'npsychology', 'buch', 'inlaws', 'eithernnflorio', 'financing', 'lavish', 'houseof', 'west', 'surely', 'uuuup', 'fok', 'beeaner', 'toots', 'solace', 'dnt', 'arum', 'founded', 'bailey', 'atl', 'rick', 'glea', 'avenue', 'leech', 'primary', 'effective', 'mohamed', 'relative', 'catches', 'neka', 'leaderless', 'tho', 'huecdc', 'rerun', 'regionnnbtw', 'rewatch', 'mean', 'windfall', 'kara', 'thought', 'nowxanni', 'hatband', 'extender', 'sentiment', 'frowned', 'easier', 'competitor', 'centrality', 'oldnnyeah', 'antagonize', 'tacticsxanlolxa', 'authentic', 'spotn', 'objectionable', 'muthafucka', 'secure', 'inte', 'or', 'gravy', 'provider', 'interestsxcxa', 'uxey', 'handwritten', 'tyrants', 'detonate', 'jhc', 'governance', 'satan', 'bits', 'genius', 'sigh', 'punch', 'like', 'mainers', 'swat', 'objectives', 'soooo', 'britany', 'former', 'conform', 'abs', 'wongannwonga', 'politics', 'seen', 'sellout', 'rescuexcxagoing', 'nnthank', 'damnnear', 'networknnleave', 'conversation', 'socialists', 'samma', 'btch', 'gutless', 'smithsonianxcxa', 'shiite', 'gay', 'removexamubarak', 'violence', 'now', 'falwell', 'families', 'homosexuality', 'organizations', 'directions', 'bias', 'nspeech', 'strings', 'intestines', 'sensiblemoms', 'clearxa', 'thcentury', 'hardcore', 'shouldnt', 'pixels', 'punk', 'famiy', 'ixcxacum', 'nielsen', 'comedy', 'thereafter', 'thatnthe', 'constitutionxa', 'hangs', 'crticizing', 'carl', 'rinneganso', 'sicko', 'glued', 'debacle', 'pubs', 'namexa', 'powell', 'nothingxcxa', 'trueebng', 'gas', 'cht', 'younsay', 'clients', 'bagger', 'girls', 'nngame', 'used', 'squad', 'irish', 'recall', 'proved', 'hacer', 'carterxexx', 'converts', 'deserves', 'dues', 'os', 'naplico', 'arrest', 'clap', 'cancels', 'netsxcxawhen', 'sharpxamy', 'still', 'deliver', 'skanky', 'waiste', 'references', 'teabagger', 'raped', 'craze', 'contribution', 'dehumanised', 'jeremy', 'nnperhaps', 'wayyyyy', 'bachao', 'aww', 'lady', 'syrians', 'barca', 'vi', 'shortfall', 'childs', 'smearedsxhit', 'fill', 'en', 'axablack', 'leno', 'medborgarskap', 'phones', 'received', 'ridence', 'airing', 'furnish', 'declare', 'putz', 'dangerous', 'truthfully', 'rapexa', 'personified', 'cassie', 'wheres', 'strong', 'sentencexa', 'freaks', 'panja', 'aratsass', 'sandow', 'grew', 'llamada', 'fired', 'prolly', 'viin', 'manifest', 'august', 'maywheather', 'dantm', 'deconstruction', 'shrinking', 'pops', 'follownn', 'bettie', 'berreta', 'reson', 'followers', 'elequently', 'repliesnnand', 'rxettspatos', 'thueay', 'print', 'comparisons', 'on', 'asigned', 'fukn', 'protein', 'dogwe', 'lockheed', 'pos', 'shippuden', 'chickens', 'younnthere', 'stamina', 'clownish', 'dam', 'steve', 'musicnmy', 'fstaff', 'wayngp', 'booze', 'hope', 'pro', 'arehope', 'classified', 'alliance', 'bottle', 'dueebng', 'uxa', 'peternnyou', 'swindle', 'bil', 'holevagina', 'mile', 'c', 'aspergarennnjag', 'reversed', 'assed', 'nerves', 'rajasthan', 'firms', 'nnobviously', 'delusion', 'bidrigging', 'doesntnnand', 'relish', 'extent', 'xatheyre', 'own', 'noncapital', 'dlulu', 'sandynof', 'jdstorm', 'condoms', 'hookers', 'hatersuhaters', 'having', 'forreal', 'crop', 'electoral', 'sooo', 'screamed', 'chickenlittles', 'cardboard', 'younnow', 'fellown', 'polluting', 'personas', 'candidness', 'tooi', 'postxcxaobama', 'nto', 'gpb', 'buying', 'dealers', 'seenseennand', 'aleisterhyde', 'dealntony', 'glenwood', 'issa', 'warn', 'recover', 'educated', 'officially', 'enundrxalolyou', 'ourselves', 'gamed', 'mistrzem', 'tvnninstead', 'returned', 'rebecca', 'sones', 'murdouchebag', 'hasil', 'gaming', 'zeshkanen', 'commentato', 'dumpoff', 'sparked', 'appalachians', 'kendollnnand', 'surpassed', 'threwi', 'downvoted', 'youxannyou', 'congresswoman', 'nonresidents', 'strongly', 'capable', 'complete', 'protects', 'towho', 'serve', 'persecuted', 'amount', 'billboard', 'megaphone', 'sarkozy', 'islamophobes', 'emptied', 'language', 'electionxa', 'menarxakanske', 'forse', 'upper', 'hardsxcxathey', 'menstrual', 'involvement', 'chunti', 'withdrawal', 'growapair', 'aunq', 'row', 'hbo', 'separation', 'cafeteria', 'speeches', 'reputation', 'soreness', 'spearnany', 'beeline', 'timeu', 'counrty', 'campus', 'speaks', 'mighty', 'platte', 'unthinkable', 'gta', 'wetbacks', 'wouldt', 'inferno', 'wreaked', 'leftxexxs', 'solid', 'xexxcmurray', 'mike', 'dickloland', 'libsdems', 'nnnnif', 'biblexcxa', 'although', 'parent', 'houebc', 'salem', 'plaintiff', 'darren', 'kempnnend', 'solvency', 'beard', 'toostupid', 'mickey', 'sacan', 'hoursnnit', 'thier', 'knowitallswho', 'khi', 'whites', 'oswalt', 'exluding', 'likexcxai', 'idiotsxa', 'renewable', 'monetary', 'fundraiser', 'burt', 'antiwar', 'establish', 'gina', 'schlongs', 'madcow', 'stories', 'guiding', 'precipitate', 'coaches', 'clintonn', 'alcohol', 'violation', 'systemic', 'lens', 'tonnit', 'its', 'kicker', 'restnyou', 'tubing', 'inserted', 'dumbest', 'thuebb', 'foxtard', 'excitement', 'fuckstain', 'bombings', 'ownership', 'allnterrible', 'rabbits', 'screaming', 'foreskin', 'trait', 'gamenwherever', 'plow', 'titanium', 'nakednand', 'afrika', 'tires', 'belief', 'speculate', 'lip', 'whiny', 'sudsyxa', 'onesxaand', 'hightail', 'nutsnnepaus', 'stagnant', 'newtfoxnewsall', 'pace', 'case', 'spruce', 'deportationxa', 'argentinean', 'glue', 'material', 'predicted', 'rogueshouse', 'bob', 'toolbag', 'jb', 'aztlan', 'liennshow', 'websites', 'senatorelect', 'rooting', 'npurpose', 'xcxaits', 'detention', 'upxaxa', 'beertypical', 'pond', 'romneycare', 'desired', 'ushe', 'rite', 'square', 'bxfr', 'losennregional', 'change', 'inhofe', 'bo', 'xaxaorby', 'mentions', 'neither', 'motherfuckers', 'wrongnnthe', 'cooke', 'thot', 'feces', 'boo', 'httptcolismacd', 'everyone', 'lackingnnn', 'hike', 'commanded', 'touches', 'revenge', 'if', 'cop', 'disqus', 'household', 'gorgeous', 'learn', 'cinema', 'twiceonce', 'different', 'tantos', 'charge', 'cydiann', 'spinal', 'duxburianxa', 'miming', 'murder', 'calculated', 'property', 'tubueeng', 'atxathe', 'obtuviera', 'utterly', 'threatened', 'ethics', 'clothes', 'winning', 'possibilities', 'kinh', 'socialxa', 'forget', 'indoctrinate', 'rebellious', 'documentation', 'edgyxcxa', 'httptcopxnqy', 'including', 'chuckle', 'elsenbig', 'paccording', 'responds', 'smelled', 'cars', 'ncaa', 'batterys', 'gaza', 'irreplacable', 'cheating', 'greecena', 'dik', 'farny', 'ss', 'times', 'mislabel', 'moore', 'billionaire', 'dirty', 'aimless', 'choosing', 'sipping', 'farz', 'denominatorxcxa', 'hiuecn', 'yearuregardless', 'achievementsbut', 'busted', 'produced', 'unimaginative', 'hennvideo', 'rice', 'independence', 'definitely', 'yesbut', 'uncle', 'scavenger', 'malkin', 'obsession', 'coney', 'liar', 'pay', 'basturd', 'impacted', 'pension', 'virginity', 'allxa', 'jeffreednwhat', 'innovative', 'temple', 'requested', 'unplug', 'ugh', 'banana', 'swgadawg', 'talker', 'toosmh', 'mrs', 'assfuckery', 'libtards', 'strike', 'remain', 'admiral', 'fromnn', 'new', 'radio', 'sucka', 'loans', 'rager', 'christina', 'teams', 'younlive', 'likedeven', 'promotion', 'habit', 'crackpot', 'hadnlove', 'featuring', 'spuds', 'nameless', 'kohn', 'denying', 'distorting', 'restitution', 'chair', 'jats', 'gullah', 'fraken', 'eived', 'aid', 'asss', 'release', 'bitnofftopic', 'budget', 'brings', 'drums', 'nonetheless', 'redeeming', 'knewxa', 'adults', 'bli', 'arrange', 'church', 'reaps', 'backnrather', 'drinking', 'submit', 'sort', 'havennresult', 'glorified', 'spirit', 'ponyfags', 'prosecute', 'lettuce', 'fwake', 'tent', 'posters', 'week', 'nonsense', 'vxei', 'disproved', 'sh', 'thatnot', 'victims', 'nel', 'hairy', 'subjects', 'unions', 'minority', 'weep', 'national', 'ready', 'lauren', 'allan', 'thoughthe', 'debating', 'swarming', 'q', 'sting', 'redemption', 'cueto', 'yawz', 'plotted', 'stunning', 'corral', 'ad', 'bhai', 'seahawks', 'largest', 'beliefsnnmake', 'mornin', 'pulse', 'themus', 'adhocits', 'ufreedomu', 'notnn', 'siri', 'impeached', 'perjury', 'indentured', 'wrent', 'bigger', 'everkaty', 'prices', 'stevenglens', 'commentsxa', 'museum', 'dnc', 'existence', 'suarez', 'anyday', 'creditnnnor', 'peoplexa', 'awkward', 'tony', 'wwrote', 'syrian', 'freestyling', 'mechanized', 'registration', 'something', 'comprar', 'hostile', 'faulty', 'httptcoyqdpnkvm', 'proper', 'demonstrate', 'contamination', 'latters', 'sayingnnout', 'ivery', 'regis', 'takeover', 'putnam', 'heador', 'wolf', 'heading', 'goes', 'believer', 'committee', 'libby', 'illinois', 'talentless', 'truthincaps', 'dogtags', 'enoughnloney', 'wonderful', 'adminstration', 'emmit', 'aids', 'djs', 'plays', 'submission', 'champion', 'battling', 'accessible', 'provoking', 'christensen', 'kuyt', 'yoursxa', 'permission', 'croatians', 'wipe', 'bcos', 'massachusetts', 'xexxcwalker', 'xexxcmultiple', 'kemp', 'per', 'againnn', 'her', 'loss', 'toolbars', 'uygar', 'detect', 'jasamoahnnand', 'krja', 'hahah', 'inquirer', 'showxa', 'bought', 'bteer', 'classify', 'distort', 'calling', 'waaaaaaaaaa', 'collect', 'talk', 'monstrous', 'klans', 'split', 'since', 're', 'main', 'honor', 'organizer', 'erin', 'pathxcxa', 'presidentbut', 'liberazione', 'charisma', 'could', 'pointnbsp', 'jsmasternngod', 'dezzy', 'bacteria', 'nbillboard', 'wearing', 'slots', 'warmongers', 'redeploy', 'options', 'khxfng', 'earned', 'potatoes', 'herekinda', 'confidently', 'wrestlers', 'crapud', 'reduce', 'salt', 'dixie', 'models', 'philip', 'cretin', 'lines', 'justifiable', 'nque', 'behavoir', 'bbq', 'confusing', 'ther', 'abide', 'slowpoke', 'negatives', 'among', 'armyin', 'togetherxannhow', 'shackles', 'millionxa', 'schnitt', 'propgate', 'trillion', 'regardnnive', 'manlet', 'arborists', 'negative', 'wisconsinites', 'kleefisch', 'lining', 'nni', 'toxasound', 'xexxcwe', 'forbid', 'periods', 'flakes', 'delegated', 'leadership', 'nnmiro', 'frxegor', 'warxcxa', 'distinct', 'allxcxannthe', 'bullshyt', 'shitstirring', 'sack', 'lefts', 'bxen', 'except', 'newcomers', 'remington', 'dxaxaxaxa', 'danco', 'somebody', 'xcxaworse', 'moreover', 'breathing', 'sulking', 'rangennrogers', 'beverages', 'condemn', 'brownie', 'm', 'obamannmy', 'delle', 'feely', 'fare', 'listens', 'ridiculousness', 'reform', 'workforce', 'shy', 'prolife', 'web', 'dayslmaonow', 'thousand', 'votesxcxa', 'skin', 'tampering', 'provoke', 'torricelli', 'reconvention', 'huck', 'thry', 'savage', 'salga', 'mmo', 'oranges', 'reward', 'left', 'xcxaare', 'terrific', 'soften', 'canadiansxa', 'doofusxcxa', 'contantoxa', 'wellxa', 'ox', 'mismoxa', 'vuxna', 'tooeverybody', 'bexcxa', 'beyond', 'proclaimation', 'xapeoples', 'spurred', 'sachin', 'nj', 'conference', 'punched', 'beingxa', 'trusted', 'schizophrenia', 'vill', 'impersonates', 'seek', 'minister', 'chrisitans', 'thickos', 'kerry', 'managers', 'returns', 'pointnnnnso', 'parole', 'mechanics', 'serbian', 'watchdog', 'serious', 'wistful', 'sore', 'jo', 'thisn', 'nhueadt', 'are', 'hormuz', 'jewhatred', 'politically', 'lenses', 'armies', 'islamist', 'best', 'asad', 'schoolswotnnno', 'nar', 'cuban', 'buffoon', 'maggots', 'religionxcxa', 'underlying', 'nights', 'monosyllables', 'todaynnon', 'theirxanot', 'nativeborn', 'impacts', 'hen', 'story', 'lyftes', 'distribute', 'eventsnnhmmm', 'fops', 'oyur', 'ocelot', 'alll', 'officejohn', 'captured', 'got', 'downby', 'fraudand', 'candy', 'liberalism', 'ridiculously', 'bon', 'deeply', 'uxeu', 'europe', 'gutierrez', 'nurses', 'dreqe', 'trains', 'younget', 'txfi', 'supply', 'lettersnnof', 'ett', 'may', 'seriously', 'rep', 'cupnnare', 'appears', 'should', 'control', 'inspect', 'thwarting', 'elway', 'andnothers', 'allkpop', 'background', 'zoo', 'speculations', 'politicos', 'nigel', 'coursexexxa', 'advocating', 'unwritten', 'nikestorw', 'scousers', 'pearce', 'thexa', 'famewhore', 'progresses', 'mp', 'parity', 'grievance', 'wbengal', 'somalia', 'knife', 'kidding', 'peeing', 'contend', 'royalty', 'golden', 'compatible', 'precist', 'verifying', 'bitchesnnjust', 'penn', 'hands', 'tempi', 'uchorrible', 'mia', 'programming', 'stomping', 'trues', 'cliccato', 'eyelits', 'avg', 'degrading', 'standard', 'puritan', 'vika', 'unnoticed', 'acquired', 'behaviour', 'names', 'treatments', 'valuesnnim', 'trends', 'fabian', 'reflects', 'manuever', 'colour', 'bmeet', 'requests', 'basher', 'xann', 'washingtons', 'reasoned', 'loudly', 'native', 'lawsuits', 'xcxawhere', 'groping', 'arab', 'comparative', 'chiefs', 'thatstupid', 'uproar', 'upsets', 'personnelxcxa', 'tremendously', 'dramatic', 'site', 'extreme', 's', 'flap', 'lxe', 'episodes', 'action', 'correctness', 'harry', 'supplying', 'wartime', 'poorest', 'firesmoke', 'luxury', 'deliveryxa', 'planxcxa', 'outlawing', 'superficial', 'lindie', 'somewhere', 'encourages', 'decorating', 'framtid', 'fixed', 'disappearednn', 'nxetet', 'shaves', 'undefeated', 'rocksucker', 'seasoned', 'beckel', 'reports', 'instantly', 'shut', 'barrett', 'yourselvesyou', 'defication', 'drew', 'epl', 'blur', 'neil', 'speed', 'qualities', 'bstructionism', 'unlimited', 'teatards', 'rollers', 'homesnoh', 'thnk', 'unfit', 'detailed', 'alonehell', 'hulu', 'rise', 'comfronting', 'het', 'xathen', 'behaviornnno', 'paxton', 'potter', 'product', 'invertebrate', 'oxygen', 'niers', 'quello', 'skank', 'settled', 'liability', 'ging', 'tens', 'vin', 'nearly', 'fuckingliberal', 'pawan', 'pd', 'safe', 'lepuxedho', 'nastasha', 'shallots', 'warmth', 'mormonsand', 'zobrist', 'gangsta', 'arseanal', 'suy', 'socalist', 'okayed', 'sight', 'widgets', 'toni', 'coverage', 'overwhelming', 'nbluess', 'grown', 'hatersyall', 'ultimately', 'demand', 'grenade', 'biker', 'anti', 'booing', 'fewer', 'bao', 'both', 'writing', 'shitdude', 'earn', 'liabilities', 'invalid', 'fourght', 'programs', 'fuckers', 'hangings', 'robyoure', 'falters', 'commandnothing', 'easy', 'foil', 'judson', 'social', 'parasites', 'stockton', 'vomit', 'bound', 'increase', 'vraiment', 'bollocks', 'videotape', 'arguements', 'preferable', 'clan', 'shares', 'killers', 'shes', 'enthusiasm', 'nnwake', 'jepardise', 'cup', 'tyga', 'builds', 'compelled', 'offer', 'obj', 'actorif', 'shriners', 'likexa', 'svxengarna', 'edgetriggered', 'commenterxa', 'mvslim', 'jsdavis', 'hendry', 'xexxcour', 'troll', 'chueec', 'rocks', 'wetshoes', 'antigay', 'pointsnnall', 'sequence', 'mercyless', 'assnif', 'banger', 'predators', 'yall', 'creator', 'stupidxa', 'whatever', 'mignon', 'nnpersonally', 'basically', 'banged', 'manber', 'vernacular', 'indicted', 'davidson', 'statesxcxa', 'choses', 'projected', 'judaisms', 'backtoback', 'whyn', 'mofo', 'meireles', 'el', 'classic', 'forrester', 'nh', 'butterednni', 'alienating', 'preventing', 'staffnnbeware', 'roarxcxa', 'dayni', 'launch', 'hezbollahxcxa', 'records', 'cnt', 'amused', 'anywayit', 'rallies', 'intentionally', 'objects', 'keeperneh', 'reportersor', 'glossy', 'generally', 'meaning', 'wanda', 'concentration', 'fuk', 'wants', 'slate', 'gretzky', 'doctors', 'againxaxa', 'timepackage', 'uauuau', 'festa', 'kickin', 'groppo', 'wait', 'neighboring', 'whingerxa', 'injection', 'plutocrats', 'berger', 'criminally', 'perfect', 'waitingxa', 'exorcism', 'fairy', 'booted', 'eventually', 'thatxa', 'chainsawb', 'rube', 'apa', 'famous', 'beautifulnna', 'thanks', 'messyits', 'stamped', 'cp', 'abslutely', 'mortician', 'triple', 'natural', 'whats', 'bro', 'revolver', 'spouting', 'defense', 'wellrounded', 'finxaill', 'arsehole', 'dogtwon', 'meh', 'fluke', 'doen', 'above', 'scots', 'griffith', 'sailors', 'comparison', 'jihadist', 'substantiate', 'emtsxa', 'yea', 'j', 'referendum', 'impressions', 'knowxa', 'begin', 'apoplectic', 'xashit', 'retardxa', 'servers', 'samesex', 'yeti', 'dats', 'healthyxcxa', 'kooldont', 'abort', 'nationals', 'shelves', 'axacopy', 'upcoming', 'yal', 'httpgooglois', 'brains', 'rebuttal', 'loot', 'grind', 'buean', 'suo', 'percenter', 'bihar', 'write', 'clonennbut', 'glove', 'defending', 'hahaha', 'stopped', 'tinfoil', 'achieve', 'mw', 'mau', 'rates', 'paizon', 'merci', 'rotten', 'forces', 'sheffield', 'womans', 'alcoholic', 'claim', 'httpsharesqiai', 'fellow', 'packed', 'usc', 'isxaone', 'nrewritten', 'consoles', 'alliances', 'screeching', 'dansen', 'faggotyass', 'riddance', 'sisterly', 'woodsnthe', 'philosophies', 'shakeoutn', 'answer', 'realityxa', 'tenias', 'irene', 'corporation', 'puke', 'zealotsnnplease', 'dl', 'doomsday', 'petting', 'todaynthe', 'meddling', 'fast', 'boiling', 'simply', 'trxeinxaxa', 'rank', 'carpeting', 'gxfra', 'shitt', 'appearing', 'commies', 'speechless', 'abstaining', 'offering', 'cofounded', 'proposal', 'herring', 'yorkxcxaxcxa', 'reject', 'cater', 'timberwolves', 'organisation', 'date', 'picked', 'scene', 'originally', 'hong', 'greedy', 'incurable', 'hotest', 'english', 'utilisation', 'nnwhere', 'sheriff', 'notxabased', 'sits', 'theory', 'vp', 'rcae', 'regulators', 'fcuk', 'internnthese', 'bulldyke', 'relatives', 'swearnnpssstyou', 'opero', 'bannedxabecause', 'settings', 'valve', 'nancy', 'workin', 'autumn', 'otra', 'koi', 'failed', 'inherit', 'olimpiadi', 'justthefax', 'symbols', 'softly', 'god', 'mobile', 'reggies', 'picturesenergy', 'pats', 'hilly', 'broke', 'nnarshavin', 'cocksucking', 'rapper', 'describe', 'rapistxa', 'nay', 'fourteenth', 'frattin', 'darfurnnlets', 'registers', 'dies', 'headsnnholder', 'keesters', 'formed', 'restrict', 'embassy', 'bore', 'comin', 'futuretime', 'howre', 'xcxai', 'mstoogoodyall', 'dea', 'shooters', 'lifestyles', 'chit', 'nbaltimore', 'xaxa', 'whereabouts', 'otto', 'morningxcxa', 'also', 'xaan', 'vons', 'ideological', 'exec', 'obamanfunny', 'doll', 'permament', 'overduexa', 'cultres', 'nnfrom', 'anyways', 'ndoesnt', 'deported', 'final', 'winneys', 'previous', 'thxec', 'tennis', 'playboy', 'wring', 'containchinese', 'withxauuuauu', 'tbone', 'prevail', 'hoot', 'folks', 'trashed', 'beatles', 'thumb', 'woud', 'phyne', 'classs', 'der', 'grey', 'murders', 'pola', 'pleasure', 'retards', 'badhawa', 'putrid', 'griffin', 'njejti', 'oath', 'islamisten', 'dp', 'spoiled', 'hokey', 'arriving', 'persecution', 'neithernndo', 'feigle', 'venom', 'sounds', 'laced', 'subjunctive', 'vibrations', 'low', 'return', 'powkat', 'wage', 'idiotnbsp', 'departments', 'kit', 'amoral', 'temper', 'getsnnby', 'certifictae', 'slim', 'harambee', 'manga', 'trusting', 'doyle', 'xannnnevery', 'regards', 'soch', 'skolpolitik', 'xaracial', 'cena', 'herhes', 'testament', 'dback', 'doors', 'sweetheart', 'ref', 'madden', 'champs', 'liarsnnyou', 'assfaggot', 'appease', 'executed', 'n', 'brag', 'malcontents', 'qualified', 'referencing', 'thiu', 'imaginary', 'counters', 'course', 'progressive', 'meta', 'hominem', 'droger', 'twitter', 'era', 'xetxe', 'worcester', 'barrettmarson', 'accurate', 'instrument', 'william', 'sportscaster', 'personand', 'ninto', 'subplot', 'alsum', 'peersnyou', 'million', 'downi', 'eyeballs', 'muut', 'eres', 'cung', 'sevenyear', 'zebra', 'warrant', 'uglyandpoor', 'controversy', 'thexanand', 'hxem', 'pu', 'cassandrablack', 'kathyxa', 'bullys', 'adversaries', 'luxfn', 'httpsharesqcygh', 'portal', 'havexannnnot', 'outna', 'arexa', 'nilbymouth', 'eww', 'weull', 'spanked', 'ucamerican', 'playcalling', 'winsthat', 'training', 'trygon', 'uj', 'usausa', 'allxaas', 'occupy', 'anycockll', 'documents', 'referring', 'terds', 'ka', 'anything', 'animals', 'meur', 'hamno', 'stevego', 'fuckdamn', 'sigfrid', 'decided', 'violations', 'bitching', 'storybasically', 'da', 'boss', 'ladies', 'positions', 'videogame', 'mealtime', 'ironing', 'denna', 'eyebrow', 'penas', 'tara', 'assnnthere', 'shoesxa', 'obtain', 'toya', 'makerxa', 'tailwhips', 'wellnn', 'premature', 'sum', 'communication', 'theocratic', 'injured', 'inversion', 'fires', 'atvcarxa', 'wetdayum', 'politeness', 'publicly', 'monsters', 'tibetansxcxa', 'weuve', 'takes', 'sothe', 'overnnhes', 'bballplayer', 'elizabeth', 'bankruptcies', 'cueea', 'haney', 'dyke', 'du', 'enoch', 'imposition', 'nationwide', 'franklin', 'star', 'flattered', 'unplanned', 'baboon', 'whitefish', 'april', 'suggest', 'niv', 'bribe', 'liken', 'maternity', 'website', 'urination', 'commission', 'awesome', 'stealling', 'daddies', 'rehabilitate', 'devotedly', 'sxa', 'halfbirdlike', 'goodxa', 'teeth', 'founding', 'wthat', 'nclearly', 'ct', 'peanuts', 'loaded', 'bedxa', 'othersnnyou', 'gabby', 'xanbc', 'democracynow', 'rec', 'coded', 'himhas', 'move', 'dye', 'residents', 'deathnnmatthew', 'ideologyni', 'sentenced', 'pleaded', 'sidneycatsby', 'strongobama', 'zooey', 'crap', 'pathetically', 'disposal', 'unleashed', 'gungongoon', 'besleaga', 'tin', 'curveball', 'delicious', 'twisted', 'trollness', 'cultural', 'requiring', 'angrys', 'sloth', 'amends', 'merchandise', 'celebrities', 'criticized', 'christyrubio', 'lucrative', 'thoughs', 'dickxa', 'taprnrndick', 'hoy', 'nwhether', 'sei', 'forgive', 'fouls', 'goodnthis', 'missa', 'rogue', 'americas', 'cristina', 'nikky', 'likeometer', 'ban', 'accuse', 'swtor', 'seat', 'reared', 'ridexagive', 'filmmaker', 'sxetillvida', 'zobianas', 'others', 'collective', 'azzcrack', 'gne', 'pua', 'nneed', 'questionable', 'officer', 'medications', 'ihurt', 'mcdonnell', 'albumnnfor', 'suckernndoc', 'lesser', 'slims', 'entering', 'redford', 'ten', 'lives', 'hear', 'completely', 'kmonth', 'nu', 'harder', 'protecting', 'retardbefore', 'annual', 'sailor', 'sent', 'distroyed', 'djj', 'cowritten', 'latinos', 'donuts', 'consumer', 'rocker', 'ogrundad', 'continues', 'fozzy', 'eish', 'elevation', 'probation', 'azzzztruce', 'footed', 'stimulate', 'permitted', 'crafts', 'cell', 'eviction', 'cw', 'achievements', 'hourlynnyoure', 'descendants', 'lewinskys', 'hind', 'indulged', 'quite', 'contro', 'urban', 'ixa', 'searing', 'brendann', 'fellas', 'nonwhites', 'eye', 'odysseus', 'al', 'grateful', 'disapointed', 'challenged', 'studied', 'inhumanity', 'thatmostly', 'upsetting', 'that', 'losing', 'try', 'lessxcxa', 'converse', 'stars', 'dumbxa', 'x', 'gurley', 'decency', 'capture', 'dung', 'deficiencies', 'malone', 'animal', 'internetnalmost', 'replacing', 'ali', 'which', 'crapxcxa', 'sovereign', 'mandate', 'pintless', 'bitchxa', 'killing', 'santorums', 'gratification', 'aquino', 'rocked', 'vuean', 'muzzies', 'true', 'quees', 'slapped', 'monkeys', 'esta', 'kaden', 'thirteen', 'advertising', 'mama', 'delivered', 'admits', 'lazy', 'gudda', 'unlucky', 'differs', 'siks', 'randal', 'anaphylactic', 'daywatch', 'paolos', 'weakening', 'lameass', 'crack', 'dep', 'speech', 'lifewell', 'comment', 'weaman', 'distract', 'zdietsnetnn', 'edge', 'tone', 'whitewash', 'xanow', 'draw', 'fkucing', 'hindustani', 'adverise', 'najpxfuaniej', 'switched', 'grandpa', 'theyxexxd', 'reds', 'dman', 'successnn', 'redhanded', 'idiots', 'worldxcxa', 'fix', 'mentioning', 'source', 'dayif', 'ass', 'trashxa', 'hoga', 'height', 'knocked', 'tongues', 'mahtesian', 'soso', 'meaningful', 'hell', 'surged', 'belives', 'toand', 'ruedi', 'carnival', 'worksign', 'alike', 'most', 'disgrace', 'facts', 'nnign', 'skippy', 'ndp', 'sexobsessed', 'sink', 'foodnnwhat', 'clacking', 'couple', 'downin', 'fearless', 'themxabut', 'ue', 'unlike', 'globe', 'mafia', 'victoria', 'wasted', 'thoroughly', 'oppressionxcxa', 'fk', 'enter', 'doummmmmwatch', 'puking', 'destorying', 'such', 'trolln', 'dogsxa', 'lifestylexcxa', 'birtha', 'bunny', 'prevails', 'obs', 'deterred', 'teach', 'sisters', 'transexuality', 'lyrics', 'contract', 'choicers', 'vrecka', 'enough', 'mary', 'gallonxcxa', 'haliburton', 'atdnbernard', 'kindest', 'lowe', 'blitz', 'nownnlarry', 'prisonmelvin', 'build', 'syracuse', 'pbgallag', 'wade', 'trillionn', 'handjob', 'effect', 'vacations', 'arcade', 'triuebft', 'itnumber', 'vanquished', 'henrik', 'replyed', 'fostered', 'nmonday', 'cheapshot', 'nothing', 'nwritten', 'queeny', 'aircraft', 'chuean', 'existnnnow', 'morexaxado', 'sprung', 'singapore', 'cheers', 'genderxcxann', 'daynnand', 'rocknrollnn', 'murdering', 'diss', 'envy', 'bullish', 'bent', 'privacygo', 'honus', 'reallynnthose', 'oversight', 'limbs', 'appealing', 'puppet', 'organization', 'back', 'nnthe', 'invokes', 'billnni', 'allxapassed', 'bastion', 'nnshe', 'jhd', 'commissionus', 'havic', 'allui', 'campground', 'filthycock', 'pointxa', 'gutternand', 'inka', 'baggersnnwhat', 'ace', 'flowing', 'actor', 'dgyoure', 'awe', 'muchnnon', 'shortage', 'barrelill', 'biased', 'clapping', 'lesson', 'nand', 'jot', 'unreported', 'birds', 'phrase', 'humanbing', 'instancenncopy', 'duis', 'krayoncolorz', 'amendments', 'fxfrxendringar', 'computernst', 'judas', 'lilphatstreets', 'selfishnnand', 'forcefully', 'loserxa', 'noble', 'stylein', 'rest', 'mythology', 'fuking', 'damned', 'hurry', 'sentence', 'flags', 'done', 'ambition', 'golaperxf', 'obamawon', 'eftersom', 'cushy', 'seventeen', 'practices', 'odonnell', 'bryant', 'james', 'sxcu', 'cuedd', 'arse', 'symbolic', 'fundamentalists', 'preteen', 'courtnnreach', 'alexis', 'afternoonthat', 'parades', 'minnesotas', 'pressured', 'sandford', 'template', 'beside', 'hefty', 'syria', 'teatard', 'backbrianti', 'vader', 'dew', 'litterate', 'shoulder', 'homophobes', 'ago', 'confirmed', 'ship', 'twoxcxaone', 'nxf', 'dollars', 'sun', 'johnny', 'flushes', 'cuean', 'roommate', 'joffrey', 'birther', 'fecking', 'liberals', 'toi', 'sulked', 'praised', 'brothers', 'naturennhere', 'lestatdelc', 'beholden', 'xayour', 'roflmao', 'don', 'camps', 'casinos', 'grover', 'inviting', 'hipster', 'inept', 'peternyou', 'uxaxa', 'healthcarexcxa', 'computersxa', 'e', 'owes', 'sxenkt', 'schedule', 'chavman', 'characteristic', 'nngeorge', 'cnn', 'funds', 'stopping', 'surprisingly', 'billionaireshow', 'samoa', 'sin', 'partake', 'learnt', 'durant', 'cameback', 'started', 'itching', 'barret', 'bitchbe', 'apartment', 'decertify', 'jean', 'germany', 'basedgod', 'classnlisten', 'lthy', 'feliz', 'hate', 'aquiring', 'hatern', 'commissar', 'annoying', 'eatsleepthunder', 'thensimpletons', 'thowin', 'savrin', 'som', 'economist', 'great', 'jolie', 'deleted', 'hirschfeld', 'paps', 'trashes', 'yeesh', 'quotes', 'selfimportance', 'pushes', 'realy', 'cueann', 'nnyou', 'guild', 'knowthis', 'millions', 'abortions', 'butts', 'chest', 'douches', 'point', 'survivexcxa', 'presence', 'account', 'konstantin', 'contender', 'nnthats', 'thuebf', 'built', 'raiser', 'announcers', 'reverse', 'percentage', 'nightclub', 'salarynour', 'glass', 'nhs', 'everyday', 'suck', 'generationsnngo', 'vacanze', 'participants', 'oxexxreilly', 'adhere', 'mscole', 'abit', 'inadvertently', 'vuetci', 'skateboards', 'rsn', 'damnrip', 'humphries', 'smears', 'lower', 'associated', 'fuvcked', 'punish', 'trumbo', 'inspector', 'jungwirth', 'judicial', 'amso', 'shaved', 'tmannyour', 'holes', 'think', 'skunk', 'virgins', 'cuxfug', 'siegelman', 'civilians', 'usannshe', 'hillarous', 'tighter', 'jan', 'lit', 'tiny', 'shines', 'ken', 'photographer', 'lawhe', 'leach', 'viu', 'hot', 'walking', 'misconduct', 'sheet', 'adoptions', 'feeling', 'promotions', 'stankin', 'xeven', 'six', 'outfield', 'nsounds', 'goood', 'supplies', 'berethor', 'callingi', 'kagan', 'aways', 'exposed', 'fuel', 'molesters', 'richmond', 'democracyxcxa', 'juvenile', 'storm', 'kennedyxexxs', 'lueai', 'patrol', 'wit', 'cement', 'nfli', 'perez', 'xcxatoo', 'obammy', 'ya', 'pull', 'equally', 'carexa', 'quebec', 'ronnies', 'corona', 'hey', 'constructed', 'failures', 'countrynorth', 'teen', 'wellnnla', 'doe', 'thefuck', 'lased', 'fold', 'uphold', 'degrees', 'imposed', 'eight', 'xato', 'stoning', 'styleheight', 'bsen', 'wherever', 'rndisqus', 'douglass', 'anynbetter', 'command', 'arrogance', 'length', 'heyrobo', 'whiteass', 'deal', 'increased', 'sneering', 'portugal', 'powerxcxa', 'ghosts', 'scoring', 'unsupported', 'demtards', 'rehabilitated', 'httpsharesqiem', 'yeaaaaaa', 'instancennthe', 'bgo', 'nnruby', 'ke', 'americacutting', 'forumnnnnnnhe', 'idaho', 'franchise', 'candidacyxcxa', 'attend', 'locker', 'tabloid', 'barack', 'evaluation', 'sdl', 'skeeter', 'aldasity', 'discussions', 'httpsharesqdfn', 'legendsince', 'cheeked', 'womant', 'lopping', 'slap', 'saidddddddddd', 'enquirer', 'cxcu', 'kamala', 'xcxayou', 'huge', 'rely', 'muther', 'endorseembrace', 'cross', 'expose', 'saving', 'moreso', 'brandon', 'sache', 'hunan', 'wantednnnotice', 'grade', 'whine', 'scandals', 'helpxcxa', 'millennium', 'teenaged', 'visitation', 'younnnixon', 'castamerexabut', 'ob', 'pubblica', 'secondly', 'itshe', 'choose', 'communist', 'truecf', 'mxel', 'screennames', 'troubled', 'fooling', 'fetus', 'intactnnto', 'jokers', 'puzzle', 'lacy', 'reserve', 'yxeau', 'collusion', 'anytimennget', 'goal', 'idol', 'aka', 'helen', 'acl', 'rush', 'anew', 'smiling', 'commercially', 'bestconsider', 'racsit', 'stucco', 'donn', 'engage', 'relevancy', 'slaps', 'big', 'otr', 'nxfng', 'wits', 'evans', 'notice', 'accepting', 'allyxa', 'climax', 'fanaticism', 'assholei', 'staffers', 'pollybloghercom', 'battery', 'eso', 'mocks', 'westbrook', 'automatically', 'nanyone', 'negotiating', 'greatn', 'scout', 'alonexa', 'inability', 'krogers', 'aunt', 'indefinite', 'push', 'prosecuted', 'clears', 'whores', 'mah', 'parrot', 'rapists', 'youxa', 'gxec', 'hegemony', 'specs', 'ghubbaray', 'lemonade', 'rapejust', 'pretty', 'exceed', 'xexxcthe', 'notnnwhat', 'meow', 'eg', 'wiredcom', 'reportedxcxa', 'breaks', 'httpbitlymrzlgv', 'ts', 'roasted', 'playpen', 'probes', 'starthe', 'offended', 'friday', 'adicted', 'justforfun', 'matter', 'tech', 'uee', 'placennthere', 'cowboys', 'receive', 'wisc', 'sunnuva', 'hazard', 'pornographers', 'crushing', 'yearsxexxby', 'myrtle', 'nnnyou', 'laying', 'stone', 'memory', 'elaborates', 'aipac', 'thet', 'extortion', 'uploaded', 'opinionated', 'walk', 'tt', 'txednh', 'kiddin', 'ravioli', 'drive', 'jetros', 'kxeau', 'respond', 'insignificant', 'foreigners', 'ecot', 'justinmia', 'georgia', 'mtv', 'tixeau', 'dissolution', 'clevelandnnim', 'achievement', 'enders', 'cools', 'sole', 'forumreplydiv', 'xenomorphs', 'upgot', 'talkingthe', 'debates', 'nnbut', 'firedamaged', 'apo', 'ricksomethin', 'heartbroken', 'cure', 'products', 'grants', 'dark', 'baker', 'burn', 'ignorant', 'causality', 'crooked', 'leads', 'adage', 'refrain', 'tryextra', 'adulterers', 'police', 'overrides', 'feckless', 'olds', 'yourselfnnyour', 'generations', 'caresxcxa', 'improved', 'pier', 'moving', 'songs', 'time', 'fromnnnnenvy', 'reelection', 'muscle', 'workn', 'sex', 'amounts', 'xacheck', 'play', 'stupidest', 'threat', 'itnnand', 'eitherxcxa', 'nbe', 'thexaall', 'developing', 'engine', 'offyou', 'waco', 'arrive', 'expel', 'powdered', 'gives', 'mittsy', 'motion', 'contador', 'tshirt', 'kane', 'olebuma', 'laughs', 'lucknnwhy', 'aholexa', 'legally', 'compare', 'meal', 'cold', 'wow', 'anyoneits', 'rdio', 'diagnosis', 'condit', 'everrrrrrrr', 'yetnnfact', 'ndaa', 'breathe', 'begins', 'no', 'buddies', 'doshoot', 'stood', 'led', 'mccainus', 'gxeller', 'spend', 'waking', 'retell', 'grace', 'maleficent', 'wantsxcxanno', 'animosity', 'needxa', 'itnni', 'wrist', 'outward', 'guide', 'chisox', 'weekndavid', 'clever', 'heard', 'beans', 'myself', 'embrace', 'il', 'makennnobody', 'nigga', 'suppliers', 'yout', 'runner', 'targeted', 'would', 'mouse', 'chesire', 'escalona', 'curexcxathe', 'grabs', 'laum', 'island', 'thisnntravis', 'pant', 'lawnnnnwhile', 'tooxcxa', 'kobe', 'unmtivated', 'physicist', 'nnruedt', 'nyour', 'freeriding', 'bolts', 'rubes', 'nose', 'suite', 'yomtov', 'porque', 'kare', 'australiarnspan', 'black', 'eyes', 'institituion', 'bonus', 'eastman', 'wrestlingwisenn', 'subjecting', 'demo', 'bigoted', 'advisers', 'criteria', 'nmoral', 'urare', 'lxfd', 'needfor', 'giuebft', 'wholeheartedly', 'ranting', 'wikipedia', 'rxedsla', 'trollnnnanyone', 'nemala', 'celebrity', 'waves', 'exemplified', 'fingernails', 'rats', 'pinch', 'suggests', 'subscribed', 'concentrate', 'shudup', 'asshell', 'hatexa', 'arrogant', 'sects', 'thatanother', 'hella', 'bg', 'kidngfjnhit', 'nbecause', 'fall', 'rebels', 'disliking', 'xiu', 'economics', 'strange', 'gallonnin', 'haltnn', 'sg', 'rains', 'mlbnpackage', 'remove', 'happennnoh', 'runways', 'fiasco', 'blandly', 'havew', 'immunityxa', 'stander', 'differing', 'uncivilized', 'trackednits', 'lescott', 'stroke', 'sooner', 'humor', 'smelling', 'jungle', 'matchslut', 'faliures', 'sins', 'taiwans', 'hunting', 'hembehouse', 'ight', 'devices', 'atlantahow', 'choicenn', 'virginiadawg', 'auto', 'clickers', 'whispering', 'trades', 'scroto', 'marks', 'afiliados', 'nnadidas', 'offnwater', 'maturity', 'brotherhood', 'pitt', 'pst', 'censor', 'ucmemorial', 'aburrido', 'nazi', 'likely', 'magicians', 'hsxa', 'rivera', 'boardxa', 'honorary', 'chairman', 'indoors', 'badal', 'fashioned', 'insaaniyad', 'nypocrtical', 'amerikan', 'deals', 'hona', 'text', 'selfpromotional', 'livingston', 'estrich', 'contactalb', 'dispelling', 'undoubtedly', 'vxelja', 'historical', 'cadge', 'homicidal', 'hayesnfebruary', 'lxem', 'faceagainim', 'himxa', 'knights', 'forth', 'lingerie', 'slow', 'nin', 'chose', 'rightcbi', 'nmoneyxcxa', 'noxa', 'feigelsonnn', 'relapse', 'herufeff', 'shirt', 'om', 'munists', 'understandable', 'ranking', 'popping', 'thereforexa', 'herexa', 'remote', 'defective', 'anglo', 'toward', 'wash', 'parasite', 'honoring', 'exits', 'gallon', 'seau', 'lectures', 'movin', 'chk', 'recorded', 'swanson', 'beg', 'lifendont', 'ranked', 'oknn', 'strictly', 'constrained', 'heartless', 'stripped', 'lap', 'discussion', 'etcnnthe', 'stamps', 'steamed', 'perceived', 'kim', 'uncertain', 'xcxaallan', 'streaming', 'wagon', 'willxa', 'rug', 'cocky', 'ethical', 'sgboyget', 'rightfully', 'spain', 'nn', 'investigationxa', 'kungull', 'plitical', 'sharp', 'slide', 'limitsxanappeal', 'para', 'tilley', 'does', 'bullshitxa', 'messi', 'disturbed', 'cmmunist', 'acted', 'kickbacks', 'critter', 'via', 'hello', 'stripe', 'offender', 'brava', 'gxeo', 'crapper', 'selfmade', 'elvis', 'encampaments', 'sister', 'jobs', 'gobbly', 'rip', 'das', 'winsnsimple', 'diagramnnit', 'masterus', 'bruce', 'janet', 'little', 'intentionswe', 'promiscuity', 'nnmagical', 'maximum', 'beer', 'nforget', 'roadside', 'everyou', 'plead', 'agreeing', 'gone', 'growers', 'sade', 'genuinely', 'welfare', 'poorhouse', 'daybut', 'mai', 'weve', 'ovonic', 'disparagement', 'haaa', 'kil', 'fabulous', 'contractors', 'choosen', 'transporter', 'biases', 'despotic', 'alinsky', 'speeds', 'thatstrong', 'disappeared', 'domande', 'sharia', 'younxanpeople', 'christians', 'onlyxahis', 'cudnnwhat', 'hooked', 'educations', 'sidexcxa', 'satire', 'gauntlet', 'obamannnnixexxm', 'tenterm', 'vampire', 'yous', 'laid', 'feeding', 'ego', 'nonsensical', 'hospital', 'koch', 'xalolxannobama', 'islander', 'tied', 'involved', 'billionaires', 'millionsxa', 'alligator', 'umps', 'poster', 'michael', 'technological', 'owned', 'ofxayour', 'korean', 'husariu', 'knwn', 'highest', 'regulation', 'morexcxa', 'missed', 'established', 'patriarch', 'driving', 'cave', 'fog', 'dodging', 'bloods', 'content', 'sold', 'consultant', 'munro', 'nauo', 'obamabeing', 'religion', 'fucklng', 'telefonato', 'infantxcxa', 'squatting', 'themget', 'footsteps', 'laird', 'demonic', 'flock', 'replace', 'pitfulnenough', 'additionally', 'isnxexxt', 'boarder', 'walker', 'rushed', 'anthems', 'parolennthanks', 'kindlynnas', 'mikei', 'pnya', 'tracks', 'scenario', 'vicedirettore', 'hanniturd', 'evidently', 'warmed', 'freesteam', 'publish', 'itnnthird', 'myspace', 'divisional', 'ucreform', 'npay', 'ft', 'examined', 'failing', 'smuggled', 'delayed', 'pitchers', 'paulwhat', 'wayxcxa', 'washed', 'mourning', 'factsxcxaout', 'forgery', 'nastiness', 'facepalm', 'attitude', 'invite', 'nubua', 'canvas', 'ear', 'craving', 'oval', 'girl', 'confirming', 'smartest', 'chomping', 'philly', 'bar', 'starters', 'nhowever', 'muscular', 'straightforward', 'patheticnnno', 'trample', 'gobie', 'bed', 'exterminated', 'faithful', 'lolxa', 'grip', 'somthing', 'totalitarians', 'fab', 'awards', 'atrocites', 'pieceofshit', 'pudgy', 'smear', 'gaining', 'fitzgerald', 'granthams', 'jela', 'numbers', 'longing', 'horseshit', 'quxebec', 'linking', 'offshore', 'lexpo', 'jest', 'tonde', 'robme', 'revelation', 'delorean', 'destroyers', 'murtha', 'served', 'dog', 'obamaplus', 'pitiable', 'skills', 'elxa', 'accordance', 'lefta', 'stolen', 'skirting', 'tampa', 'flaherty', 'scroll', 'ion', 'xathere', 'walkernnthere', 'unfortunatelyxa', 'nntake', 'rollin', 'rdale', 'sanctity', 'thorough', 'prisonjohn', 'productionnnthe', 'libbies', 'hte', 'aok', 'chat', 'ballance', 'sharing', 'islamization', 'wetback', 'food', 'giving', 'unwisely', 'mathxa', 'heath', 'partynby', 'down', 'phillips', 'legalizing', 'somewhat', 'sustained', 'snifters', 'ushes', 'interacts', 'xcxahow', 'queens', 'kendollyou', 'muppets', 'fruity', 'meetings', 'chapters', 'retirement', 'axcxamajority', 'worked', 'corzine', 'microscope', 'yeaah', 'carried', 'noses', 'forloltell', 'geez', 'theren', 'punishments', 'jokexa', 'partisapating', 'highway', 'discrediting', 'blondes', 'trampled', 'll', 'post', 'paradise', 'gettin', 'mennblow', 'womenonly', 'wood', 'unitas', 'dust', 'naacp', 'disenfranchised', 'brenda', 'leidiot', 'following', 'oops', 'bit', 'resources', 'squat', 'zinya', 'cartoons', 'googler', 'nbushwhackers', 'xaalmost', 'originated', 'finance', 'raz', 'sensible', 'nothingn', 'uiuecm', 'supported', 'mobsxa', 'bans', 'spotyou', 'borrow', 'waits', 'acts', 'freaked', 'ideas', 'board', 'ohh', 'vt', 'axafirstxaterm', 'trollnnyou', 'powerball', 'contended', 'hometown', 'discretion', 'killingis', 'turd', 'txa', 'elephant', 'nnaflack', 'contact', 'wonders', 'becoming', 'looking', 'ben', 'concludes', 'joins', 'chinas', 'controlled', 'struggle', 'forty', 'amounted', 'stir', 'relatednlists', 'snotzi', 'eldlazarmatt', 'stick', 'yearold', 'runners', 'convicted', 'malloy', 'op', 'targeting', 'expertise', 'spoil', 'chicks', 'defensenn', 'mph', 'itnn', 'mounths', 'processn', 'coincidences', 'took', 'accessories', 'prosecutors', 'train', 'recovery', 'dastardly', 'diablonnxa', 'payback', 'dickwrinkles', 'perverting', 'parcel', 'position', 'testify', 'advisor', 'crown', 'vector', 'documented', 'actitud', 'nthing', 'blabbermouth', 'recidiva', 'observe', 'delusional', 'insure', 'underbelly', 'beautifulflaws', 'imagine', 'trueshould', 'kelly', 'phuck', 'videos', 'mass', 'liesask', 'mideastern', 'premium', 'imprisoning', 'clinton', 'veterans', 'irresistible', 'flawed', 'wings', 'informing', 'warm', 'burkennnndo', 'sakes', 'didxa', 'jamie', 'tests', 'sleeves', 'guysnn', 'technicolor', 'braun', 'impossible', 'pounding', 'fifteen', 'thereud', 'priestley', 'taxesxa', 'compute', 'bloody', 'nwwe', 'che', 'traffic', 'partnnn', 'worrying', 'faithand', 'update', 'allegiance', 'themxannso', 'institution', 'xcxafair', 'quddafi', 'venus', 'squib', 'babylon', 'demise', 'fuckstick', 'sponsored', 'needlessly', 'ofxcxa', 'dealing', 'timb', 'ringsowande', 'copied', 'youtube', 'reference', 'fxfras', 'celona', 'skinnynnshaq', 'mountainous', 'barbaric', 'cook', 'casino', 'higher', 'nest', 'credible', 'worhless', 'cupboards', 'unhealthy', 'diminished', 'suxing', 'aramis', 'xau', 'instructor', 'space', 'commentyou', 'charitable', 'christnwe', 'skipit', 'annat', 'address', 'governmentnni', 'europei', 'store', 'goofy', 'rolls', 'jumpers', 'brat', 'cant', 'yesnxabut', 'pornography', 'obstacles', 'carefulxaxa', 'allowed', 'urine', 'affront', 'terrorism', 'storyline', 'narrow', 'saonxaxa', 'sickening', 'hormone', 'germans', 'syntax', 'libs', 'boar', 'spew', 'khalaf', 'depressingly', 'toxic', 'officials', 'debatten', 'colleges', 'kiddingxa', 'karam', 'ppv', 'spewingxcxaxcxa', 'roode', 'xadefinitely', 'nnfourgo', 'scum', 'rooster', 'run', 'rancher', 'assus', 'campaigners', 'paulxaeunnthe', 'decree', 'xcxaoh', 'lederer', 'theo', 'canvasnn', 'quantum', 'remarks', 'youxaunderstand', 'miamis', 'expired', 'piiisii', 'conservative', 'faithnnnot', 'idaur', 'side', 'movies', 'dildo', 'sealed', 'awakening', 'sing', 'goodnin', 'xexxca', 'faith', 'bran', 'plinkett', 'punches', 'sausage', 'group', 'mario', 'fault', 'absolutejoke', 'contort', 'totes', 'fischer', 'facetoface', 'stxer', 'weighed', 'maryloving', 'muuc', 'shamehouse', 'harass', 'acknowledged', 'depends', 'childyou', 'shorter', 'inserta', 'younnminaj', 'bur', 'einstien', 'wwe', 'colorblind', 'womeneverywhere', 'prophecy', 'wubblesxathat', 'gs', 'romneynnby', 'hankiesnntheres', 'charles', 'breakxa', 'will', 'scandal', 'broxathanks', 'junkiesxannbut', 'undocumented', 'fleet', 'harms', 'hitsquad', 'ma', 'degraded', 'beingperiod', 'favour', 'charlie', 'chargesxcxalena', 'gtfornthat', 'inadequate', 'jls', 'shouldi', 'cia', 'korem', 'spokesman', 'yearly', 'timennwe', 'dot', 'guyananhmmmmmmm', 'slop', 'tampons', 'stateask', 'xeldersgrxens', 'onlyfrom', 'decision', 'defoe', 'badxa', 'have', 'class', 'havenxexxt', 'joanne', 'commercial', 'seconds', 'illegally', 'ellen', 'sexually', 'atleast', 'lara', 'fresh', 'httptcosrguvysy', 'itnak', 'soeterodunham', 'lifestylen', 'chxednh', 'supreme', 'approvalnobama', 'despise', 'sudan', 'nicely', 'seguiva', 'shyt', 'talks', 'congrats', 'march', 'uueang', 'notes', 'soriano', 'xanice', 'town', 'quitfuckingwith', 'crawl', 'nonstopdrivel', 'lassiexcxa', 'bankrupt', 'wrestling', 'whitey', 'revampedxa', 'reach', 'dems', 'weakest', 'slut', 'marriagexcxa', 'xausa', 'nabnnhow', 'being', 'ndescribed', 'savings', 'tankedn', 'compentent', 'kxfra', 'whxa', 'squawkni', 'lana', 'blessed', 'opression', 'emotional', 'jericho', 'shitxaas', 'apnay', 'probability', 'karl', 'buniyad', 'xafounder', 'proposition', 'kinkier', 'evaporate', 'uem', 'bobo', 'addressstop', 'crybaby', 'dunkxcxa', 'nwo', 'fulknep', 'nnlightweight', 'davidhobbes', 'malxa', 'architecture', 'txaxa', 'gm', 'riot', 'handing', 'especially', 'currently', 'nbsphe', 'nnits', 'speechesor', 'detalinging', 'pulls', 'nai', 'invaders', 'relevant', 'nnmm', 'burger', 'hetrosexual', 'proven', 'naive', 'foods', 'viewsxcxa', 'fundraisers', 'catch', 'dairy', 'kirsten', 'serving', 'beeping', 'mamamia', 'axarapist', 'patriot', 'sd', 'vinegar', 'editing', 'normal', 'bb', 'spent', 'mitts', 'whack', 'coal', 'robbers', 'joeynnyou', 'gxaxaxa', 'subban', 'told', 'playoff', 'ledo', 'inconjunction', 'blown', 'nicotine', 'newtish', 'gheyrooster', 'foegt', 'gitmo', 'chain', 'gaypusssyfly', 'war', 'beau', 'cantandole', 'shepard', 'authoritarian', 'nncheersnn', 'helathy', 'pg', 'shopping', 'duke', 'respectful', 'nellyvegatorres', 'pavementget', 'dated', 'means', 'yum', 'caused', 'scourge', 'particle', 'feminist', 'solar', 'boynthis', 'hoi', 'ricdose', 'instructed', 'koz', 'avevo', 'ex', 'thatll', 'onexa', 'care', 'sided', 'welcome', 'cortez', 'httpsharesqveog', 'court', 'sic', 'fascism', 'mannys', 'plumber', 'ignoramusxaxa', 'selfesteem', 'icc', 'assistant', 'bounty', 'tanker', 'page', 'color', 'dreamed', 'okif', 'responsability', 'entrenched', 'soooooxaxa', 'facedinmore', 'awsome', 'demonstraing', 'obstruction', 'sociopath', 'council', 'personnnive', 'dette', 'trying', 'hearted', 'closed', 'etcxa', 'storyor', 'kathy', 'dumbretarded', 'piercings', 'saudis', 'wayfarer', 'storobin', 'mj', 'againnif', 'farther', 'thus', 'argued', 'considder', 'bh', 'player', 'starts', 'newsin', 'mutini', 'avram', 'destroyedn', 'recital', 'awayxcxa', 'underestimating', 'jak', 'life', 'responses', 'birdxcxagiving', 'injoyed', 'obozo', 'slayednnthey', 'mummy', 'fredddd', 'damnit', 'work', 'xcxaboth', 'oppositen', 'carry', 'visit', 'peple', 'bigtime', 'scalexcxa', 'hairline', 'giuedd', 'jadunath', 'trannie', 'mixed', 'striptease', 'ruined', 'mommy', 'before', 'outrageous', 'understandxa', 'practiced', 'incorrect', 'youd', 'aginst', 'rulesnwe', 'forefrontif', 'bollen', 'wittle', 'consistency', 'werefairthats', 'vol', 'wars', 'deadbeats', 'himperhaps', 'myxaheartxaas', 'bettering', 'uc', 'gap', 'mts', 'blackmail', 'milton', 'cockadoodle', 'she', 'fuckerof', 'brigham', 'dialogue', 'abandoned', 'tenianxa', 'suju', 'portland', 'slippn', 'fatass', 'autotune', 'club', 'arizona', 'completing', 'butt', 'radical', 'nnso', 'fart', 'brainwaves', 'diplomats', 'bilious', 'protected', 'decriminalized', 'partying', 'prostitute', 'nayar', 'turdsnand', 'tatted', 'mexican', 'sue', 'refurbished', 'korea', 'unindicted', 'disease', 'urge', 'teddy', 'act', 'thinknnwould', 'walter', 'uxeau', 'provided', 'shove', 'places', 'updated', 'tirades', 'dump', 'tonthemselves', 'intellectual', 'vestiges', 'recognise', 'cashmoney', 'evil', 'mediocre', 'weakxa', 'jerk', 'intimidation', 'pinterest', 'nbw', 'effort', 'vagina', 'deportations', 'pleaseyou', 'happen', 'offi', 'protests', 'luther', 'lick', 'niggaz', 'adapt', 'iso', 'bientxcxbt', 'truthxa', 'infinitum', 'andxcxahe', 'cash', 'interrupting', 'pakistanalso', 'equalityxcxa', 'forcing', 'summer', 'xexxs', 'terrible', 'collectsnwho', 'ing', 'ill', 'jesse', 'only', 'turned', 'cart', 'backwards', 'rushdoony', 'horrid', 'balloon', 'populated', 'andxcxamedicare', 'familys', 'pmnin', 'xcxaname', 'southern', 'july', 'obamas', 'yoruba', 'hoekstras', 'grandma', 'loving', 'ryan', 'rucker', 'neasterners', 'mcslave', 'islast', 'timesricks', 'killer', 'boxing', 'ours', 'attraction', 'sponsors', 'mic', 'abusive', 'gee', 'histories', 'refusal', 'bothered', 'agrees', 'janelle', 'annaxa', 'ji', 'shit', 'jerks', 'droppin', 'civilization', 'rrtrackdawgs', 'riskxcxa', 'goproud', 'instrumental', 'sense', 'cat', 'httpbitlyldqwwy', 'racistnit', 'mocked', 'molotov', 'nspurs', 'economists', 'uhh', 'ab', 'smelly', 'hooraynnfeel', 'horrible', 'rutti', 'power', 'leadsblind', 'expressing', 'artificial', 'gimmicks', 'xcxanni', 'where', 'monopoly', 'till', 'theyre', 'wisconsin', 'quarterbacks', 'tonight', 'ibidn', 'weekends', 'predates', 'newly', 'weapons', 'events', 'tosses', 'vun', 'scolar', 'republic', 'nbarney', 'sandra', 'disclosure', 'bomitanxa', 'pepper', 'nnfrank', 'terrorists', 'mags', 'grammy', 'afford', 'curb', 'reaping', 'criticize', 'gosh', 'wallabies', 'sxcxawe', 'meant', 'smart', 'vad', 'batards', 'comp', 'freakshown', 'honour', 'wengernow', 'assisted', 'feelin', 'nnwhy', 'yup', 'fido', 'cost', 'blogsnnyou', 'mids', 'permanently', 'throws', 'max', 'meaningless', 'selves', 'motherxa', 'gore', 'gift', 'dismantling', 'beingsnnanimals', 'indefensible', 'mus', 'forall', 'foll', 'popery', 'apart', 'starter', 'revive', 'counting', 'mainland', 'nas', 'xanax', 'pleaseenough', 'irishwhitey', 'confessions', 'rearits', 'damian', 'chill', 'idiotan', 'scheartz', 'village', 'remains', 'michigan', 'likewats', 'xexxhey', 'purpetrator', 'plane', 'speedy', 'hater', 'warlord', 'critics', 'insicured', 'abxcxa', 'afterward', 'trashy', 'detective', 'confronts', 'xcxas', 'swinging', 'federation', 'mom', 'okayhere', 'miscarry', 'teresa', 'motherfucking', 'blast', 'mentioned', 'boi', 'whonwant', 'uneasy', 'mxfu', 'bright', 'forms', 'naziincnmy', 'jerusalem', 'generals', 'aboutxaxa', 'trailers', 'nets', 'cubuc', 'compromised', 'deymonds', 'ick', 'conspiracy', 'caroline', 'keychain', 'uxe', 'roxmake', 'whiteys', 'nits', 'alkohol', 'indicated', 'decade', 'itwhy', 'escaxfos', 'civic', 'bigot', 'momxa', 'outnnmeow', 'xcxahas', 'plsyou', 'decisionmaking', 'inordinate', 'merely', 'unpopular', 'skirts', 'measure', 'asap', 'sentimental', 'cheyney', 'headed', 'gimmick', 'pittsburgh', 'mcshay', 'kinds', 'doctorsxcxaand', 'mates', 'once', 'individualsxcxa', 'faminesomalia', 'enrico', 'blush', 'xamost', 'dodge', 'spends', 'without', 'powers', 'minion', 'nshut', 'ngueef', 'herge', 'psychological', 'frioh', 'phase', 'switch', 'mujh', 'papism', 'offseason', 'hawks', 'behaviornnif', 'shelley', 'refers', 'illusions', 'norms', 'need', 'l', 'minoritiesnyou', 'apologists', 'abolition', 'besides', 'mcconnellso', 'doneit', 'allstar', 'prohibition', 'sager', 'prostitutewe', 'moisturizing', 'socialist', 'geniuses', 'anus', 'osht', 'refuge', 'hardware', 'ancestors', 'reposts', 'prewatershed', 'con', 'ranbir', 'kyle', 'outxcxawill', 'replaced', 'extremist', 'wiredscience', 'petrol', 'lend', 'kakashi', 'thems', 'define', 'favored', 'jyou', 'describes', 'according', 'ketching', 'jeni', 'nobjective', 'alienates', 'layzboys', 'rectum', 'lolnnstraight', 'nprotection', 'raving', 'shakthi', 'nhung', 'fromxachihuahua', 'pint', 'nei', 'stalker', 'backround', 'bea', 'estate', 'supermarkets', 'diot', 'argument', 'contractn', 'pointed', 'students', 'nole', 'turner', 'nsa', 'tide', 'affects', 'response', 'orng', 'relatively', 'organism', 'truthxcxa', 'auxillary', 'learner', 'uubung', 'arabia', 'xarack', 'nceltics', 'tweenie', 'billions', 'eys', 'goth', 'mouthxa', 'poll', 'entertain', 'reveal', 'sage', 'una', 'attended', 'died', 'congenital', 'bp', 'lots', 'effects', 'rematches', 'generalrsquos', 'cosponsored', 'banknthey', 'sketcherz', 'jacksquat', 'tzu', 'reserves', 'nexus', 'turns', 'xcxathats', 'hero', 'judged', 'abiding', 'younnwhat', 'businessmen', 'bullied', 'section', 'cliche', 'remotely', 'normally', 'isane', 'fixin', 'faked', 'brokexcxa', 'phaggot', 'micah', 'villifiedxa', 'custom', 'godless', 'dyckimplant', 'checking', 'bauta', 'probully', 'th', 'competence', 'domesticallyxa', 'manthefuckup', 'christie', 'butlins', 'rake', 'stalinwhile', 'undignified', 'louisville', 'explosive', 'tonys', 'libturdyou', 'doubts', 'light', 'community', 'telling', 'nnhave', 'nutcase', 'lovely', 'xfn', 'njust', 'uubueec', 'whitehouseusa', 'devoid', 'amateur', 'treating', 'netplus', 'assistance', 'jenbroflovski', 'smugs', 'tucson', 'thexcxabusiness', 'policewoman', 'dbacks', 'lost', 'whenever', 'xawtf', 'medal', 'alternate', 'packwood', 'doomed', 'reali', 'execution', 'classmates', 'mitrovicen', 'hitters', 'incidents', 'fiscal', 'thoughxa', 'ninth', 'thunder', 'blowups', 'digraced', 'de', 'convo', 'npeople', 'primordial', 'publics', 'itxaxawe', 'vending', 'cracker', 'photo', 'menthey', 'bitsko', 'kiuecm', 'butill', 'sea', 'staunchest', 'hexagonal', 'cocksucker', 'adopt', 'rxepe', 'outside', 'singerr', 'addicts', 'lasted', 'opened', 'dosnt', 'trusts', 'safelyrnrnno', 'slums', 'againnnfor', 'disgracing', 'catchers', 'clemsaucy', 'sammy', 'stupidity', 'aries', 'truck', 'chewing', 'alisterdognwhat', 'harmandir', 'puzzy', 'antisemitic', 'harr', 'anticipate', 'assholexa', 'online', 'faceless', 'yankee', 'nunary', 'provocateur', 'continued', 'anonymouseorg', 'borderline', 'committable', 'reuidich', 'rf', 'same', 'injustice', 'earmarksvoted', 'stupidly', 'quo', 'njose', 'bath', 'slxepper', 'vital', 'edmund', 'thanked', 'skull', 'affirming', 'hernnon', 'playing', 'fun', 'bxean', 'eroding', 'saturday', 'milksop', 'sovereignty', 'be', 'listening', 'useful', 'cap', 'sentences', 'gxe', 'gulag', 'feeder', 'entirely', 'touch', 'precious', 'oldest', 'talln', 'mitigated', 'satx', 'numbersthey', 'dbags', 'stinks', 'enlightened', 'samsung', 'picturesnnwhats', 'trubuauc', 'det', 'chucki', 'allinit', 'loosely', 'isxaxaxa', 'oleary', 'romney', 'recognizes', 'proiran', 'twain', 'betta', 'rushbo', 'bummer', 'vests', 'jewelry', 'derpy', 'nversions', 'presented', 'xcxaguess', 'pins', 'medias', 'mansilly', 'shakes', 'predica', 'attracted', 'athleticallyxa', 'cuba', 'other', 'boehner', 'lanes', 'attitudes', 'guaranteed', 'spouses', 'arnt', 'supposedly', 'vehiclesxa', 'installed', 'changed', 'walked', 'turismo', 'limitato', 'waters', 'comparing', 'whould', 'godnwow', 'hypno', 'can', 'secretive', 'storenbut', 'outcry', 'compound', 'dressshe', 'marginalize', 'stalkin', 'though', 'bleachers', 'subscriptions', 'behen', 'rooms', 'funnier', 'forced', 'itrnrnput', 'attempt', 'questionxani', 'nnbtw', 'foerever', 'xano', 'sandals', 'backxa', 'small', 'prefer', 'motherfucker', 'offnncome', 'chris', 'leeds', 'joexa', 'fuckeds', 'acres', 'skrng', 'characters', 'thatnumber', 'maynor', 'forwardplus', 'murdoch', 'phils', 'notwithstanding', 'groomer', 'instruction', 'schnike', 'idiotxa', 'coconspiring', 'lossnthe', 'doolittle', 'longxa', 'israelxaas', 'oneday', 'thousands', 'fi', 'hacked', 'austria', 'nanabozohrnpthe', 'steer', 'regimenthere', 'blatantly', 'charitably', 'sling', 'nahi', 'idnnif', 'beslutas', 'smoldering', 'districts', 'blindly', 'taco', 'pitiful', 'exceptionally', 'flawless', 'cemetary', 'futures', 'deny', 'defame', 'journal', 'packers', 'ge', 'spoken', 'xaxatpbderek', 'latter', 'ohio', 'rnits', 'amid', 'concepts', 'kkkkkalamity', 'wanker', 'xathe', 'climate', 'alley', 'aliberal', 'soledadxa', 'hesitation', 'conquest', 'looki', 'eyeball', 'messed', 'nnryan', 'isnt', 'cabrera', 'ziggler', 'handle', 'fourteen', 'programme', 'nalso', 'faggt', 'dreamnnnever', 'boyceall', 'cosentino', 'hahaatleast', 'pcp', 'thugs', 'michele', 'idiotnnwhen', 'zimmermans', 'lips', 'explain', 'hi', 'understand', 'iraqs', 'paid', 'quit', 'devote', 'overweening', 'away', 'singles', 'goatn', 'waterswhy', 'cigarettes', 'playoffs', 'truth', 'blowjob', 'xadude', 'sirens', 'hispanics', 'onnpalinsxa', 'bankruptcy', 'rectumno', 'nnmulxcxbumesc', 'giueef', 'allot', 'porch', 'motres', 'onea', 'celebs', 'github', 'superstar', 'feelingz', 'lemonfemale', 'tuscaloosa', 'fooluse', 'nerd', 'neednnandroid', 'communism', 'emulate', 'explore', 'stalennlastly', 'outweighs', 'imagining', 'peach', 'bochy', 'meetxcxa', 'cartoon', 'unperfection', 'deludec', 'legislature', 'borrowing', 'herself', 'guyxaand', 'xep', 'combination', 'lowkey', 'entrepreneurs', 'integration', 'argentine', 'leaping', 'myriad', 'clinched', 'object', 'nnand', 'baloneynnplease', 'supports', 'serfland', 'arennso', 'tex', 'derp', 'bridges', 'soapbox', 'farce', 'planetnnwe', 'paga', 'outfit', 'banned', 'tna', 'vitriol', 'their', 'sexes', 'quick', 'critical', 'underground', 'foolishly', 'steep', 'dweller', 'sympathetic', 'behavior', 'greek', 'arena', 'resolve', 'nude', 'jet', 'dillusional', 'cutest', 'primaries', 'puberty', 'paris', 'humankind', 'prettyxa', 'nnreminds', 'knowni', 'necknnim', 'xfd', 'gullible', 'abscam', 'heart', 'timebut', 'sht', 'interview', 'sporadic', 'factoryfarmed', 'dominate', 'biology', 'shreading', 'fixedim', 'lho', 'nif', 'smokehouse', 'fuddruckers', 'pump', 'tigers', 'potxa', 'bloodthirsty', 'hearnnlike', 'grifter', 'beginning', 'phillip', 'enamoured', 'essential', 'himeven', 'ended', 'jpcali', 'sander', 'dept', 'owner', 'noops', 'unlawful', 'stirring', 'xathey', 'walcott', 'nnasi', 'consciousness', 'screen', 'zimmerman', 'dubbed', 'favorite', 'wheat', 'trannys', 'allergies', 'vs', 'otherwsshame', 'judiciary', 'those', 'painting', 'anser', 'unfounded', 'asi', 'scalabrines', 'accept', 'committeexcxa', 'callous', 'concerned', 'atraitor', 'basement', 'pervasive', 'nonenjob', 'watches', 'celeb', 'hrs', 'ahrxaxa', 'senadores', 'whatsoeverxa', 'liedxa', 'unthinkablexa', 'carlson', 'customers', 'bannedyou', 'gif', 'itnow', 'youi', 'balli', 'wifeat', 'gobiernas', 'potential', 'sndiri', 'xexxccommunity', 'travellersnthe', 'saintmarty', 'pedophiles', 'bonusesnif', 'bananaxa', 'puck', 'enthem', 'ponte', 'featured', 'widely', 'malaise', 'stance', 'oursthe', 'scummy', 'yearnmy', 'door', 'xaout', 'noted', 'boards', 'roady', 'soxainteresting', 'trouble', 'facility', 'boneheaded', 'raunchy', 'targets', 'expense', 'kibum', 'stake', 'shirts', 'innuendonnname', 'conclusion', 'kippers', 'testing', 'headthere', 'dienni', 'lunch', 'nic', 'chairs', 'playlist', 'filibusters', 'causes', 'blanket', 'fifty', 'issiac', 'come', 'font', 'watershed', 'nbspcentral', 'solved', 'hens', 'quarter', 'olympic', 'mgdl', 'fiscalxa', 'instructions', 'johnnys', 'continually', 'flesh', 'physionnwhat', 'exemption', 'publicnnd', 'smlombardi', 'diggin', 'moss', 'trickle', 'semiamnesty', 'arrestedndid', 'reallyxa', 'interceptions', 'areufeff', 'scolded', 'pedazos', 'nhau', 'dxe', 'dont', 'topeka', 'cultmake', 'nav', 'wore', 'always', 'income', 'parody', 'runnerup', 'meantime', 'freaky', 'racistnnjamele', 'boycott', 'tylko', 'behaving', 'changenno', 'yngre', 'mali', 'we', 'youxathat', 'grundlxeggande', 'specimen', 'delusions', 'businessxcxa', 'pods', 'nhub', 'solve', 'repeal', 'nna', 'cellulosic', 'chump', 'resulted', 'recovers', 'outxa', 'matters', 'xamayweather', 'compromise', 'africaand', 'shouting', 'pander', 'littledyck', 'wallnnelection', 'identifies', 'selfdiagnosis', 'spring', 'spendingyour', 'championship', 'haitians', 'bitter', 'cheapnthat', 'yours', 'sections', 'alot', 'xexxcevra', 'maintaining', 'chuec', 'ostracized', 'angels', 'marriagexa', 'faced', 'torn', 'fuckwits', 'waited', 'bombard', 'fredex', 'touring', 'perks', 'francour', 'hxell', 'palin', 'perpetual', 'unearned', 'bankroll', 'journalist', 'psh', 'rtfa', 'rushedoye', 'menn', 'wackkness', 'hospitals', 'homie', 'mfcker', 'laughnhe', 'hernni', 'fcks', 'tou', 'goon', 'peoplechill', 'kids', 'tested', 'homewreckernni', 'loyal', 'block', 'wish', 'express', 'wth', 'camp', 'unnatural', 'straights', 'justifies', 'nplease', 'sep', 'khauc', 'righties', 'bread', 'imperatives', 'qualification', 'last', 'timebesides', 'selects', 'identity', 'boys', 'forgotxcxa', 'shaped', 'few', 'fannnvery', 'gunners', 'ppw', 'statutes', 'dense', 'scritto', 'uncoololga', 'tendenza', 'cslos', 'adding', 'nnamdi', 'sizenni', 'communitythink', 'virgin', 'gasket', 'phukin', 'trial', 'parties', 'nseriously', 'patriotism', 'factors', 'demwad', 'demeaned', 'witches', 'mothafucka', 'greece', 'attempting', 'dany', 'marked', 'deliberate', 'tylenol', 'idiotxaid', 'lecture', 'missionnn', 'hl', 'knowxain', 'hussein', 'arbetas', 'consumed', 'tub', 'fly', 'extramarital', 'created', 'irony', 'swear', 'listeners', 'arabs', 'downn', 'paper', 'everrrrrrnxago', 'wikipedianncall', 'insider', 'venomyoulll', 'clean', 'chopwake', 'dream', 'anime', 'tik', 'covering', 'turdbreath', 'slander', 'theses', 'disciplinary', 'environment', 'innings', 'ans', 'ha', 'mine', 'succinctly', 'columnist', 'divertido', 'gundys', 'dieofnv', 'bt', 'character', 'xcxasupposedly', 'explicitly', 'counterparts', 'rosie', 'verlander', 'nnxaobject', 'wounded', 'cried', 'nnare', 'cow', 'fights', 'ukyou', 'sexuality', 'didnnnnthose', 'handsomendo', 'ho', 'rented', 'protgidoxa', 'model', 'flooded', 'represents', 'davis', 'racist', 'gardening', 'obruny', 'heroin', 'bull', 'nicola', 'contrat', 'egypt', 'planned', 'mxeste', 'nastiest', 'common', 'benefits', 'lesbians', 'manor', 'chainsaw', 'offence', 'cast', 'dcjohn', 'pretend', 'waste', 'cking', 'votenmoron', 'grief', 'south', 'coached', 'horizonxa', 'toshit', 'interfere', 'fbijames', 'pornagraphy', 'reasonable', 'sandie', 'nnwhat', 'ccby', 'thissomething', 'headxcxannthe', 'replied', 'famously', 'show', 'calebcolin', 'negotiated', 'switching', 'him', 'automatic', 'edition', 'wacko', 'vicky', 'innebxernnvi', 'puzzled', 'vieme', 'gob', 'carton', 'danger', 'preparations', 'minny', 'colon', 'indias', 'arsene', 'itna', 'stretto', 'therefore', 'seafood', 'january', 'soldiersnow', 'himselfdivdiv', 'crackers', 'twoyear', 'operating', 'reasonnif', 'yesterday', 'realized', 'andxcxathat', 'during', 'afffects', 'httpsharesqzlij', 'dope', 'view', 'bible', 'falls', 'demsto', 'footn', 'shocked', 'pedro', 'hickson', 'familiar', 'bear', 'xaits', 'protesters', 'xcxaif', 'facebook', 'mulcairs', 'vidalia', 'ate', 'dislikennin', 'tanned', 'nature', 'izzy', 'conniving', 'northern', 'xayeah', 'who', 'fed', 'parentsxa', 'mated', 'spitzer', 'rhunt', 'nnfuck', 'pcsocialist', 'cuuedc', 'weasel', 'perceive', 'illegalnknives', 'naaraz', 'crowd', 'kindenjoy', 'repostsn', 'bicycle', 'answernnwhat', 'dugout', 'leecherius', 'housenand', 'xcxawho', 'winner', 'vacuum', 'giggity', 'dollarsxcxa', 'kindness', 'guess', 'bbc', 'tom', 'jockeys', 'cabin', 'beardsgive', 'rain', 'mothering', 'path', 'rectums', 'universal', 'sickjust', 'fund', 'awwww', 'brewers', 'giuau', 'tjirish', 'admittedly', 'handful', 'joseph', 'concurs', 'coast', 'caplan', 'bs', 'colton', 'felix', 'namesnnnperhaps', 'buttsex', 'petition', 'tyranid', 'lnnweather', 'aguycommenting', 'glorifying', 'headedxcxa', 'homeland', 'flaming', 'occasionally', 'sahibnnimran', 'ndivisive', 'sodomize', 'seasonnn', 'carefuljimboog', 'uaung', 'partisandont', 'prck', 'violated', 'balotelli', 'abandonment', 'zhark', 'bellend', 'occasion', 'chile', 'attacked', 'nikal', 'noxcxasure', 'spawned', 'healthcare', 'strengthen', 'fresher', 'yer', 'sucksplug', 'chimp', 'unsustainable', 'maybe', 'axabehavior', 'fucking', 'uuecdc', 'bho', 'antaga', 'britney', 'transmits', 'unpolished', 'sprinkling', 'stacked', 'trained', 'elias', 'nnunlucky', 'entire', 'insidious', 'yourightnow', 'tamer', 'motherwhy', 'opinaremos', 'wives', 'casesxa', 'linensay', 'rightmuslims', 'peabrains', 'gratuities', 'onesxahe', 'viral', 'name', 'governor', 'networkxexx', 'didntcarson', 'aucausin', 'jersey', 'smokiung', 'enxa', 'niche', 'clone', 'asses', 'jaded', 'beta', 'frufru', 'earnnyours', 'glenn', 'jfk', 'enmass', 'lilttle', 'stud', 'whiz', 'losernnnwho', 'insight', 'handled', 'antitolerance', 'canxahear', 'drips', 'marriages', 'mast', 'notthey', 'youve', 'motivated', 'fatwa', 'how', 'malouda', 'hangeron', 'istado', 'whatnthe', 'ashtonni', 'immigration', 'eduardovich', 'practicing', 'threats', 'detailnn', 'ucking', 'girlngood', 'bethat', 'dodgersnnbraun', 'junior', 'simplennthat', 'parentsxcxa', 'load', 'slave', 'plug', 'revoked', 'obviosly', 'outits', 'burned', 'predicting', 'minutes', 'hazel', 'veteran', 'lier', 'obasanjo', 'aint', 'pictured', 'screwed', 'orleans', 'std', 'major', 'schmuck', 'levels', 'lifestylesthat', 'saker', 'testimony', 'glamorous', 'stinkhole', 'neighborhoodxa', 'rino', 'rent', 'hardxa', 'commentshame', 'handling', 'xabut', 'laraza', 'pm', 'totally', 'democratic', 'weird', 'value', 'wk', 'deserving', 'godsn', 'obummer', 'least', 'bigots', 'sayxcxa', 'pissed', 'ganska', 'anal', 'cosas', 'mei', 'sentinel', 'gc', 'rarely', 'unbalanced', 'racefrom', 'taxes', 'ladyanne', 'station', 'xaagain', 'kwaartz', 'posting', 'wholexcxa', 'concerning', 'unnirs', 'moms', 'kings', 'thepast', 'gamling', 'ut', 'andor', 'younnlets', 'fuckign', 'thankfull', 'victor', 'xcxannso', 'when', 'postal', 'cardinal', 'timennthe', 'washes', 'acting', 'scale', 'ancelotti', 'comingwanna', 'conversion', 'katrina', 'shirtnnposting', 'andino', 'putting', 'rostitution', 'communityyou', 'paste', 'whops', 'forfeiture', 'sluror', 'etchasketch', 'floridas', 'siempre', 'spectacular', 'latourette', 'supplied', 'infinites', 'loved', 'voters', 'irresponsible', 'journalismxexxs', 'finest', 'series', 'positionsnnyou', 'wont', 'cuando', 'logic', 'jeezusdo', 'capitalist', 'sydneyjane', 'proglodytes', 'illegals', 'heir', 'campaigning', 'baack', 'lololol', 'buchanan', 'nuebfu', 'havee', 'quitter', 'straw', 'binominalxa', 'aborted', 'concussion', 'cricket', 'shoots', 'kitchencant', 'opposed', 'goxa', 'haute', 'britain', 'charged', 'receiving', 'dropped', 'misery', 'tank', 'mineola', 'lawyer', 'soooohaving', 'devoted', 'ave', 'chimeras', 'ingram', 'andrea', 'fruit', 'schoolhave', 'slutchild', 'itxcxannmy', 'any', 'passar', 'stupiditytake', 'watchthe', 'jonathan', 'differ', 'rudy', 'entitlement', 'cmym', 'quiet', 'spitting', 'shill', 'smellinger', 'howienicann', 'pusy', 'vendors', 'nazis', 'biting', 'favor', 'match', 'emisyjny', 'choirand', 'catapult', 'daddys', 'horror', 'pare', 'patt', 'un', 'hardu', 'shelter', 'mxe', 'aldickweed', 'pussy', 'weas', 'epidemic', 'cotto', 'technique', 'forbes', 'xdd', 'prevent', 'vxe', 'climb', 'monday', 'dicendo', 'es', 'mason', 'quacks', 'itll', 'mehole', 'hotblooded', 'cards', 'thurley', 'troyzan', 'alter', 'youxexxre', 'fucng', 'papers', 'less', 'lacky', 'mer', 'drake', 'insisted', 'perot', 'rising', 'closely', 'whiteface', 'rabid', 'structures', 'preference', 'theyxause', 'noweverything', 'muchn', 'sgk', 'toxcxahelp', 'promisesread', 'jobcanadianps', 'bama', 'subhuman', 'otev', 'monster', 'sermon', 'ventured', 'pssy', 'uce', 'gabriel', 'obvious', 'abysmal', 'epa', 'como', 'boost', 'hurting', 'basketball', 'allmxenna', 'slump', 'infomercial', 'adultsxcxa', 'compliment', 'prizefor', 'svxert', 'httptcobsxxwhh', 'lutem', 'wording', 'boob', 'ilk', 'yachtnnnnone', 'prefaced', 'escape', 'eliminated', 'factchallenged', 'levelbut', 'detriment', 'lucy', 'tobi', 'crony', 'descriptions', 'whorlng', 'budzie', 'tickets', 'monumental', 'friends', 'ucsavingud', 'babe', 'indians', 'driver', 'moneyxcxafrom', 'criminals', 'programmer', 'guru', 'soo', 'has', 'questo', 'haveta', 'kmoss', 'territory', 'criticise', 'truthspin', 'thisxcxa', 'careless', 'negativity', 'utilize', 'permits', 'vxeo', 'uto', 'tindakan', 'pieceofppppoop', 'goddamned', 'tribal', 'eyesore', 'full', 'plate', 'flynn', 'organizerxexxd', 'christianity', 'cole', 'afraid', 'oaxaca', 'xawait', 'administrations', 'oblivion', 'choke', 'bandwagoned', 'menlike', 'yahhhhhit', 'alterego', 'nixon', 'warsnnjust', 'symbol', 'mainly', 'fcking', 'vets', 'mouth', 'graduate', 'jaman', 'pages', 'antlers', 'aggie', 'httptcoojwoae', 'deaths', 'xain', 'jenniferlesley', 'laws', 'ramsey', 'gunjan', 'waysall', 'httptcontzlkh', 'fuckerysmh', 'running', 'citizennna', 'mieux', 'ballnndid', 'proving', 'ixcxaam', 'churchs', 'cunt', 'us', 'resign', 'wondering', 'poo', 'investigations', 'vilket', 'emerged', 'clown', 'liberties', 'seasons', 'neva', 'prendano', 'landed', 'revulsion', 'duck', 'nnhaiti', 'virus', 'smashin', 'dumberxa', 'upsurd', 'sau', 'television', 'members', 'huhblack', 'xaby', 'ag', 'in', 'leaders', 'pointing', 'fyi', 'cheek', 'accumulate', 'know', 'shops', 'publishermike', 'nghiu', 'refuting', 'pxestxes', 'okay', 'againstnthe', 'overno', 'investigating', 'bagsi', 'rioting', 'spit', 'onnn', 'legnndid', 'aristocracy', 'nowwhy', 'turn', 'critic', 'letti', 'ingeand', 'burnouts', 'mannnmaybe', 'attorneys', 'itolerates', 'conning', 'di', 'things', 'yuppie', 'thread', 'stark', 'confrontation', 'momma', 'shillll', 'httpsharesqbkpn', 'breed', 'swimsuit', 'theyve', 'pockets', 'donate', 'diggs', 'dasdbobb', 'river', 'trayvon', 'guise', 'coke', 'smentito', 'paulxaeu', 'dailynmay', 'device', 'irrelevant', 'hitting', 'campaign', 'homosexual', 'twenty', 'stonewalling', 'granting', 'building', 'opposite', 'idiotnnbut', 'soi', 'nenn', 'savedxcxaxcxa', 'arefunny', 'employeesxaall', 'possibility', 'hamels', 'companies', 'httptcockmuftr', 'contrary', 'autotunenif', 'aberdeen', 'epitome', 'observers', 'toys', 'popstars', 'wanted', 'ii', 'igenom', 'ars', 'xanni', 'questioned', 'deficit', 'kkk', 'foley', 'terrorist', 'regretted', 'modi', 'untd', 'anyone', 'shuffle', 'rollnn', 'senior', 'depend', 'conflict', 'frases', 'hanni', 'perpetuate', 'employeesxexx', 'teached', 'bbxa', 'nahin', 'crushed', 'plant', 'considering', 'cancer', 'vanilla', 'himselfxa', 'earlier', 'permanent', 'swedish', 'muscles', 'ring', 'tear', 'so', 'enemies', 'incorrigible', 'gays', 'depths', 'boomstick', 'fugitive', 'degeneracy', 'hizo', 'choker', 'beieve', 'razors', 'numbing', 'unfortunately', 'items', 'feeds', 'younndont', 'boring', 'freeze', 'giants', 'helping', 'not', 'baldheaded', 'kissing', 'banal', 'doxcxa', 'claims', 'arguaments', 'pedo', 'hearing', 'pl', 'advised', 'idc', 'regan', 'tba', 'stupidndo', 'consistent', 'agree', 'po', 'introduced', 'privilege', 'warabraham', 'salazar', 'huckabee', 'goaded', 'poses', 'blackjack', 'potoae', 'worriesyoull', 'insisting', 'allies', 'p', 'preferred', 'obscure', 'pickxcxa', 'votos', 'commenter', 'patient', 'persie', 'strategist', 'nepal', 'pensions', 'health', 'materials', 'theriot', 'remake', 'hasxa', 'enxhin', 'thru', 'thieves', 'stream', 'spics', 'bacl', 'thatnneither', 'elvas', 'hasnt', 'aleging', 'insultsxa', 'crew', 'halt', 'bsn', 'boxes', 'prick', 'wholesale', 'respects', 'murrays', 'moreits', 'vlad', 'sixyear', 'haryana', 'hughes', 'likexabah', 'fittingnnno', 'games', 'incomexexxin', 'duexarespect', 'celtics', 'leviticus', 'gillian', 'reap', 'wet', 'disrespectful', 'vueefng', 'xawhat', 'allnnthis', 'nndan', 'seiko', 'offxcxathe', 'embarrass', 'shoo', 'laden', 'aliensnnyou', 'trool', 'leyes', 'shithoe', 'scientists', 'prem', 'chuedng', 'laptop', 'nixxers', 'kudos', 'allegedly', 'falsely', 'turnt', 'rode', 'report', 'wonnnif', 'untrustworthy', 'xablind', 'serialized', 'xadid', 'unionsxa', 'chick', 'receiver', 'country', 'taxpayers', 'factor', 'surpass', 'turkey', 'drugged', 'politician', 'construct', 'human', 'nats', 'sorta', 'doubtnnas', 'silo', 'ones', 'obies', 'fuuuuck', 'piss', 'stingy', 'abroad', 'succeeded', 'hoped', 'reunion', 'dead', 'bigotry', 'por', 'rulings', 'itur', 'but', 'feel', 'temperature', 'figureand', 'pepes', 'biseksual', 'squash', 'hunger', 'bxecnh', 'porn', 'befor', 'blow', 'scientist', 'sir', 'assertion', 'responsive', 'pluckyinky', 'someplace', 'deceased', 'asshle', 'lists', 'forni', 'qe', 'dxfnn', 'moderates', 'dwn', 'yet', 'controled', 'billingsley', 'ye', 'drunkard', 'poi', 'destroyed', 'midjunebr', 'geniusnholy', 'booked', 'commercials', 'suspects', 'balanced', 'were', 'criticisms', 'sweeping', 'inclineds', 'puddle', 'disgraceful', 'ushers', 'actually', 'christ', 'cake', 'downloading', 'limit', 'threshold', 'wasteddont', 'adorable', 'goddammit', 'mccnnell', 'imitation', 'bledel', 'whitesfrom', 'pawb', 'memorandum', 'stemming', 'westernersnnnow', 'thx', 'ju', 'buzz', 'chavez', 'xaall', 'gave', 'homophobe', 'wrong', 'deformed', 'elaborate', 'hottest', 'arborist', 'courses', 'nails', 'laquila', 'grunt', 'ive', 'ignore', 'imagined', 'investigators', 'linked', 'bail', 'pills', 'essentially', 'beck', 'partyxfxfxdxbb', 'stikers', 'treat', 'nnas', 'etcxcxa', 'rebuild', 'paul', 'stalked', 'harek', 'gateway', 'ministers', 'hassan', 'blanton', 'average', 'sweetread', 'socialized', 'basic', 'woulda', 'privileges', 'betty', 'suspend', 'ueanh', 'nowhere', 'tuesday', 'wonderfully', 'lowerednnthe', 'managed', 'alcohols', 'instance', 'nget', 'uxfi', 'hug', 'partnership', 'nextxa', 'dolcennbaci', 'tommynone', 'za', 'blamed', 'newsman', 'distracting', 'buyers', 'ceo', 'prestigeous', 'poison', 'movingturn', 'againnnand', 'ships', 'partier', 'maggot', 'nsw', 'mightnnfor', 'knew', 'bmi', 'ballots', 'pullman', 'etan', 'dig', 'liverpudlian', 'suckthankfully', 'mountain', 'vain', 'rivets', 'deviance', 'worthless', 'criticism', 'diabtribe', 'doesxcxa', 'pervy', 'nowxaninfinite', 'opinionwise', 'this', 'rich', 'crapnnand', 'pressed', 'allegations', 'intrinsic', 'title', 'comes', 'andxa', 'grandmothers', 'disappear', 'infamous', 'thuecbt', 'nnspurs', 'pablum', 'peoplebodys', 'racked', 'diaap', 'styles', 'xaweak', 'contest', 'essien', 'daysnmuslims', 'verifiable', 'stank', 'mehave', 'boisvenu', 'polyvoreas', 'liberty', 'babylonians', 'millionnnthe', 'guessyou', 'ololol', 'receives', 'gaylords', 'deputy', 'hyping', 'minis', 'xaso', 'spree', 'xaif', 'haven', 'quietly', 'centipad', 'login', 'manzo', 'retina', 'related', 'vengence', 'cigarette', 'inferiority', 'heartbeat', 'theirn', 'nl', 'pitch', 'apartfrom', 'nownnwith', 'lez', 'wahls', 'knowscary', 'runningxcxa', 'sometimes', 'nnbest', 'hammerdance', 'sensationalism', 'shot', 'negevxa', 'flower', 'tunnels', 'infopleases', 'truemorth', 'teenager', 'spans', 'xaknock', 'sadaf', 'scream', 'awayxaxa', 'xem', 'purple', 'dispute', 'entonces', 'everything', 'carrier', 'fighters', 'tacticnxcxa', 'citizen', 'holding', 'purpose', 'shsh', 'reefs', 'jing', 'ure', 'oo', 'gollythats', 'allow', 'isi', 'endtime', 'craziness', 'qte', 'ucyouure', 'japanese', 'floyd', 'drafted', 'warnings', 'msnbc', 'sponsor', 'dysfunctional', 'pints', 'yourselfxa', 'gene', 'moan', 'speaker', 'lobe', 'proclaim', 'cabinet', 'latin', 'nnonly', 'played', 'mo', 'latino', 'fist', 'fuuucking', 'providers', 'kiddieporn', 'retorts', 'dubuedbi', 'vagueperhaps', 'begging', 'slipping', 'reccomend', 'agains', 'park', 'organize', 'opinions', 'crook', 'test', 'reckon', 'cantr', 'rethink', 'thatxexxs', 'kingdom', 'hillary', 'grandfathers', 'rofl', 'saynn', 'economical', 'determined', 'statexcxa', 'fosters', 'unfortunate', 'fitness', 'librulsxannare', 'patriots', 'bullseye', 'cleans', 'begged', 'thisxb', 'studyxcxa', 'choking', 'rapidly', 'basicamente', 'kar', 'banker', 'pft', 'commenting', 'uncool', 'reportnn', 'cities', 'credentials', 'igor', 'friend', 'short', 'bailout', 'tightnyou', 'swimmer', 'mormons', 'parcrusty', 'factual', 'na', 'abomination', 'onejohn', 'spell', 'acute', 'tixeannxaxa', 'expunged', 'downloaded', 'tours', 'programmed', 'abxxv', 'zero', 'mxecnh', 'clunking', 'grips', 'wired', 'uueau', 'privata', 'kkkonservative', 'govermet', 'spursruss', 'cruel', 'hoofs', 'apples', 'andato', 'chooses', 'itnxanuncle', 'heap', 'lottery', 'trong', 'pues', 'formaldehyde', 'lights', 'shore', 'aw', 'divided', 'satanic', 'mideast', 'fxe', 'progs', 'nnin', 'sker', 'prophet', 'causesxcxa', 'blob', 'interest', 'environments', 'usu', 'ba', 'samajh', 'juts', 'brave', 'process', 'nbrother', 'bankruptnthis', 'obomination', 'xcxaget', 'kotor', 'delusinal', 'hardy', 'artists', 'intent', 'honey', 'desires', 'forthnyou', 'mubarh', 'arrihanna', 'more', 'brakes', 'yournasty', 'eustace', 'flattening', 'vip', 'adolescent', 'prepared', 'craziesxa', 'societies', 'stile', 'darlingsoft', 'manner', 'kochxexxso', 'neanderthal', 'su', 'marrying', 'feb', 'cooks', 'mcdoonalds', 'ehnnom', 'bless', 'aybbar', 'constitutional', 'roll', 'messiah', 'active', 'reallyxcxa', 'ilivei', 'sonny', 'stats', 'excited', 'shining', 'collateral', 'brats', 'monserrate', 'incoherent', 'nnkevin', 'curl', 'curtail', 'afterwardsnn', 'standards', 'cyber', 'licenses', 'inflammatory', 'nomineebig', 'unga', 'high', 'wake', 'allt', 'squalor', 'hugging', 'ocksxe', 'from', 'doritos', 'significantlynn', 'milligrams', 'dontswallow', 'jogging', 'rainbeausndo', 'suhinthe', 'illogical', 'ilikesi', 'dome', 'wyjdzie', 'defunct', 'towel', 'toxcxaget', 'injury', 'hollow', 'wellheeded', 'classics', 'dismissed', 'youy', 'sirasasakkili', 'fucknnnturn', 'xakids', 'rapist', 'wantednnthe', 'jervis', 'pussyxaxa', 'xcxagetting', 'rumors', 'emerge', 'segments', 'elect', 'retardicans', 'puppy', 'along', 'meanor', 'simultaneous', 'happier', 'xathought', 'nah', 'signal', 'lunacy', 'confusion', 'vist', 'timenn', 'sphincter', 'scrapped', 'mindfuck', 'citizenship', 'rid', 'ironically', 'toadxa', 'innocence', 'bien', 'bases', 'whaaaaaa', 'present', 'obviously', 'master', 'legislation', 'slavey', 'desputed', 'rushing', 'job', 'pig', 'illustrate', 'fingerprints', 'smellyterdxa', 'cha', 'abuse', 'continuous', 'meu', 'zealand', 'yourselves', 'flatly', 'sterilized', 'importann', 'forxcxa', 'uninsured', 'practically', 'teabilly', 'idioticxa', 'dreams', 'stereotype', 'mariners', 'whom', 'lovers', 'structure', 'protections', 'unclesnni', 'tick', 'canes', 'ikathyv', 'scheme', 'udo', 'changes', 'fest', 'brainsnstep', 'considered', 'sahib', 'mexicanxcxa', 'andi', 'pets', 'astonomical', 'props', 'yourexaclearly', 'husbandxexxs', 'anonymous', 'mosocow', 'lord', 'repub', 'eatshitanddie', 'spiritand', 'daytime', 'yeari', 'spice', 'txecnh', 'economy', 'minors', 'league', 'blatant', 'necessarily', 'bearing', 'hiring', 'secondsnnyou', 'critically', 'parroting', 'indicating', 'ixexxm', 'shell', 'unnecessary', 'momentxcxa', 'han', 'childishxcxa', 'faithbased', 'defamation', 'welcomed', 'bedrxfvligt', 'wasxcxagermane', 'ur', 'fanxaxaxaxa', 'meds', 'gatensee', 'grounded', 'lemmings', 'xamove', 'painful', 'chasm', 'meansnnperhaps', 'elis', 'ind', 'becomes', 'noclaim', 'suspected', 'milano', 'thosennyoure', 'lest', 'search', 'isnit', 'g', 'grandbabies', 'authenticity', 'pasty', 'protection', 'do', 'seven', 'marijuana', 'difficult', 'extracurricular', 'thennndont', 'polk', 'dicknnfact', 'moose', 'mikey', 'stress', 'sexy', 'cookies', 'redumblicans', 'encounters', 'munchies', 'while', 'piling', 'omfg', 'resides', 'fuckdisqusxayou', 'kenny', 'trance', 'vanish', 'saidnon', 'endlol', 'kept', 'brock', 'flame', 'mission', 'nbp', 'aes', 'slutty', 'went', 'coti', 'brian', 'colbert', 'wreak', 'saw', 'animus', 'coverup', 'crosetto', 'skiesxcxannthe', 'xcxaof', 'outraged', 'ima', 'fish', 'catholic', 'hatsnni', 'niemerg', 'doubtnnnlmao', 'moyles', 'monthly', 'thxeut', 'york', 'showxexxd', 'femaleor', 'movie', 'ucdo', 'andy', 'ac', 'mixture', 'biatch', 'darn', 'fsa', 'deshmukh', 'bills', 'pharmacy', 'readywilling', 'evolve', 'shoved', 'sega', 'films', 'knowledge', 'heatnand', 'roman', 'gunsbr', 'yuck', 'ownxcxa', 'couldnxexxt', 'prison', 'sxedan', 'compliments', 'victoryxexxand', 'foolsxa', 'genes', 'executive', 'schoolnn', 'flute', 'replying', 'xl', 'freak', 'setting', 'lotxa', 'observed', 'milinette', 'enforced', 'obongo', 'values', 'moderaterna', 'anc', 'mejor', 'loverand', 'king', 'violate', 'priorities', 'translation', 'scarier', 'riffs', 'cou', 'cans', 'fastball', 'nnnnxayou', 'amp', 'resume', 'jimmy', 'vikings', 'follow', 'hexcxasays', 'pretending', 'nogicat', 'demokrati', 'forest', 'sterile', 'circulated', 'forgot', 'preddie', 'swim', 'mannnand', 'amous', 'fag', 'bravoxanperhaps', 'condoned', 'crowds', 'twisting', 'banking', 'bitchhe', 'phatpig', 'nations', 'fxer', 'father', 'leon', 'americannvan', 'rickhmm', 'wtf', 'abused', 'rhetoricnthese', 'nngaydolph', 'myth', 'pamer', 'wh', 'incidence', 'opinionsxcxa', 'our', 'pbr', 'itni', 'swastikas', 'pic', 'jailed', 'rightwe', 'nhe', 'dialog', 'absurt', 'cxec', 'stalking', 'childrennnbingo', 'prog', 'doug', 'kanten', 'renaissance', 'roarnif', 'cunningam', 'progessive', 'reallynsince', 'autistic', 'diligence', 'ramp', 'vulnerable', 'bucket', 'bait', 'industrial', 'knit', 'deep', 'scared', 'rhymes', 'againxa', 'btw', 'borg', 'countrynndoug', 'theyll', 'xf', 'diamonds', 'nsee', 'videoim', 'femalesnwives', 'rememberthis', 'legislate', 'funnynnwhat', 'discussing', 'transplantsee', 'amen', 'behaviorshame', 'dislike', 'thanh', 'notborneverymin', 'austere', 'shred', 'darden', 'mega', 'anybody', 'premeditated', 'learning', 'inbreeds', 'sware', 'sunk', 'andxcxasocial', 'discourse', 'replies', 'mainlanders', 'california', 'holy', 'pinky', 'sidney', 'able', 'tofauxnews', 'shoot', 'nd', 'graphics', 'lazerbyte', 'anothers', 'baun', 'accomplish', 'fxfrutsxetta', 'wreckxa', 'tattoo', 'alain', 'moneyxa', 'mccarthy', 'ticket', 'cvs', 'frostynni', 'hee', 'nnyoure', 'mole', 'birthday', 'assumptions', 'sirasatv', 'inconsistency', 'reelectednnnot', 'reruns', 'mistaken', 'profile', 'described', 'inec', 'cremetoriumsxa', 'whod', 'earnedn', 'iphones', 'pod', 'gregory', 'xcxadirect', 'thadici', 'elsexa', 'isxcxa', 'owns', 'mendrys', 'onranker', 'satirist', 'ltte', 'single', 'hired', 'intels', 'dreamt', 'ucwith', 'video', 'franksnand', 'imagery', 'kcstar', 'xcxainstead', 'glory', 'creating', 'starspangled', 'yard', 'klassas', 'kobedolt', 'disrespectnthey', 'thecrap', 'xshogunxs', 'liner', 'revolttoday', 'practical', 'hetero', 'cornell', 'thatyou', 'civiliserat', 'pies', 'prefers', 'xfnskardet', 'belgium', 'gear', 'comprised', 'goodnnokay', 'picks', 'publisistmay', 'etcnnselfish', 'button', 'pipeline', 'aac', 'emotionxa', 'size', 'window', 'burrito', 'muecdi', 'broked', 'fpff', 'estimate', 'thisncountry', 'kxfrkort', 'competitors', 'theyxahas', 'fitzxafuck', 'jr', 'almajiris', 'muaui', 'bipolar', 'nnlet', 'tenors', 'influencer', 'noddles', 'goldschmidt', 'practioners', 'chief', 'youk', 'finished', 'itnnjust', 'homework', 'grupo', 'nusnnyou', 'trabert', 'arexcxa', 'honestly', 'parkxcxaeliot', 'reviews', 'urinate', 'stretch', 'navmarinearmy', 'respect', 'mailed', 'lion', 'bathroom', 'barbellnnnso', 'trumely', 'prophesied', 'recipe', 'pure', 'umm', 'tramp', 'messiahs', 'xafuck', 'beggars', 'kayam', 'otherwisennso', 'white', 'viewpoint', 'accidentally', 'chaz', 'pimp', 'obamaxcxacant', 'thexcxado', 'bsare', 'centurynnwasps', 'alex', 'veracity', 'censure', 'yearnworse', 'deflowering', 'battle', 'motherfuck', 'headlollollol', 'itnnim', 'gsjjloomis', 'httptcoickvhem', 'onxcxa', 'sxetta', 'hed', 'lfbc', 'db', 'failnn', 'lame', 'intendednna', 'cares', 'wages', 'millionaires', 'solicited', 'servitude', 'himnnbut', 'moneyman', 'identification', 'httptcovlfbeyg', 'hypotheses', 'feedho', 'mindxaxa', 'enigmatic', 'allgaybryan', 'foolnnanother', 'awwwits', 'hora', 'afgans', 'maliciously', 'shithouse', 'fetuses', 'kurius', 'spiesxaand', 'chappelle', 'karimazweena', 'argies', 'autotunednget', 'rainbows', 'chesterxa', 'frist', 'selfdefence', 'aspergers', 'marxists', 'homothugs', 'jenkins', 'yournrndid', 'turnaround', 'laughing', 'obamannow', 'nthe', 'longest', 'eu', 'comming', 'nds', 'annul', 'informed', 'elbowthrowing', 'kraut', 'plus', 'prolong', 'utmanad', 'wandered', 'study', 'needsxa', 'euros', 'productionhe', 'suicideufeff', 'fattanmi', 'soliciting', 'cuung', 'kerner', 'baltimore', 'economic', 'wwdc', 'race', 'tool', 'touched', 'borders', 'includes', 'given', 'wiser', 'rolling', 'andxcxasink', 'castros', 'stealing', 'muuedn', 'publicized', 'everytime', 'insolvencyyou', 'pacman', 'athletics', 'hotly', 'mustapha', 'youtubenhope', 'letter', 'drowns', 'royals', 'placexaand', 'shrugged', 'sociopaths', 'polygraph', 'retarded', 'boeti', 'gains', 'require', 'evaluate', 'dudes', 'saynnas', 'lawwhat', 'stay', 'creature', 'nstory', 'xcxaliving', 'he', 'babs', 'correct', 'fabulousxa', 'mako', 'jeremyziglar', 'pastor', 'societyn', 'niste', 'centralized', 'terriblexa', 'interpretation', 'yesthese', 'pp', 'nnsecond', 'hitler', 'konstigt', 'ropes', 'studying', 'campaignit', 'christard', 'exact', 'shown', 'awww', 'signing', 'womens', 'billed', 'upon', 'views', 'tighten', 'business', 'giveaway', 'tonndo', 'dante', 'dictating', 'traficant', 'astounding', 'ridiculous', 'againnnyou', 'upside', 'nolimits', 'nnomg', 'siging', 'decapitate', 'mua', 'bret', 'monthnbsp', 'exempted', 'schollys', 'fxfr', 'alienated', 'gb', 'pactncomrades', 'vlastnxeho', 'finances', 'stayed', 'stupidxcxa', 'alabama', 'kenmor', 'nlike', 'todaynbsp', 'resist', 'shameful', 'orfice', 'behner', 'blasphemy', 'writher', 'imminent', 'teeboowanxahah', 'ideawhy', 'finexexxdnnnn', 'tree', 'bmitch', 'voteaxaobama', 'argentines', 'ladenxa', 'fascinating', 'advancements', 'fifth', 'cowards', 'credentialed', 'flowers', 'heared', 'wimping', 'allnthat', 'insured', 'dismarv', 'smack', 'highenergy', 'concedes', 'muchnnmaybe', 'fatheri', 'listxcxaxcxai', 'bring', 'interleague', 'pakistan', 'callin', 'touche', 'thexcxa', 'obama', 'mio', 'sorry', 'backnnromney', 'did', 'afghan', 'thighs', 'toxaavoid', 'assaulting', 'clearly', 'plentiful', 'insectizidasn', 'xcxamy', 'finger', 'office', 'someones', 'lil', 'toxadesignu', 'totnumfan', 'towns', 'nosey', 'theor', 'thxfinkhxfng', 'networks', 'im', 'messiahobama', 'precisely', 'nthey', 'judgement', 'mendozamartinez', 'heat', 'speechno', 'explose', 'doubles', 'pit', 'reigning', 'mos', 'protester', 'kessen', 'trang', 'gusto', 'stadiium', 'chiamate', 'streamer', 'alivexa', 'contributed', 'bacckkkkkkk', 'typically', 'element', 'teachersxexx', 'reaganomics', 'what', 'travyon', 'adopted', 'kennedy', 'beckham', 'shook', 'becomeone', 'teatboywonder', 'commi', 'clowns', 'intalado', 'exaggeration', 'hordes', 'mara', 'srr', 'joel', 'fireworks', 'molesting', 'stage', 'reminds', 'recollection', 'shthead', 'raccomandare', 'whyyy', 'nnew', 'proportions', 'thisxapiece', 'trails', 'rents', 'scandalsxa', 'mixing', 'shame', 'worried', 'bcuz', 'mag', 'synnerligen', 'young', 'calpirg', 'sentance', 'hanxa', 'go', 'arent', 'touchy', 'summerxexxcould', 'upward', 'butter', 'specific', 'ucthe', 'known', 'id', 'envisioned', 'bragging', 'jobthese', 'inhouse', 'cxfng', 'throatxcxa', 'ug', 'disappointed', 'jussi', 'wifehow', 'ic', 'open', 'aur', 'arguing', 'treats', 'shthole', 'parasitical', 'xak', 'freakin', 'beyonce', 'fleshxcxa', 'mutilation', 'equivalent', 'dogma', 'yahoooo', 'hacks', 'fuckya', 'issued', 'hastings', 'isawi', 'hiding', 'wauwatosa', 'belittling', 'boner', 'friendship', 'ages', 'danny', 'apologise', 'freeway', 'kitchen', 'inch', 'sensegranny', 'spanking', 'notheismxa', 'pee', 'newtons', 'berkelynxexxcat', 'adamant', 'mental', 'whateverxa', 'lockup', 'twist', 'lawrence', 'september', 'lived', 'raided', 'cable', 'pray', 'break', 'httpsharesqkujt', 'buffet', 'tends', 'tumour', 'hiv', 'typical', 'poland', 'bump', 'munroe', 'arsenal', 'issuesxa', 'shriveled', 'responded', 'infiltrate', 'woes', 'cured', 'mierda', 'anelka', 'cocaine', 'ki', 'exprain', 'humans', 'doouchebag', 'assnn', 'okami', 'neatest', 'manxa', 'sacramental', 'superpowers', 'husbands', 'term', 'wasnt', 'leaks', 'christiansxcxa', 'destructionxcxa', 'knows', 'deemed', 'reads', 'north', 'fragments', 'nukkasi', 'desperatelynn', 'dickheadni', 'elses', 'thirddegree', 'moderator', 'rx', 'dictators', 'xatheres', 'holepoor', 'nnigerias', 'stooopid', 'queer', 'papayas', 'gwen', 'drinks', 'httppaperlif', 'fannie', 'rynthih', 'expectation', 'dork', 'earliest', 'geniusesnnjail', 'dongsaeng', 'jayate', 'isaan', 'justasking', 'bankfull', 'appear', 'kitchens', 'sonogram', 'debtand', 'subsidies', 'usage', 'various', 'theft', 'cyberbully', 'peice', 'industry', 'oili', 'sb', 'mathnnpeople', 'pretentious', 'loland', 'niggs', 'matt', 'nghu', 'chicago', 'regretting', 'tolerated', 'shine', 'issuennget', 'london', 'substantial', 'mizzou', 'personnwas', 'marijuanaxa', 'settimana', 'belittle', 'thexapresident', 'justices', 'against', 'islamic', 'alist', 'sketchers', 'unchastity', 'whip', 'towdo', 'runxcxa', 'courts', 'governors', 'butchfries', 'deb', 'presentation', 'poetic', 'lsempa', 'musicxa', 'parents', 'dush', 'vince', 'unconsciousness', 'hearts', 'teased', 'repeat', 'exorbitant', 'nconsider', 'actress', 'hacias', 'condolences', 'pascals', 'youalmost', 'exploiting', 'youself', 'gold', 'hereill', 'iubesc', 'based', 'glock', 'bending', 'potentially', 'pundit', 'hunters', 'realisticly', 'saythe', 'uuecu', 'dumbness', 'soros', 'meanwhile', 'suffered', 'rttenkyouplease', 'helmet', 'oldwhitepimp', 'vilonceand', 'felt', 'confirms', 'perform', 'until', 'saith', 'orientation', 'tempted', 'inane', 'kimora', 'overnnsimple', 'requirement', 'hadnt', 'bishops', 'youxaresponded', 'benn', 'lashing', 'incomes', 'moronyou', 'saying', 'reagan', 'courtt', 'allxcxa', 'green', 'flora', 'flatpack', 'info', 'hafner', 'aldri', 'diegohow', 'ncxec', 'inspire', 'weapon', 'prophets', 'anathema', 'umnxanholy', 'thankful', 'itsobozobitch', 'varandra', 'wanting', 'fried', 'irans', 'nownnrofl', 'cosxec', 'threadxa', 'kiffan', 'io', 'ally', 'httpsharesqzim', 'judy', 'flea', 'opportunities', 'libertine', 'fansgotta', 'libertarian', 'rewarded', 'sources', 'faking', 'phony', 'tools', 'waterxa', 'addicted', 'killed', 'waay', 'servants', 'dad', 'fear', 'pirates', 'fixes', 'excellent', 'wowroflits', 'addition', 'anyhow', 'peoplethis', 'and', 'argentina', 'love', 'votes', 'dicsnndistract', 'nervous', 'mujahideen', 'shoenice', 'insanely', 'postapocalyptic', 'jay', 'prosecution', 'comrades', 'mewho', 'weeksbut', 'fx', 'childrennplease', 'doofus', 'dose', 'sheets', 'trophy', 'stuffed', 'minho', 'import', 'scrap', 'phuuking', 'dying', 'qualifying', 'terms', 'xaam', 'valuexcxaover', 'teacher', 'ramdin', 'insanity', 'haters', 'dhe', 'iwhy', 'immigrants', 'shameless', 'stoked', 'belive', 'benefactors', 'shouldve', 'ummm', 'overn', 'aboutxauuuauua', 'suing', 'starbucks', 'kind', 'practice', 'gdlow', 'againhe', 'makenof', 'yoursxcxa', 'stepping', 'itnnnnjack', 'riders', 'disneydawg', 'andys', 'pbreaker', 'strikers', 'rabbit', 'egyptian', 'ryuzaki', 'disappointing', 'kpop', 'direttore', 'reached', 'toocan', 'sincerely', 'kid', 'meth', 'conwingraduated', 'mostly', 'mini', 'themand', 'wally', 'sensibilities', 'procreative', 'situation', 'focusing', 'tie', 'delaying', 'wexexxd', 'charities', 'vxera', 'your', 'pass', 'showed', 'enlightening', 'fractions', 'nobody', 'commentn', 'lc', 'shum', 'every', 'fudging', 'eastenders', 'iain', 'readers', 'douch', 'consistently', 'behaviornnin', 'successful', 'placate', 'stareim', 'democracy', 'frikkinghell', 'nnall', 'indicate', 'fugate', 'highschool', 'fap', 'bridge', 'improper', 'shirleyannie', 'hop', 'cub', 'old', 'frrrozen', 'berlinguer', 'senadoxa', 'abilities', 'emperor', 'saidnnhey', 'contributionsxa', 'megan', 'recordsxa', 'offense', 'plots', 'deathnnthats', 'bristoljust', 'pussies', 'struggling', 'attempted', 'discredited', 'lock', 'sucknnbring', 'rrepistia', 'dony', 'mayxcxa', 'windufeff', 'dudebut', 'passenger', 'tengo', 'wastexa', 'trafficnnyou', 'anachronism', 'unanimity', 'libertynas', 'citizenthe', 'conservation', 'answering', 'embers', 'marraige', 'nnubbs', 'bombing', 'steal', 'prevaricating', 'fantasies', 'roland', 'mrnsecondi', 'greatest', 'masturbation', 'coupled', 'skit', 'unknown', 'robert', 'tampon', 'jordanians', 'microphone', 'barry', 'transition', 'theprofhypo', 'legislative', 'inhuman', 'masters', 'marynn', 'jehmu', 'stack', 'hypocrite', 'militaryxcxa', 'karlovvvv', 'year', 'coolest', 'lead', 'muppett', 'cityxexxs', 'despues', 'joseywhales', 'woowww', 'obsessive', 'loafersmufucker', 'rare', 'henchwoman', 'goxcxa', 'cowboy', 'moldy', 'windsor', 'dap', 'didnxexxt', 'responsibility', 'born', 'horizons', 'prime', 'adolf', 'turnnn', 'assaulted', 'durdens', 'lyp', 'spokexathat', 'demagoguery', 'dive', 'prepare', 'correcting', 'bushcheney', 'ko', 'contracts', 'payer', 'comfy', 'brows', 'today', 'trump', 'aimed', 'revealing', 'albaxfil', 'justify', 'romeu', 'paragraph', 'wear', 'assi', 'milk', 'joses', 'code', 'ca', 'fyck', 'sweat', 'aged', 'themxa', 'instruments', 'smug', 'justice', 'morning', 'median', 'hay', 'ryango', 'ne', 'desensitizing', 'mess', 'offal', 'bell', 'lifeyou', 'swam', 'whatxa', 'eli', 'adult', 'dreamxcxa', 'attackinglike', 'friggin', 'andxcxaa', 'boyhollow', 'dozen', 'oreilly', 'precedent', 'decoration', 'curious', 'nhueb', 'apology', 'buess', 'studds', 'waiting', 'equipped', 'lb', 'fruitloop', 'dumb', 'teats', 'cam', 'bribing', 'deniers', 'factsthe', 'passed', 'lying', 'megagiornalista', 'spoon', 'face', 'pride', 'ful', 'comprehend', 'sinclair', 'information', 'appointed', 'mitchell', 'ubiese', 'personnel', 'americans', 'slandered', 'dole', 'classy', 'xaok', 'shooting', 'seizure', 'verse', 'filter', 'yourncomment', 'radicals', 'blackface', 'crimesnand', 'wp', 'butch', 'november', 'wiped', 'goose', 'santino', 'digger', 'utstrxeckning', 'youand', 'wed', 'stinky', 'parker', 'maker', 'alan', 'hashim', 'braves', 'paragrafo', 'priusxcxa', 'odio', 'cycle', 'immediately', 'factsthen', 'wealth', 'favourite', 'jk', 'uzbekistani', 'fork', 'mang', 'mewe', 'timesnnbut', 'housennbetween', 'generalize', 'remcgovernized', 'inflatedn', 'believing', 'respectfully', 'closedxaxa', 'xelder', 'anytime', 'tim', 'moma', 'storyxa', 'nevada', 'dresses', 'rollerskates', 'breastsnfreaked', 'longterm', 'hide', 'sordid', 'variables', 'nowxathatsxaa', 'fbi', 'planennposted', 'upton', 'responsefelt', 'investigation', 'v', 'nhis', 'dykeaint', 'first', 'quote', 'cream', 'responding', 'otvivelaktigt', 'meek', 'lawsuit', 'rostenkowski', 'usa', 'fishernnnis', 'zooming', 'rape', 'apostasy', 'ask', 'eliminates', 'boat', 'volunteering', 'flick', 'nhas', 'evoking', 'occupying', 'carbondale', 'british', 'diagnose', 'thisnni', 'uneducated', 'nwofuckinglife', 'boyfriends', 'bachmann', 'willing', 'younnyoure', 'writer', 'mandating', 'fxfretrxedare', 'large', 'exposes', 'shop', 'imaginative', 'girded', 'innchild', 'definition', 'bambaataa', 'sc', 'menshe', 'hm', 'type', 'kinky', 'involving', 'repetitive', 'donxexxt', 'nam', 'must', 'vixean', 'leap', 'lasts', 'discharge', 'tht', 'daynnnnhe', 'indulgence', 'rejection', 'xannow', 'nduring', 'perry', 'bedyou', 'ah', 'faction', 'duplicates', 'nthere', 'by', 'killingntheir', 'personhood', 'bartender', 'keeper', 'votto', 'oavsett', 'tinadexler', 'fuckheadthat', 'cousin', 'ant', 'nhere', 'yayikes', 'yikes', 'partial', 'scam', 'judgennit', 'followedstalked', 'cowriter', 'hatched', 'fxfrxendra', 'supernatural', 'establishment', 'noodle', 'braindead', 'withxa', 'drain', 'ending', 'foliageoh', 'prospect', 'psychos', 'forn', 'nag', 'kursk', 'likh', 'panes', 'twin', 'cui', 'parrots', 'directer', 'newsflash', 'struck', 'truebut', 'plan', 'romneyrubio', 'inquisition', 'twit', 'sample', 'clinches', 'shady', 'babies', 'dessa', 'liam', 'melt', 'nnappears', 'freakery', 'backs', 'erectionsrnthen', 'payrolls', 'forgotten', 'candidate', 'incident', 'hybrid', 'recruit', 'uueec', 'edited', 'ep', 'boot', 'surprising', 'tsunami', 'workbefore', 'nnno', 'leg', 'pxaxa', 'mouthy', 'infante', 'xaare', 'historic', 'havin', 'physician', 'horribly', 'mclainnxanthe', 'nnavy', 'talent', 'noneus', 'normaln', 'french', 'director', 'ocapoasyou', 'america', 'shufflers', 'havethey', 'pilots', 'ew', 'noises', 'overcoming', 'derailing', 'equal', 'minimum', 'words', 'nwere', 'willnyou', 'homo', 'gimmickry', 'aboutn', 'swords', 'tripe', 'fug', 'pimplefaced', 'turnout', 'moviethe', 'affair', 'here', 'torres', 'politicians', 'nhiuu', 'mud', 'funeral', 'anout', 'recalled', 'darling', 'bentxcxaon', 'kong', 'fuad', 'mandatory', 'haver', 'gpgoddammitn', 'laminate', 'writes', 'modified', 'persuasions', 'pity', 'squid', 'excuse', 'after', 'caricature', 'entirety', 'types', 'dumbing', 'dontthey', 'directive', 'pursuit', 'moneyalthough', 'musty', 'separate', 'curtis', 'kenyanxa', 'ashole', 'morgan', 'seems', 'thrill', 'memoria', 'mennrhetorical', 'instancebut', 'askin', 'brew', 'lexus', 'bitchs', 'level', 'breadsticks', 'perkins', 'airport', 'oversampling', 'leftist', 'mornings', 'yourxa', 'rev', 'rostitutejerry', 'mark', 'essencenthey', 'possess', 'together', 'freecheese', 'resigned', 'commend', 'attaining', 'contemptxa', 'branchus', 'tacoma', 'yetnwe', 'nnnow', 'httptcoimmdufcc', 'mane', 'sometimesxa', 'appeasing', 'june', 'nuclear', 'eloquent', 'blessings', 'graphical', 'ripholes', 'living', 'works', 'whinexaxa', 'daddy', 'ceremony', 'challenges', 'bureaucracy', 'inside', 'footlongs', 'wez', 'compitition', 'chargersbuzztap', 'colorado', 'factorxexxd', 'barton', 'steven', 'beds', 'ou', 'middle', 'luefc', 'trollin', 'horse', 'amuses', 'homeowners', 'eras', 'sept', 'battleship', 'withnpittsburgh', 'thisxcxaxcxa', 'rightsxcxa', 'nncnnus', 'eh', 'roomnnscott', 'leeches', 'accomplishment', 'prickly', 'tap', 'lies', 'discipline', 'clock', 'pitbulls', 'sales', 'drogba', 'overskriften', 'youxadamn', 'cops', 'aswingingnnthe', 'fansnnmost', 'display', 'electric', 'nntheir', 'massive', 'valentines', 'conversations', 'peoplendeserve', 'nada', 'carefully', 'nerve', 'comparisonnnyou', 'gals', 'intoxicated', 'administratorxa', 'half', 'xcxayoure', 'contempt', 'sugar', 'skirt', 'joenbspstrong', 'conducting', 'trustworthy', 'tter', 'implicated', 'stylesxcxa', 'survivor', 'ingratiating', 'yeaaaah', 'nfl', 'coined', 'delibratly', 'deathly', 'workers', 'inravenclaw', 'boko', 'losernnthis', 'gayxcxa', 'lever', 'greecexcxa', 'debitoxa', 'horus', 'miserably', 'improve', 'deseerve', 'nowlmao', 'openly', 'nanny', 'factory', 'hereu', 'envious', 'yourselfwhy', 'commentxa', 'hanger', 'rule', 'nthat', 'incompetent', 'plaain', 'nos', 'civil', 'nxegot', 'realalty', 'tiuebfp', 'handicap', 'cozied', 'idiotswhat', 'mondalexexxs', 'geting', 'sellers', 'privatesector', 'energy', 'world', 'sooooo', 'teleport', 'bowlxcxa', 'zionist', 'banks', 'thisnnso', 'murderers', 'baptist', 'integrity', 'chihauhausnnno', 'ensure', 'hatethehype', 'blend', 'moments', 'orrible', 'fling', 'ammunition', 'patients', 'magic', 'role', 'thodeserved', 'admin', 'losers', 'supplement', 'twittwer', 'whatthis', 'believes', 'jackasses', 'cases', 'disagreewhen', 'parohami', 'hollywood', 'cigar', 'watch', 'voted', 'zone', 'fansyour', 'maggotxa', 'nunanimously', 'tp', 'beauty', 'icbm', 'funny', 'ricany', 'attendant', 'disabled', 'eternity', 'jackass', 'nones', 'xaoh', 'elects', 'fairness', 'gambler', 'revenue', 'uuba', 'jacob', 'teaching', 'imagic', 'gxa', 'victimnnno', 'hint', 'monger', 'domestic', 'dragos', 'treated', 'starting', 'joels', 'judge', 'porq', 'uueeng', 'activists', 'kevmille', 'bushies', 'taxpayer', 'pursuing', 'problems', 'prove', 'doubletaked', 'michelle', 'follows', 'este', 'parading', 'betrayals', 'toilet', 'bamma', 'begining', 'menacing', 'pastert', 'find', 'clandestine', 'mothernyou', 'underestimated', 'wala', 'allergiesxanni', 'stil', 'strapless', 'laughnngolden', 'misplaced', 'fuuuck', 'barajas', 'nnsadly', 'impeachment', 'ahole', 'obamaus', 'effing', 'rupert', 'idit', 'formatnni', 'mind', 'ock', 'magazine', 'butxcxadidnt', 'vivants', 'obligations', 'wardont', 'fhm', 'fagbox', 'scanned', 'basis', 'pelosi', 'fck', 'maintained', 'trustngod', 'balnced', 'fairweather', 'deck', 'brainnngo', 'empowered', 'mouthing', 'coherent', 'profligate', 'ps', 'ground', 'ireland', 'nxean', 'protracted', 'snake', 'suicides', 'jeg', 'motherinlaw', 'xi', 'atmyour', 'jargon', 'matthews', 'proof', 'youvencome', 'vegetablesnthey', 'xcxastop', 'israels', 'my', 'futurama', 'tonightxa', 'williannn', 'slater', 'policies', 'jobsnnmitt', 'schoolers', 'outta', 'heterosexuals', 'please', 'trespass', 'tale', 'laui', 'secret', 'toes', 'gasoline', 'scarce', 'lowincome', 'rope', 'bears', 'finishing', 'potugu', 'sayin', 'angelos', 'hierarchical', 'singlepayer', 'binds', 'saves', 'precipitationxa', 'hang', 'shocking', 'satyamev', 'mat', 'mill', 'guessing', 'backfired', 'iraniraq', 'pcs', 'jefferson', 'nit', 'partynlol', 'yt', 'diamond', 'scarlett', 'influences', 'stand', 'upbeat', 'cheapxapathetic', 'endangering', 'philbin', 'farfetched', 'core', 'worldwide', 'dwell', 'nremaining', 'idols', 'whisper', 'walkerxexxs', 'lust', 'chenowethhage', 'fanatic', 'pamper', 'thatfall', 'substancexcxa', 'refineries', 'stuff', 'access', 'meri', 'ofnwrongdoing', 'profoundly', 'courtxcxain', 'driveway', 'lekhanam', 'xo', 'uk', 'shock', 'nnalso', 'rookieyeah', 'xbox', 'weeksnhow', 'lmaoshaq', 'grasp', 'personality', 'torture', 'jaden', 'stacking', 'berthole', 'ribbing', 'votul', 'classes', 'tall', 'dipshit', 'metro', 'blame', 'klavern', 'rider', 'shall', 'africans', 'holders', 'ladd', 'xatodds', 'peyton', 'ginobli', 'nasty', 'biofuel', 'delinquency', 'quiz', 'alongshes', 'retort', 'thuefc', 'winger', 'rednecknnstrong', 'xahave', 'dumbasses', 'humanist', 'repubs', 'situationally', 'boots', 'bpicampus', 'allnnwe', 'encompassing', 'whyyou', 'howxathe', 'idick', 'wantnnyou', 'sweets', 'clinics', 'yoursor', 'dizzynnit', 'corrected', 'disunion', 'naruto', 'baryaacov', 'suele', 'quotesbest', 'membernnand', 'tx', 'pagehiram', 'wrap', 'stanley', 'jacinto', 'thomas', 'shallow', 'offenders', 'tiu', 'patriotic', 'refs', 'sottolineando', 'messenger', 'bang', 'soirxee', 'foriegn', 'hve', 'mortlib', 'bhi', 'habits', 'sgks', 'willynni', 'drones', 'stuck', 'tolerance', 'jerry', 'betrayal', 'ruining', 'sacramento', 'towards', 'nbut', 'isreal', 'dawn', 'buuedc', 'alecs', 'kachina', 'rat', 'grab', 'catchphrase', 'choir', 'mille', 'lebrons', 'nchanged', 'holiest', 'httpsharesqubh', 'vilseleda', 'httpsharesqmnpx', 'gilmore', 'eyexexxs', 'years', 'sao', 'sam', 'httptcoyxvuisfr', 'fishing', 'surrounded', 'newsday', 'dougengland', 'advocates', 'itnnnow', 'wrotexaagain', 'strength', 'leading', 'musket', 'botox', 'plural', 'nearest', 'skeptics', 'catrina', 'otxezka', 'resurgence', 'incest', 'httptcorhah', 'offensive', 'animoto', 'londonmumxa', 'espinosa', 'demon', 'evident', 'clearcut', 'wayiin', 'ironic', 'mining', 'shield', 'hawknnthe', 'cooling', 'thweetyxa', 'duded', 'grazie', 'millenium', 'brand', 'grill', 'headquartersnn', 'nash', 'toe', 'thatif', 'herenyour', 'memphisdawg', 'upnno', 'haired', 'teachersndo', 'beaten', 'yarderony', 'encountered', 'perverse', 'tvspot', 'prediabetic', 'reuters', 'picklennyou', 'wretched', 'jealousy', 'momentyou', 'sexytop', 'key', 'tight', 'youever', 'gopneeds', 'continuen', 'skies', 'knowbeing', 'screan', 'journalism', 'tyler', 'masterpiece', 'onthis', 'sheen', 'removed', 'defined', 'crocheting', 'tooo', 'milwaukeexexxs', 'heii', 'christxexxs', 'initial', 'cmon', 'opposes', 'forumnot', 'supremes', 'complaints', 'hasbeens', 'frown', 'vet', 'airchair', 'horn', 'rs', 'svenskt', 'hoxe', 'sat', 'stupidmaybe', 'fooled', 'blobs', 'iot', 'issue', 'overlook', 'iconic', 'principle', 'avoidable', 'reverend', 'properly', 'nof', 'tricks', 'scusa', 'nokia', 'ratifiednnget', 'slammed', 'bedroom', 'nnfact', 'wealthiestn', 'ixexxd', 'faces', 'gamesnow', 'sheeps', 'xalike', 'cechnncome', 'toast', 't', 'pushed', 'mubaraks', 'memphiz', 'gordonyou', 'potus', 'urz', 'themxannnnmr', 'slack', 'rxfst', 'china', 'bubs', 'crashing', 'maized', 'theirs', 'customs', 'noesed', 'baggersnnand', 'internet', 'tonnone', 'apni', 'superstars', 'descalso', 'phat', 'thereus', 'reimold', 'coincidence', 'individuals', 'camper', 'boyle', 'listed', 'wedlock', 'loyalty', 'sudanxa', 'listenening', 'achieving', 'xcxalmfao', 'create', 'western', 'usbek', 'wonderfuls', 'images', 'justus', 'lab', 'hamas', 'letto', 'closer', 'cum', 'passengers', 'issuedxcxaand', 'linenimy', 'won', 'freebase', 'cotton', 'shite', 'hesheit', 'dietcant', 'research', 'second', 'moochelle', 'keithb', 'popular', 'battlefield', 'worded', 'rally', 'claudell', 'jump', 'bw', 'usually', 'choices', 'toutnsimplement', 'lifestyle', 'disgruntled', 'chilling', 'eric', 'offnnwhy', 'field', 'fightsif', 'pharell', 'dammit', 'cavalier', 'imam', 'herman', 'yuo', 'bankers', 'berry', 'wiping', 'noncitizen', 'pissant', 'klein', 'cahp', 'entomb', 'east', 'headnnread', 'aviv', 'seal', 'yards', 'taking', 'httptcolbphno', 'av', 'sale', 'elena', 'dvd', 'president', 'viet', 'rock', 'feesxexxd', 'sakuras', 'adumbas', 'callnnmongoloid', 'xanobel', 'stuporxcxa', 'moderators', 'xcxanothing', 'magically', 'analyst', 'result', 'wallets', 'deviants', 'insatt', 'craven', 'midea', 'usos', 'keynesian', 'higherreplying', 'traitor', 'scary', 'viene', 'rumor', 'willxcxa', 'function', 'brett', 'ntaxeswhereas', 'adherents', 'fluid', 'indy', 'robi', 'sodomite', 'fecesxa', 'effortni', 'lbs', 'ideologies', 'xexxafrank', 'whoop', 'xacnns', 'oco', 'bus', 'zach', 'affairs', 'dickheads', 'home', 'rapesdont', 'hinckley', 'pub', 'scientology', 'hockeybellexahe', 'daley', 'stushed', 'corn', 'chidu', 'majoritywhich', 'popularity', 'fortunate', 'hmmmand', 'mistress', 'heritage', 'aware', 'douchebag', 'krystal', 'awful', 'giveaways', 'link', 'trumps', 'workednnso', 'desparate', 'rodney', 'examplenbecause', 'forward', 'racial', 'luck', 'lawmakers', 'bumper', 'punks', 'anthony', 'abolish', 'unhand', 'fleabagger', 'convincing', 'rejecting', 'kitakyushu', 'tonette', 'crissa', 'addresses', 'crib', 'invented', 'save', 'processes', 'monthsbuilt', 'drubbing', 'maddalena', 'jenkums', 'oberbite', 'fing', 'certainty', 'httpsharesqnxh', 'hammer', 'embarrassed', 'blackberry', 'blw', 'deteeeesto', 'dictatorial', 'ufascistu', 'hoard', 'homes', 'hugs', 'undermining', 'front', 'outohand', 'ethnic', 'remaining', 'intexaatt', 'harpers', 'opiniones', 'pornographic', 'smacked', 'niggas', 'anymorexcxa', 'riddell', 'outreach', 'detxadrasxatill', 'laisson', 'intellegently', 'righteous', 'design', 'allah', 'screener', 'tongue', 'studio', 'gtmo', 'withnngreat', 'graves', 'financial', 'dictatorship', 'eventuellt', 'interchangably', 'righwing', 'thatdick', 'lately', 'protesting', 'arexanot', 'tevez', 'barn', 'chrome', 'van', 'ideaxcxa', 'hmm', 'freedombut', 'heresimple', 'freely', 'coments', 'dividends', 'arenand', 'gall', 'swirling', 'fannys', 'graduated', 'equipo', 'melvery', 'hateful', 'hound', 'tube', 'original', 'four', 'isu', 'pingback', 'standing', 'negotiate', 'ouch', 'abilityn', 'challenge', 'mvpnntony', 'commence', 'asus', 'thatus', 'firm', 'herlmaololshe', 'semiinaccurate', 'offset', 'victorian', 'bodies', 'midpost', 'seals', 'childrens', 'shotime', 'connections', 'men', 'npolitical', 'segment', 'xaman', 'countryxa', 'lightlyits', 'litlle', 'gopus', 'priest', 'abacha', 'spews', 'apparently', 'whooping', 'hospitalsxaxa', 'hyperurbanized', 'easterners', 'assnwas', 'basebut', 'pasar', 'randomly', 'heheenntwitter', 'planning', 'sons', 'rondo', 'protest', 'campagne', 'heights', 'uueat', 'rather', 'horrendous', 'blizzard', 'behaviorxcxa', 'perspectivenn', 'necklace', 'kindly', 'moves', 'redirected', 'absolute', 'handles', 'scientifically', 'warheads', 'category', 'schulz', 'rotting', 'problem', 'trust', 'observance', 'waffle', 'athlete', 'unlock', 'tema', 'issuesnnyou', 'mills', 'obsessed', 'factsnnsome', 'visiting', 'uhhh', 'announced', 'certainly', 'alice', 'crooks', 'presumed', 'bondholders', 'aamir', 'commander', 'skeptical', 'nvidia', 'brooklyn', 'damaged', 'vietnam', 'stormfrontxa', 'svs', 'moroni', 'manning', 'whale', 'dogballs', 'top', 'dds', 'nomination', 'roller', 'sen', 'sobs', 'mirrors', 'art', 'shotnnits', 'classicnstrange', 'sweetie', 'beneifts', 'religions', 'bellei', 'postlet', 'network', 'labourite', 'mid', 'specifically', 'improving', 'anglos', 'admiring', 'pigfaced', 'againnnunless', 'dickhead', 'education', 'monicaxa', 'fa', 'cnownnor', 'buses', 'dss', 'stockpile', 'giang', 'byliubmy', 'thisas', 'amy', 'noone', 'talented', 'baa', 'fuckwitme', 'sundays', 'sensing', 'extract', 'australian', 'acquitted', 'er', 'continuing', 'haun', 'legs', 'subtract', 'himself', 'worthy', 'arlington', 'favorites', 'snagged', 'conditions', 'affraid', 'discount', 'blowing', 'drugsnntony', 'backed', 'escobar', 'officeworkplace', 'request', 'professorwho', 'keep', 'drum', 'omg', 'tiuch', 'card', 'scoundrels', 'posey', 'gayntherefore', 'wellbeing', 'breath', 'campuses', 'eller', 'tiring', 'scrolls', 'expensexcxa', 'xcxaxexxcit', 'sasebo', 'fam', 'xamccain', 'plethora', 'evenko', 'karma', 'clintons', 'ggg', 'insurancennor', 'shiny', 'prayer', 'vermin', 'score', 'padding', 'warninganother', 'betray', 'outlive', 'hand', 'joleon', 'cordial', 'winchester', 'download', 'pansy', 'ashamed', 'perrys', 'objective', 'maine', 'miles', 'convinced', 'lay', 'oru', 'buecb', 'fromxa', 'brilliant', 'register', 'ice', 'decide', 'many', 'livingnnyou', 'tripping', 'barely', 'jock', 'ranks', 'message', 'recommendations', 'tiger', 'vigilant', 'talking', 'pete', 'uuu', 'egregiously', 'happensxato', 'suspicion', 'warned', 'elders', 'outnhave', 'popos', 'intervention', 'elsewhere', 'crappy', 'virtualreal', 'suspicious', 'outted', 'heater', 'gdpnnsorrybut', 'compared', 'nuovi', 'quoteskesha', 'kenyans', 'skywaker', 'joint', 'feathers', 'trials', 'fanbases', 'neckbones', 'terror', 'hmmm', 'dumbamss', 'struggles', 'energized', 'abeds', 'policy', 'obviouse', 'hunter', 'piece', 'conversationbut', 'drainxa', 'httpsharesqzcvl', 'oscar', 'veritas', 'leaking', 'nondrinker', 'cxei', 'jail', 'ups', 'bios', 'pout', 'rusty', 'plastic', 'hail', 'batting', 'sheep', 'bass', 'apologetic', 'youthful', 'xexxcthere', 'hostilities', 'ballooned', 'jurbinsky', 'strongnnthe', 'appearance', 'childishxa', 'net', 'physical', 'imposing', 'thatn', 'lollipop', 'lasses', 'cooking', 'ratings', 'dynamics', 'intention', 'winnnskip', 'unelected', 'louisiana', 'drama', 'brutalised', 'irritate', 'petulant', 'snevriden', 'box', 'rw', 'todays', 'usan', 'mumbojumbo', 'johnson', 'frriendly', 'plain', 'manually', 'collecting', 'breitbart', 'bathroometc', 'sitm', 'puneet', 'heavy', 'bromance', 'endangers', 'explaining', 'spendud', 'legal', 'disagrees', 'citizenry', 'despots', 'nail', 'sow', 'wide', 'apes', 'accuser', 'parkers', 'sandwhich', 'slightest', 'prescription', 'biasedput', 'thingxa', 'nnya', 'muzzlim', 'vikes', 'pragmatically', 'repeating', 'copiii', 'michellivelli', 'complainednnwe', 'babyn', 'arrived', 'friendly', 'priority', 'heroes', 'fica', 'faruok', 'annoy', 'mindless', 'valuexcxa', 'licker', 'httpsharesqily', 'analy', 'chiuee', 'nxaxa', 'rican', 'whence', 'kimberlin', 'special', 'inteligent', 'odyssey', 'innuendo', 'rewrite', 'funnyxa', 'transformation', 'tend', 'stole', 'doakes', 'opponents', 'knowing', 'sola', 'rash', 'xajust', 'agoxcxa', 'pushingpulling', 'orders', 'letxexxs', 'tantrum', 'xamaggie', 'fumbles', 'gane', 'filmif', 'oldi', 'veteransxexx', 'oftenx', 'spying', 'sodom', 'degree', 'fascist', 'frighteners', 'pre', 'swtornn', 'poundin', 'grippy', 'dejo', 'xamoreover', 'timesgood', 'thames', 'faceted', 'trail', 'fortune', 'shane', 'sexyou', 'oppressorsxcxa', 'babble', 'castism', 'five', 'clear', 'nursing', 'wire', 'ms', 'domanda', 'robinson', 'loosened', 'equity', 'infected', 'mortgages', 'association', 'xahmmmmmm', 'reply', 'larki', 'cunts', 'destiny', 'tendency', 'iran', 'enriched', 'been', 'jews', 'raid', 'decadence', 'whined', 'rumtumcat', 'thug', 'housexa', 'mr', 'reactionaries', 'liesecondly', 'dependent', 'samexaprivilege', 'nyttja', 'plunges', 'reflect', 'naked', 'sickass', 'profound', 'funding', 'exseahawks', 'age', 'policeni', 'administrative', 'returnnnlook', 'drip', 'giueai', 'neolibeerals', 'chinaxa', 'cluttering', 'itlose', 'itnntoo', 'circle', 'scrutiny', 'aftermath', 'cranium', 'creams', 'gluttons', 'worries', 'gotten', 'carrying', 'duh', 'xexxcyou', 'rediculous', 'quickly', 'whyte', 'arrogate', 'upright', 'doughty', 'better', 'courageous', 'joined', 'ngub', 'njs', 'badger', 'cheered', 'sayso', 'representative', 'distressed', 'lass', 'answers', 'promote', 'mosque', 'babys', 'prior', 'fanboys', 'halfassed', 'organizaiton', 'ky', 'knucklehead', 'practise', 'behxfva', 'banning', 'vos', 'fightxcxa', 'levy', 'pattern', 'mcbain', 'hugely', 'bisexual', 'truths', 'jg', 'attractive', 'dingle', 'conceited', 'caves', 'relations', 'relation', 'gallup', 'troops', 'nicesized', 'fcuking', 'whitesemi', 'student', 'majoritydnc', 'isxa', 'blaming', 'fuuknby', 'ornb', 'threadnn', 'sulk', 'todayno', 'depth', 'chicken', 'banner', 'throwers', 'hawaii', 'nstraight', 'goons', 'oil', 'egg', 'normalize', 'comeback', 'hook', 'bites', 'absolutely', 'aggressive', 'xexxcscamsxexxd', 'gollywoll', 'screennhorrible', 'heating', 'itd', 'definedbetween', 'sadly', 'imperfect', 'fuckkkkkkkkk', 'stop', 'lot', 'collapsed', 'held', 'program', 'pal', 'movementxexxs', 'texas', 'hurtxa', 'nypd', 'sell', 'uueebng', 'alasthis', 'soy', 'ncontaining', 'feelins', 'fornnthe', 'fantastic', 'averagenn', 'glad', 'cuorumxa', 'tears', 'heinous', 'xamaybe', 'placewe', 'belongs', 'ethugmother', 'gxfrs', 'notxcxacut', 'dynamic', 'mother', 'prettier', 'fluency', 'berxfr', 'avila', 'bahnsen', 'yesnyou', 'install', 'browns', 'dumbgeister', 'grammar', 'kicked', 'intellect', 'poles', 'childmolesters', 'february', 'greyxacould', 'noh', 'freddie', 'xuuedng', 'israelis', 'consenting', 'opath', 'under', 'runs', 'hotel', 'stupidhes', 'voice', 'influence', 'poppy', 'rescue', 'minds', 'tanks', 'philosophy', 'oppositeud', 'subsequently', 'released', 'caljb', 'compramos', 'chuck', 'loses', 'asshole', 'besitter', 'ph', 'wright', 'mccullough', 'policypresstop', 'invested', 'hire', 'obamaxa', 'downnngod', 'experiences', 'sonsg', 'kxfpa', 'xxthebossxx', 'onwhere', 'ngoing', 'spelling', 'nhauc', 'vie', 'diz', 'gutsy', 'bowl', 'callingnsands', 'savagerysource', 'cubam', 'zama', 'xahe', 'pathetic', 'hisxcxatemper', 'cianfrani', 'tvs', 'end', 'goaway', 'morononly', 'whole', 'checksxcxa', 'altogether', 'offered', 'accentblacks', 'mate', 'ell', 'panels', 'xabastards', 'uncontrollably', 'contrasts', 'retireand', 'earl', 'breaking', 'exes', 'pfft', 'listen', 'rend', 'commit', 'onto', 'bhartiya', 'important', 'yamato', 'miserable', 'apparenty', 'suffer', 'clueless', 'postnpathetic', 'wise', 'wind', 'slavery', 'fuckedup', 'prepubescent', 'entertainment', 'deuteronomy', 'pros', 'simple', 'matching', 'sixa', 'economicas', 'xaeveryone', 'staff', 'asking', 'foreclosed', 'retired', 'trykatanawell', 'differences', 'xcxawrote', 'theres', 'expect', 'theirselves', 'bn', 'skydome', 'researchlike', 'geeez', 'schleck', 'updates', 'bucks', 'undeniable', 'worship', 'proclaiming', 'rxfsta', 'aroud', 'hearcars', 'blue', 'keeperndee', 'nnthey', 'polar', 'bunch', 'convert', 'gospel', 'day', 'dale', 'afghanistan', 'nxeo', 'politely', 'laugh', 'enforce', 'itnnthe', 'breakneck', 'incredibly', 'surprise', 'appalling', 'tons', 'wellpeople', 'vision', 'xaspreading', 'bizoradisqus', 'examplegive', 'tragedyxa', 'thres', 'gossip', 'puerile', 'fooi', 'respective', 'gigantic', 'thinkdivdiv', 'partiers', 'haterznjust', 'vans', 'implicating', 'reformerxexxa', 'screamyou', 'whiningass', 'pent', 'spokeswoman', 'votewhore', 'error', 'frequently', 'shush', 'essences', 'valuable', 'youxaxa', 'nownnwhat', 'guardia', 'defeated', 'responders', 'brain', 'overturned', 'genesis', 'mitt', 'xcxawhen', 'srping', 'agent', 'belongxcxa', 'chucklefuckers', 'innerpsych', 'ncg', 'progress', 'exploration', 'outing', 'set', 'dull', 'raygillies', 'dnnokay', 'bxf', 'lyin', 'gossipy', 'catholics', 'lipstick', 'legacy', 'globalist', 'brother', 'lugar', 'completed', 'division', 'asinine', 'babbitt', 'knockers', 'outdone', 'nigglet', 'elg', 'rxedd', 'thankfully', 'prasie', 'abigail', 'invent', 'england', 'manager', 'deviant', 'thailand', 'fiancexa', 'pain', 'odd', 'bayless', 'productivexcxa', 'sure', 'cats', 'stylexcxa', 'truer', 'heartland', 'cogentnyou', 'saved', 'zuckerbergxais', 'millon', 'maddow', 'ff', 'restoration', 'americaxa', 'nyykrgnn', 'statement', 'kevin', 'dodgers', 'sirmadam', 'caddis', 'medata', 'pillion', 'liable', 'youure', 'bullpen', 'hahahah', 'xcxa', 'litigate', 'claimsis', 'harvard', 'kthy', 'slutbag', 'israelfirst', 'anyplacen', 'azzhole', 'partisans', 'comfortable', 'kapoor', 'antiabortion', 'incomparable', 'walkinglol', 'coz', 'stooge', 'twicehabs', 'yearsxcxa', 'twinkie', 'opportunity', 'phxeda', 'fixation', 'acquire', 'george', 'lungs', 'realize', 'wi', 'adds', 'brazile', 'growth', 'kneesxa', 'raping', 'gutted', 'womendivdiv', 'stevens', 'vitriolic', 'rnrni', 'wawa', 'eva', 'trap', 'exit', 'fansxa', 'oneyou', 'youthe', 'problemthe', 'badly', 'boobs', 'dismissive', 'idiotic', 'youor', 'queries', 'anticsfirst', 'treasurer', 'sarcasm', 'relentless', 'durin', 'ratingsxafor', 'macwhogal', 'saidxa', 'recent', 'orthodox', 'might', 'wio', 'pictures', 'tutti', 'ign', 'enterprises', 'statham', 'storming', 'briview', 'palmer', 'healthcarexexxd', 'impregnated', 'homosexuals', 'kovachoo', 'whonn', 'ofthefuckyouhat', 'sandwiches', 'ims', 'willian', 'distracts', 'creation', 'reinserted', 'isnnleft', 'cgi', 'goat', 'nnit', 'rejected', 'spelled', 'guarantee', 'px', 'sunshine', 'waterloo', 'relevent', 'annars', 'thrashing', 'cxcx', 'odds', 'fieldplay', 'libatard', 'nondowns', 'xannof', 'oa', 'sick', 'perhaps', 'wayxa', 'yourself', 'worker', 'empty', 'nrepublicans', 'relieved', 'sissy', 'interference', 'market', 'ebst', 'vxeljare', 'significance', 'nnnclueless', 'ghwb', 'repeatedly', 'importantly', 'huff', 'pants', 'heavilyxexxan', 'birch', 'peter', 'butxa', 'sayingnnnthe', 'upxa', 'jobwait', 'insurancepharma', 'hopefully', 'mindsxcxa', 'cries', 'alsoxa', 'appropriate', 'updating', 'usnwho', 'drug', 'anderson', 'songobviously', 'realizes', 'gretest', 'juggalo', 'kiwis', 'avenge', 'intrigue', 'merit', 'perverted', 'poured', 'leverage', 'indicates', 'yr', 'ignorance', 'flash', 'bugger', 'yorubas', 'knock', 'individual', 'lmfao', 'fates', 'annabelle', 'drainage', 'sneed', 'entitled', 'poffo', 'investigate', 'pancakes', 'bubuedbc', 'ltdgovt', 'anger', 'pansa', 'discern', 'growing', 'treaty', 'ustaadji', 'sxedant', 'xcxamaxine', 'laughxcxa', 'prisonnthis', 'unn', 'whaaaaaatxcxa', 'moment', 'amber', 'groups', 'fulfill', 'rebuttalnyou', 'phuckface', 'baseball', 'faut', 'klip', 'grades', 'quarters', 'increasing', 'harassment', 'pledged', 'wrongnn', 'debater', 'ows', 'combinednxanand', 'losersnnwill', 'assxcxa', 'unhappy', 'worms', 'costly', 'caresneeds', 'varfxfr', 'pairing', 'salaries', 'traduccixcxbn', 'sheeshnhugs', 'conversants', 'xcxaxcxaxcxa', 'skumbag', 'definetely', 'melissa', 'motorcade', 'bone', 'robots', 'aside', 'scooter', 'patch', 'redxaa', 'downhill', 'jennifer', 'corennxcxaits', 'performing', 'period', 'basicnnyou', 'colleagues', 'replacement', 'profits', 'uubueddng', 'smarted', 'allnassessments', 'sthrnchckxs', 'sara', 'crystal', 'self', 'libturdz', 'inflated', 'nope', 'lamar', 'penny', 'prisondon', 'dgaf', 'todd', 'head', 'counter', 'monument', 'earnest', 'either', 'lie', 'younnmore', 'constant', 'whose', 'bedtime', 'pea', 'hyo', 'monitor', 'judgyone', 'feelxcxa', 'sshole', 'partner', 'baggers', 'puff', 'tyranids', 'menace', 'youxcxaxcxa', 'canadian', 'nienxcxa', 'technically', 'equality', 'chord', 'bloated', 'outfits', 'trollxaim', 'propaganda', 'regardbut', 'toxalive', 'anonymously', 'hats', 'httptcoojngijg', 'dealnnthe', 'loons', 'laurinaitis', 'sham', 'decrepit', 'dotty', 'sucks', 'saknar', 'islandxexxaxcxa', 'cruxen', 'cells', 'uber', 'marilyn', 'idolud', 'continue', 'a', 'tyhe', 'beforenni', 'regard', 'whitmans', 'troopers', 'hadxa', 'lifting', 'madonna', 'undercover', 'powerplay', 'toss', 'brydxa', 'into', 'justicennwhy', 'cronies', 'postin', 'leave', 'canthats', 'add', 'revenuesnn', 'bigoother', 'offend', 'markets', 'otrzymaju', 'negro', 'tstev', 'goddammned', 'heaven', 'basegod', 'subsequent', 'edo', 'bearefoot', 'ccpoa', 'mock', 'ga', 'sudden', 'loonmick', 'thxfi', 'revengexa', 'religious', 'whiteto', 'stebbers', 'qb', 'trauma', 'torturing', 'returning', 'occupukes', 'millwall', 'axaxa', 'sincennspeaking', 'rajputs', 'fatigue', 'tirade', 'letterman', 'backyard', 'aliensxato', 'rimligtvis', 'congressional', 'corner', 'surelystrong', 'wexcxachoose', 'several', 'rifutavo', 'harshest', 'mothernnyou', 'initially', 'gamenno', 'reks', 'donaldson', 'sccs', 'hilariously', 'tole', 'gut', 'mentally', 'despised', 'deport', 'sucker', 'unbelievable', 'sirinn', 'later', 'pr', 'taekwondo', 'jjdjjd', 'guylolotake', 'suitable', 'rights', 'perjuryxa', 'mystery', 'weakling', 'mamta', 'whatcha', 'gotta', 'conditioningn', 'argentinians', 'seeing', 'poorly', 'downward', 'tossed', 'carlin', 'similar', 'phueai', 'linux', 'toilets', 'mennafter', 'quips', 'bams', 'greatmorne', 'duckand', 'beotch', 'pleseantly', 'reign', 'siplin', 'seekers', 'remember', 'powerful', 'helm', 'accidents', 'pxeverka', 'exist', 'ahahah', 'cuter', 'fines', 'stupidnxed', 'order', 'german', 'mckinney', 'thebeastiality', 'chi', 'shoqet', 'liberal', 'fingersnn', 'cynthia', 'warfare', 'ketel', 'shoe', 'hysterical', 'thuggery', 'partners', 'xaspec', 'ballot', 'volunteer', 'wing', 'looser', 'floods', 'varzari', 'justified', 'illegaln', 'watching', 'autism', 'traveled', 'funneling', 'happened', 'ea', 'tackling', 'nbever', 'hollingernxanim', 'reread', 'service', 'nnstrongwhat', 'thua', 'besluta', 'secretary', 'easynnand', 'ta', 'resting', 'morons', 'themfuck', 'co', 'noooooo', 'lease', 'arm', 'catheter', 'simpsonbowles', 'pics', 'salary', 'sillyheadline', 'clicking', 'enemy', 'donation', 'affiliation', 'violencenn', 'edgy', 'tattoos', 'las', 'schooling', 'lingering', 'persons', 'gun', 'irrational', 'eisenhower', 'arenxexxt', 'recipients', 'poverty', 'nock', 'bblnsubject', 'onxa', 'wag', 'licensing', 'creditunlike', 'rk', 'legalize', 'whove', 'stink', 'fidel', 'boiler', 'man', 'sarcastic', 'tendencies', 'perfectly', 'holidays', 'makexaxaifxaone', 'chip', 'within', 'list', 'heifers', 'maternitycare', 'seemingly', 'helps', 'xou', 'modify', 'pxfbeln', 'regenerative', 'xai', 'jokwon', 'definitions', 'eagle', 'adultery', 'nightmares', 'bafterb', 'burrheaded', 'thieve', 'dads', 'copies', 'pisses', 'gopher', 'judgment', 'selling', 'mac', 'firing', 'loathed', 'naate', 'assassination', 'sake', 'prayers', 'dissed', 'exposing', 'xcxaalcee', 'good', 'judging', 'filed', 'xagreat', 'campsnposted', 'unusual', 'damnnnnnn', 'del', 'maxi', 'strip', 'reasoning', 'gibberish', 'soooooooo', 'xcxafreedom', 'willie', 'bullshlt', 'bader', 'bbua', 'nubxe', 'transgender', 'pelton', 'teammatexa', 'nidea', 'clubhouse', 'bra', 'niga', 'prisoners', 'gasp', 'xalets', 'postsnnspam', 'air', 'strangennso', 'press', 'underpants', 'assertions', 'thexaasian', 'saunders', 'colors', 'nuggets', 'shabihah', 'tebow', 'urged', 'quyuecn', 'notion', 'surround', 'cheat', 'prosecutorial', 'professional', 'onennyou', 'talentnnlive', 'number', 'long', 'enriqueznone', 'limited', 'streets', 'experiment', 'lanternshaped', 'skill', 'thrilled', 'differencexexxd', 'comingnnpema', 'nenergy', 'chancellor', 'publication', 'tanksnnat', 'disappointments', 'else', 'ideaxa', 'wedding', 'jobxcxa', 'ability', 'neck', 'bomber', 'thatd', 'admirably', 'badare', 'interested', 'implement', 'sexless', 'stops', 'castigating', 'dollar', 'unreasonable', 'murray', 'seem', 'minorityxcxa', 'uctrueudnfans', 'selectively', 'rubish', 'carosel', 'smith', 'covered', 'sperm', 'editornn', 'hodgson', 'gifts', 'false', 'launched', 'tuck', 'jbobojake', 'bogus', 'price', 'comminity', 'gdyour', 'selfless', 'wrecked', 'arrnott', 'precis', 'planet', 'affiliate', 'usualxa', 'bilkxfrning', 'lefties', 'ovennmiddle', 'intel', 'downgrade', 'hustlers', 'parenthood', 'busta', 'namesxa', 'assume', 'ranker', 'ofem', 'pumpy', 'lawyers', 'paulraining', 'seriouslyxa', 'veto', 'clip', 'embroiled', 'systems', 'dbz', 'makeup', 'attract', 'spoke', 'longer', 'myass', 'statistics', 'timeandtime', 'pioneer', 'yesterdays', 'newcomer', 'garage', 'hasxcxamade', 'picturesnnyou', 'copay', 'outcha', 'lamestream', 'har', 'easily', 'timenni', 'soive', 'keith', 'comrade', 'clarify', 'himstrongnnthe', 'sheeple', 'called', 'secondsnnof', 'perverts', 'someone', 'shovel', 'npositive', 'check', 'ifile', 'jumped', 'orn', 'overall', 'sanan', 'st', 'mention', 'xait', 'daughters', 'hows', 'bombed', 'hitchens', 'bvitch', 'cnnxexx', 'pest', 'palm', 'shah', 'trxean', 'krepel', 'fel', 'xancountries', 'harsh', 'libturd', 'dui', 'stalin', 'evaluating', 'amerikans', 'txcxa', 'reelectionnnas', 'keeps', 'mcdonalds', 'youre', 'tootsnnim', 'out', 'lesbo', 'graduation', 'demonization', 'nxdui', 'premiums', 'uninspiring', 'nxer', 'taxnthose', 'security', 'twinkies', 'assure', 'limp', 'brink', 'xaget', 'wanna', 'lawsnnin', 'goldwater', 'claimed', 'index', 'hawa', 'getxcxaa', 'unsuccessful', 'dug', 'issuesnnsecond', 'havvee', 'willrefer', 'betterxcxa', 'darkxcxa', 'fags', 'witch', 'nanette', 'obey', 'textbook', 'lateinning', 'channelxa', 'drunk', 'gawd', 'acha', 'seasnnanyway', 'klan', 'lecturing', 'hol', 'am', 'notxa', 'gpd', 'eugene', 'stamping', 'couldnt', 'kopechnen', 'placed', 'moslem', 'swearing', 'berkeleyb', 'arrests', 'listened', 'public', 'opponent', 'reella', 'sissynngood', 'maze', 'commons', 'alternatives', 'hottie', 'och', 'panik', 'religionsxcxa', 'recommend', 'scholarships', 'license', 'quadrupling', 'akklaim', 'pursued', 'americaxcxa', 'curiosity', 'advocate', 'occurring', 'someonenare', 'reserved', 'xadecide', 'encouraging', 'proves', 'oregon', 'flush', 'avi', 'elimination', 'step', 'disclose', 'andrew', 'saddams', 'simplified', 'nxegonstans', 'elevator', 'ohhh', 'syd', 'touhey', 'cannot', 'mask', 'innocents', 'gained', 'folding', 'fallout', 'doctrine', 'racing', 'brown', 'inclined', 'ntaxes', 'segna', 'karti', 'untargetable', 'childrenxcxa', 'suckle', 'arestupid', 'treasurygov', 'ohso', 'appreciate', 'pov', 'textbooks', 'casting', 'sliming', 'traditionalist', 'objections', 'sport', 'getting', 'mortgage', 'empowering', 'brutal', 'highly', 'sri', 'loser', 'mfi', 'evicted', 'thin', 'yourselfnnni', 'determination', 'subgood', 'shoud', 'debatelike', 'santorumxexxs', 'hundred', 'med', 'nuance', 'courtroom', 'meet', 'resultxcxa', 'jayjay', 'cxe', 'pxparam', 'strongassuming', 'superstitions', 'pawn', 'stesso', 'citizenshipdual', 'marketable', 'moodxcxa', 'theyd', 'careerlong', 'advantage', 'jakesnake', 'weeks', 'mod', 'fatal', 'belt', 'scripts', 'harper', 'ditch', 'bike', 'batman', 'coons', 'then', 'official', 'sign', 'brainlol', 'activities', 'tenner', 'season', 'cushion', 'experiencei', 'ssho', 'thoughxcxa', 'laketown', 'qbs', 'legalized', 'demographic', 'academic', 'badass', 'structural', 'perfection', 'smile', 'sxcxa', 'gross', 'ross', 'shoes', 'input', 'fbiciadoj', 'bugo', 'klaners', 'filipinos', 'toronpgh', 'fungus', 'hoodrat', 'libertarians', 'gamers', 'toonxamany', 'nothe', 'bmx', 'poodle', 'hating', 'promotes', 'commited', 'differnt', 'profit', 'occupunks', 'droppings', 'praises', 'postxxoo', 'bettansleeps', 'exhale', 'regs', 'tranny', 'olbermann', 'jewish', 'iranians', 'tutto', 'yanked', 'xanothing', 'criticizing', 'fatty', 'nnlol', 'probabilities', 'grenadenst', 'daily', 'learns', 'moe', 'bravadovoters', 'heisman', 'cm', 'yo', 'placennthat', 'werexaand', 'fu', 'xareally', 'reforms', 'yerpathetic', 'saban', 'americangrow', 'deathnthe', 'mavs', 'estadoxa', 'nstate', 'lung', 'nhubng', 'repeats', 'bm', 'gulagscheck', 'socialmedia', 'sleezy', 'furxa', 'birthplace', 'bulls', 'contraception', 'corporations', 'combined', 'selfinterests', 'futard', 'cigarettexa', 'chuecnh', 'slightly', 'employeesxa', 'jwoude', 'ld', 'pooled', 'businessxamoney', 'arms', 'au', 'secular', 'ruled', 'ticketxcxa', 'itthink', 'close', 'buttfked', 'tea', 'kalifornia', 'fatnnthat', 'teachersntheyll', 'untouchable', 'chelsea', 'abc', 'streamers', 'urging', 'northeasternern', 'snownxanplus', 'dear', 'luv', 'weight', 'david', 'coward', 'helter', 'nnour', 'anymore', 'chueef', 'attribute', 'awaydayton', 'jardineriany', 'trucker', 'total', 'medical', 'nfrom', 'reduction', 'crowdnnobsidian', 'spout', 'brad', 'lawmanjed', 'lostnbut', 'greatness', 'posted', 'support', 'ukranians', 'haircut', 'samexexxno', 'foster', 'rolled', 'ifaith', 'dyer', 'bron', 'overlapped', 'uncomfortable', 'backwardsxa', 'pandering', 'sutton', 'deserve', 'gamer', 'crissadisqus', 'moronnfu', 'churchso', 'nonappreciative', 'curly', 'sexual', 'scare', 'intellectually', 'poopnna', 'emotionally', 'poliveiraxawell', 'manson', 'leaving', 'specify', 'gaggedinusa', 'psychologically', 'samme', 'moneyxcxa', 'abetted', 'destroystrongnn', 'fiesty', 'bikes', 'distinction', 'mel', 'personally', 'meim', 'prepares', 'inspired', 'cain', 'despicable', 'jasonhairydawg', 'assholennand', 'rxcuu', 'brennan', 'shed', 'mothers', 'destination', 'lakers', 'mutual', 'husbanding', 'salespeople', 'traditions', 'hardly', 'riehl', 'women', 'devoured', 'identify', 'overgrown', 'successfully', 'starring', 'bheat', 'string', 'goverment', 'estimated', 'ignorantpiece', 'impolite', 'uccute', 'likenyou', 'plot', 'correspondent', 'psp', 'aubrey', 'arbystyle', 'wine', 'sas', 'dunn', 'fowler', 'convenient', 'xxx', 'towers', 'pined', 'payaso', 'nullifying', 'blueeyed', 'thronesnnhodor', 'noche', 'cynical', 'commentary', 'jars', 'peak', 'nhiun', 'thing', 'nnknicks', 'theyxcxafeel', 'theme', 'flyers', 'silicon', 'taxed', 'oline', 'suebd', 'inconsiderate', 'mail', 'database', 'andntestify', 'doi', 'geithner', 'canyon', 'upbringing', 'funney', 'dealer', 'approved', 'manipulate', 'extra', 'officiating', 'haitian', 'whiteout', 'flamexexx', 'halfwoman', 'skrxemmande', 'causing', 'eithernif', 'meeting', 'note', 'stretching', 'involve', 'alarm', 'sophisticated', 'unintended', 'hollister', 'stab', 'taliban', 'lied', 'nationnnmitt', 'soonertrueoh', 'knowactually', 'bids', 'umbrella', 'conservatives', 'ijusti', 'vau', 'edwards', 'collection', 'brightens', 'malkers', 'rd', 'gate', 'infoguy', 'trashbirdman', 'government', 'guns', 'budweiserbnshut', 'mm', 'hood', 'thow', 'rachel', 'cliff', 'diana', 'herxcxa', 'xfne', 'complex', 'srryass', 'nclassrooms', 'nhoum', 'these', 'penguins', 'behave', 'littlehamton', 'surgery', 'came', 'improbabilities', 'srqdawgs', 'blah', 'poxxa', 'ada', 'tensethey', 'prepping', 'immediate', 'redskin', 'tottenham', 'choice', 'bastards', 'reps', 'ride', 'xaislam', 'thatnnso', 'giuliani', 'wat', 'theyxayap', 'saddam', 'churchxa', 'ww', 'shisui', 'chuebft', 'commitment', 'xago', 'strongwhom', 'yearnbsp', 'xashes', 'yahoos', 'nigets', 'dire', 'reality', 'prey', 'joy', 'sabes', 'planted', 'bingle', 'dicks', 'explains', 'gerry', 'muxfui', 'commy', 'xcxadont', 'bend', 'colloquialisms', 'itting', 'upxato', 'bush', 'pun', 'trxei', 'lifexannthe', 'glorification', 'sikh', 'veryxafine', 'muedt', 'fuck', 'dlrty', 'hale', 'toxawhile', 'narrator', 'forfeit', 'syriansnnor', 'likexayou', 'paths', 'refused', 'cyclical', 'usif', 'bothering', 'become', 'machines', 'dishonest', 'warning', 'chuwkwu', 'acquiring', 'slept', 'glance', 'nnnegroids', 'younnhave', 'invest', 'feds', 'nonbelievers', 'sentinelxexxs', 'doand', 'rapping', 'thirty', 'bleeping', 'fxfrstxer', 'recount', 'blck', 'commissioned', 'yrs', 'lewis', 'hated', 'saint', 'moronxa', 'hypothetical', 'football', 'robber', 'adopting', 'headlines', 'goods', 'interrupted', 'existed', 'sniffling', 'salts', 'pres', 'fox', 'nbspsomeone', 'probably', 'praying', 'par', 'bana', 'globally', 'gonmy', 'visual', 'cows', 'wheel', 'narrates', 'hypocratic', 'teens', 'orchard', 'lurk', 'cagape', 'kkkthe', 'lean', 'xer', 'beloved', 'obamatroll', 'uninteresting', 'jory', 'columbus', 'nationxcxa', 'muss', 'rbi', 'mindset', 'gertude', 'clue', 'sikhs', 'delegates', 'befolkningen', 'bravehearth', 'sniffing', 'vendor', 'oils', 'imperislism', 'defeat', 'military', 'motivational', 'homenwe', 'xaour', 'haley', 'slick', 'burden', 'seeking', 'missingreally', 'fucker', 'dreadful', 'marathon', 'trees', 'risky', 'firstxa', 'sauce', 'rated', 'peppered', 'each', 'udi', 'facexa', 'uuua', 'havoc', 'sdnoriko', 'nxegon', 'kmart', 'renounced', 'tweet', 'instancennalso', 'amir', 'diaper', 'bullett', 'bummmerwell', 'zitclub', 'knapp', 'strum', 'transcripts', 'hinata', 'ndollars', 'popped', 'skinny', 'cheaper', 'jerky', 'nightmarexcxa', 'target', 'epic', 'surrender', 'nnwhats', 'quotas', 'vile', 'predictions', 'visited', 'evo', 'nokc', 'wizard', 'whether', 'straighten', 'impressed', 'summerndejesus', 'parking', 'traded', 'chatta', 'countrys', 'necks', 'guyxa', 'lika', 'earth', 'guilt', 'negros', 'perver', 'serena', 'americanyoure', 'kidnapping', 'hill', 'everythingno', 'loose', 'commandments', 'dinner', 'lenin', 'articulate', 'amd', 'pixie', 'burning', 'pragmatic', 'thoughif', 'traditional', 'trick', 'cairo', 'dosexcxa', 'correctly', 'manhattan', 'rules', 'cautious', 'drag', 'orderedoh', 'sides', 'riff', 'u', 'beautiful', 'peggy', 'accustomed', 'reading', 'xatake', 'truexcxa', 'condition', 'clause', 'predator', 'hp', 'lad', 'odpisaua', 'boyardee', 'nation', 'airbad', 'curzi', 'disagreennpeggy', 'goind', 'ballotelli', 'gibson', 'clerk', 'hogan', 'anh', 'was', 'desperately', 'occur', 'hopes', 'demanding', 'suckers', 'dual', 'rafaelinho', 'promise', 'super', 'jew', 'herer', 'drar', 'dee', 'crowdedxaxabut', 'pitches', 'sinful', 'billion', 'central', 'tas', 'polyester', 'racket', 'beatnntime', 'nprxexx', 'fame', 'dallas', 'granny', 'initiated', 'raspberry', 'endangered', 'nobjustryan', 'thumper', 'sought', 'sells', 'swuishing', 'bunker', 'himxaa', 'howick', 'kuntheadson', 'throw', 'playgood', 'parked', 'passes', 'hairdressers', 'intruderxcxa', 'substitute', 'publishing', 'confused', 'dumbhave', 'embarassment', 'puts', 'napolitano', 'moui', 'dah', 'prompted', 'hilarious', 'sky', 'pointure', 'ticketromney', 'howe', 'vanishing', 'drown', 'respected', 'suspect', 'traitorxaor', 'scores', 'regimethat', 'tonnyb', 'discovered', 'news', 'couples', 'xenophobic', 'scone', 'university', 'marketing', 'duped', 'bdemonocrats', 'deprived', 'fucktrolls', 'balconies', 'burglar', 'shipments', 'abel', 'tail', 'rxett', 'trollboth', 'cati', 'line', 'psyche', 'effected', 'niggers', 'referred', 'sacked', 'wetshoesclassic', 'sourcesxexx', 'wife', 'weblog', 'local', 'inherent', 'theng', 'litigantnnthese', 'pittance', 'scot', 'swallowing', 'processors', 'tomorrowxa', 'interviste', 'robbery', 'bottom', 'bitches', 'nenxed', 'innoccent', 'ogling', 'rapes', 'continuednn', 'xcxacome', 'darky', 'blog', 'danbspnews', 'interests', 'dip', 'bludgers', 'nbc', 'republicans', 'itxa', 'xanin', 'remembers', 'fraudulent', 'sabotage', 'tgirl', 'playoffssuck', 'womanxa', 'marlins', 'societythe', 'soulsnnprove', 'hungry', 'shadow', 'httptcottgpf', 'warren', 'nott', 'cycles', 'another', 'ithe', 'honored', 'themebut', 'outnwhy', 'xcxbie', 'married', 'rn', 'powered', 'anelkas', 'xamuslims', 'khandani', 'douglas', 'difficultries', 'kills', 'exams', 'cab', 'pissing', 'pedal', 'myselffrom', 'shangri', 'defends', 'thinknnhey', 'death', 'housing', 'lane', 'cleared', 'deliberately', 'figlia', 'beurocracy', 'bulletsn', 'newsxa', 'juan', 'steering', 'yeahi', 'mungesen', 'extraordinaire', 'donations', 'disillusion', 'shackleford', 'nobel', 'judaism', 'telefonata', 'comprehensible', 'beat', 'plenty', 'confuses', 'unprotected', 'fucmkers', 'ngosthe', 'simpleton', 'occupations', 'measuring', 'ufeff', 'allows', 'yay', 'payers', 'collapse', 'bluenice', 'wobamasantorum', 'errors', 'width', 'halliburton', 'swing', 'floral', 'americansxcxa', 'spirited', 'anythingnif', 'flagged', 'began', 'accountable', 'trachea', 'city', 'dedication', 'hernandez', 'limpwrist', 'ogh', 'carpetbomb', 'batshit', 'disingenuous', 'nbspdivdiv', 'unmitigated', 'marry', 'uh', 'wouldnut', 'antisemit', 'singingwhere', 'refereenn', 'fetish', 'form', 'khxec', 'sticks', 'grenadei', 'yaelah', 'tan', 'min', 'deterrent', 'sexist', 'northolt', 'wxcraignsheep', 'utter', 'implore', 'schoolbound', 'bologna', 'incumbent', 'gentle', 'activity', 'islets', 'evanssome', 'determine', 'zamaxa', 'swagnnthhey', 'nnthroughout', 'uso', 'happening', 'toennnlol', 'mirror', 'granted', 'speaking', 'gonna', 'oooooooo', 'steps', 'disfigured', 'fucks', 'damn', 'thueed', 'sadler', 'xcxathese', 'prcknnnlittle', 'bandand', 'minions', 'lo', 'pigs', 'nfederal', 'fat', 'eachxcxa', 'imbiciles', 'cowgirl', 'mustache', 'month', 'xane', 'speeddivdiv', 'lime', 'galxa', 'plunged', 'scottnstephen', 'fans', 'oppose', 'botherwasted', 'forcibly', 'nutyour', 'toesxcxa', 'became', 'themselvesxcxa', 'lueadp', 'khung', 'truththey', 'predict', 'abortionneven', 'stansted', 'nehemiah', 'shadowbeard', 'nhueec', 'cliffxcxa', 'squashing', 'complaining', 'cali', 'gifted', 'nestsnnthen', 'assuming', 'powwa', 'politiska', 'nownot', 'stupid', 'crownlolnnthe', 'dhela', 'spewed', 'advancement', 'refer', 'wa', 'hoes', 'added', 'absurdly', 'unable', 'pin', 'creative', 'prudent', 'lepchenko', 'rants', 'college', 'gutterwhore', 'socalled', 'hotdamn', 'flood', 'nyou', 'reduced', 'drugsxcxaxcxa', 'xcxagays', 'upset', 'elsexcxa', 'planexafor', 'syn', 'nfc', 'ridenand', 'murdered', 'powkatnnhow', 'eliminate', 'flatout', 'matches', 'cheaply', 'clothing', 'kandidera', 'roost', 'conscience', 'addict', 'healthy', 'jvg', 'mt', 'collards', 'feelsxa', 'xcxait', 'spreading', 'guyud', 'ghitis', 'pat', 'slagging', 'thingsxa', 'rigging', 'mcfloyd', 'juice', 'fatto', 'confiscated', 'sidestepping', 'manup', 'hyde', 'nnthis', 'gardener', 'parade', 'cope', 'militarism', 'accountability', 'bwahaha', 'abe', 'lipo', 'nowi', 'masons', 'john', 'associate', 'celebrated', 'lacc', 'xaas', 'membersxexxd', 'salmonfly', 'blows', 'arod', 'violates', 'xcxalike', 'ypu', 'blinded', 'examples', 'frightened', 'thankyou', 'medics', 'labeling', 'majestic', 'koolaid', 'shotgun', 'booxahands', 'culver', 'hunmein', 'directly', 'rational', 'qaeda', 'jetxa', 'ncall', 'stapler', 'aholennnot', 'discard', 'belly', 'commented', 'roster', 'snitch', 'avenging', 'dimwits', 'catching', 'hoonngo', 'younnit', 'query', 'chrysler', 'huffpo', 'menxa', 'kiss', 'liked', 'apegary', 'slur', 'rightxa', 'paulmomo', 'highstakes', 'ani', 'capitol', 'moved', 'pornstar', 'seldom', 'mandoli', 'universities', 'farting', 'duxburian', 'trimmed', 'messages', 'miners', 'wonand', 'oj', 'applicable', 'reportedly', 'laughable', 'tory', 'actions', 'pleasenbut', 'xapolitical', 'send', 'httpsharesqplm', 'comments', 'macon', 'conflicts', 'flatter', 'disobeying', 'haroon', 'condensing', 'reggie', 'suffering', 'nnhold', 'regional', 'goddamn', 'feature', 'latitude', 'drink', 'bill', 'night', 'truthers', 'fence', 'depending', 'infonn', 'pubblicato', 'below', 'settles', 'youyou', 'smallest', 'lou', 'carpet', 'cias', 'maggottsxa', 'shuffler', 'priset', 'girlfriend', 'mcgreevey', 'canadians', 'idiotwhy', 'confrontations', 'alikexa', 'legislatures', 'uninformed', 'eiffel', 'limbaugh', 'hidden', 'emo', 'workedthe', 'angelnffs', 'naughty', 'egoistic', 'ways', 'acknowledging', 'lets', 'needle', 'voices', 'accountsnjust', 'fighterxaas', 'licking', 'rubio', 'at', 'stat', 'chisholm', 'preliminary', 'andignorant', 'destinct', 'forumtopicdiv', 'd', 'bc', 'supportersnni', 'xcxaxcxahenry', 'tits', 'particular', 'lynched', 'tress', 'fail', 'gomorrah', 'car', 'yang', 'yoself', 'hostage', 'peoples', 'morris', 'persuaded', 'amerians', 'hits', 'hardnnim', 'compy', 'springs', 'biblically', 'heathrow', 'toetappin', 'uses', 'wealthy', 'creepy', 'xaslowly', 'film', 'interscope', 'pie', 'thoughts', 'linear', 'busyxcxa', 'decorate', 'dating', 'contemporary', 'sucking', 'goalie', 'wold', 'repelled', 'horrors', 'guy', 'hangovers', 'cupcakes', 'amxa', 'wink', 'riiiightnnor', 'archangel', 'magics', 'ibb', 'butthurt', 'center', 'govt', 'bobby', 'usmc', 'dc', 'reconstructed', 'people', 'eatnni', 'nrape', 'historyxcxa', 'disgusted', 'jakim', 'exual', 'citizens', 'sally', 'dispose', 'read', 'qweers', 'stoopid', 'opinion', 'pxe', 'israeli', 'hearxayes', 'owebama', 'vixeaut', 'capital', 'overly', 'middleman', 'romneyxa', 'kickback', 'avoid', 'ipeoplei', 'faux', 'neocons', 'pours', 'virgjinitetin', 'manifested', 'udouee', 'with', 'ehnnsyour', 'ce', 'gabbar', 'intelligence', 'nicer', 'coursennhowever', 'computer', 'icon', 'exactlynsee', 'miz', 'kawakita', 'nagato', 'infantry', 'vulgarity', 'lumps', 'svelaz', 'whipped', 'hadnxani', 'othersxa', 'merparten', 'protested', 'ughhhhhhhhhhhh', 'tonsomething', 'hearnneat', 'neghbourhood', 'moneyyyy', 'derogatory', 'nipple', 'capitalism', 'brook', 'worrynnamerica', 'xcxayoull', 'summed', 'beneficial', 'priceless', 'verify', 'storywise', 'huedi', 'yearxexxfor', 'emmanuel', 'buck', 'teaa', 'massage', 'airwaves', 'soul', 'someonesass', 'xanot', 'ngreat', 'warrants', 'regime', 'free', 'schimidt', 'superb', 'kxa', 'anon', 'grossly', 'propose', 'fleabaggers', 'weezy', 'countrymr', 'teenage', 'gray', 'theater', 'jeuceli', 'duties', 'reportedn', 'eyeglasses', 'whimpyn', 'mellow', 'production', 'legalizexcxa', 'licks', 'distracted', 'iphone', 'additional', 'singers', 'wormits', 'excoriates', 'blackthen', 'elisa', 'sweet', 'storagennthats', 'behold', 'booking', 'wilderness', 'pieceofcht', 'paralleller', 'upsurge', 'congressman', 'question', 'dsts', 'bloodntest', 'physically', 'membership', 'xexxcwhen', 'medieval', 'dependency', 'niece', 'take', 'area', 'upnnsatire', 'project', 'decompress', 'objection', 'dragon', 'anointing', 'questioning', 'eyebrows', 'nobama', 'shearnut', 'pox', 'lorax', 'turning', 'cease', 'comfort', 'timexaxaxa', 'runnerupnnwho', 'crawled', 'plaed', 'it', 'prisongeorge', 'bracket', 'handed', 'scenexcxa', 'plants', 'rahrah', 'throat', 'ibooki', 'already', 'soldiers', 'vibe', 'impaired', 'perdon', 'naming', 'graphic', 'fallen', 'arenplease', 'suspended', 'decent', 'dxf', 'irregardless', 'endorsed', 'espumita', 'supermarket', 'nominee', 'danamdnnnnnyou', 'decker', 'competition', 'semidecent', 'democratsn', 'kissed', 'itnit', 'application', 'droning', 'trailer', 'bands', 'chunk', 'cool', 'mans', 'laughed', 'printed', 'pedophileyet', 'rab', 'unscrupulous', 'jojonyou', 'wahoo', 'caucasus', 'qurl', 'budgets', 'xcxashe', 'force', 'wiki', 'nsanxanwrite', 'tomorrow', 'gooker', 'purposes', 'pecking', 'alive', 'jason', 'soccer', 'toothpick', 'humiliated', 'ubounch', 'fuckface', 'behind', 'younger', 'pays', 'cowardly', 'raising', 'leftists', 'timeblackred', 'choccie', 'retardednntroll', 'doctrinal', 'slobovia', 'ussr', 'testosterone', 'backup', 'bradley', 'nutshell', 'neymar', 'the', 'ds', 'tania', 'mishandling', 'tiresome', 'deli', 'dick', 'argue', 'weightnand', 'rogers', 'daddyxa', 'tful', 'syndrome', 'slight', 'smy', 'portion', 'robot', 'hahahahaha', 'cowardxa', 'brazil', 'nownnot', 'osborne', 'heavily', 'yitan', 'lifetimexcxa', 'gatta', 'jacc', 'idecent', 'areonly', 'losersuuim', 'battled', 'saynnyou', 'transference', 'vattels', 'safer', 'invoke', 'eaten', 'fringe', 'pedigree', 'concerns', 'russia', 'pilfering', 'goonies', 'fuckingloser', 'woman', 'liverpool', 'youxaorder', 'stupida', 'ges', 'padhila', 'joey', 'hawk', 'evernthat', 'ppp', 'vegemite', 'lintervista', 'fundmentals', 'mcdonald', 'asswipeidiots', 'antiimmigrant', 'insane', 'nwayne', 'momo', 'choadas', 'nnjust', 'superstition', 'rationalnnjust', 'slay', 'libtardsxa', 'fuckin', 'vocabulary', 'ape', 'fits', 'xayoure', 'waterfallxcxa', 'fucked', 'richard', 'exploit', 'mars', 'lurking', 'roughly', 'oppressedxa', 'xcxahe', 'treasured', 'timexcxa', 'lolwhen', 'doppeltrudy', 'xxe', 'wears', 'conditioners', 'jobxa', 'gohn', 'wreck', 'hopeful', 'scholarship', 'quotesn', 'builders', 'relaxe', 'supporting', 'actio', 'believe', 'drill', 'incremental', 'marching', 'bloggers', 'pms', 'mexa', 'greeknshe', 'represented', 'jcpenney', 'precautions', 'pot', 'everyones', 'younnyou', 'seasonnbsp', 'sticking', 'clergy', 'drove', 'indian', 'alumni', 'hollering', 'itunes', 'nicole', 'teamrip', 'y', 'usxcxa', 'carterxcxa', 'ignored', 'wasnxexxt', 'insult', 'legit', 'tier', 'features', 'phone', 'mentallyxcxa', 'cashing', 'none', 'noooo', 'afar', 'foundation', 'nnps', 'organ', 'voting', 'christan', 'deeper', 'vidya', 'mistressnnor', 'campaignus', 'gandalf', 'evening', 'had', 'nnthanks', 'dots', 'saleman', 'fundamentalist', 'indication', 'cancelednnisnt', 'statute', 'realise', 'randall', 'nb', 'doctorsdentists', 'sxett', 'corps', 'statementxa', 'trashyxaabout', 'giger', 'fractured', 'monkand', 'stne', 'grad', 'campaigns', 'owebamao', 'tooxcxaxcxa', 'xexxdont', 'beings', 'blood', 'waist', 'rom', 'pledge', 'companys', 'ortu', 'stranges', 'iron', 'sleeve', 'beneath', 'attacks', 'published', 'pregnancy', 'colmes', 'questiong', 'nationxexxs', 'ole', 'hxeng', 'me', 'mikeyxa', 'poznxeme', 'eitherb', 'dy', 'stadium', 'tombstone', 'telenav', 'percent', 'genetic', 'smell', 'blir', 'winnernwe', 'amazement', 'assclowns', 'singing', 'inspirits', 'experimental', 'topxaand', 'semi', 'quaida', 'testa', 'ol', 'announcements', 'signed', 'accusing', 'callingone', 'infested', 'incompetence', 'slower', 'likexaeh', 'nnbquestionb', 'complainand', 'growlanser', 'klu', 'explained', 'disappointment', 'definitelyufeff', 'gig', 'eduardo', 'pedophile', 'gej', 'decades', 'bums', 'dealnnanya', 'menyou', 'cooperative', 'subh', 'ummer', 'trough', 'gaurentee', 'hardxcxa', 'sodomy', 'pick', 'guitar', 'wager', 'wthe', 'amazing', 'oscars', 'soggy', 'ashton', 'xcxathe', 'speculation', 'nukes', 'trapped', 'bobbing', 'fucknni', 'complain', 'mart', 'beirut', 'bigotsnracists', 'wimbledon', 'breathers', 'remarkable', 'presume', 'banjos', 'cambio', 'centuries', 'state', 'xexxcstop', 'scones', 'adoption', 'cognizance', 'leftwing', 'mps', 'purexcxa', 'image', 'endorsement', 'contributing', 'sloppy', 'murderer', 'concerts', 'figured', 'sacrifice', 'qualify', 'headphones', 'marital', 'moderate', 'npr', 'nuxfi', 'icecream', 'whynyou', 'nationality', 'implemented', 'te', 'weber', 'jaruri', 'facebookxa', 'allen', 'autotunenjust', 'partially', 'manchild', 'xahope', 'cheer', 'employs', 'therendoesnut', 'mittens', 'oneyear', 'henri', 'empathy', 'noise', 'wel', 'bellinski', 'juggalos', 'hallxawith', 'partisan', 'dictator', 'figure', 'anthropophagy', 'lbj', 'cubs', 'obamaxcxa', 'hos', 'ghetto', 'displays', 'toughest', 'supporters', 'suh', 'spot', 'bloc', 'ceased', 'circumstances', 'ronald', 'barrack', 'storynpeople', 'mistakes', 'windows', 'christcult', 'holdyourown', 'absence', 'uck', 'falling', 'succeed', 'eleven', 'dryer', 'predominate', 'mlxetiu', 'puss', 'xcxahis', 'breaker', 'sonneven', 'cei', 'epoch', 'suggesting', 'willingness', 'sarah', 'diputados', 'complaint', 'strategy', 'hard', 'bonuses', 'xawho', 'trybushmasteri', 'reversing', 'r', 'ambassadornand', 'prius', 'bum', 'bombs', 'shredded', 'loathe', 'hilariousnnwho', 'dumbphuck', 'states', 'doesnxexxt', 'understands', 'option', 'trade', 'motivation', 'joking', 'desire', 'console', 'modern', 'goatxa', 'hat', 'heronnrummy', 'canada', 'fukin', 'future', 'nnot', 'technqiue', 'rote', 'divorce', 'uwebbie', 'bitch', 'airbrush', 'moonlanding', 'jerseys', 'posse', 'quan', 'transparency', 'seriousxcxa', 'randy', 'clarification', 'herpes', 'muslims', 'israelisxcxa', 'showsxcxa', 'demoralized', 'bangers', 'xcxi', 'doxa', 'wexa', 'taget', 'drowned', 'sports', 'idea', 'expertgo', 'zoobs', 'morally', 'devil', 'axis', 'right', 'internalizing', 'harrison', 'redistribution', 'existance', 'muahahaha', 'biasa', 'craig', 'cesspool', 'hippocrate', 'between', 'nuff', 'weed', 'bully', 'hays', 'candidacyedward', 'galambi', 'bethany', 'manage', 'accepted', 'landslide', 'len', 'kia', 'cram', 'see', 'armpits', 'lacks', 'jpm', 'mengod', 'diceva', 'behxfver', 'toxcxabring', 'next', 'dessutom', 'gearing', 'arennthe', 'suckxcxa', 'expectations', 'opens', 'innan', 'haterplian', 'pursue', 'schooled', 'flop', 'aaahhh', 'spy', 'npresident', 'miami', 'filling', 'prensa', 'frightening', 'ingeniero', 'xexxcvoid', 'ceap', 'insults', 'prisonmichael', 'sour', 'fella', 'zito', 'pouring', 'nnwhen', 'doin', 'quantities', 'unison', 'eurocentric', 'efforts', 'riotcum', 'internedward', 'atta', 'whiteudnthatus', 'institutions', 'fled', 'stoic', 'obamanhe', 'tidal', 'dmn', 'corruption', 'marxist', 'bustin', 'log', 'dumbassxa', 'antunnaru', 'samhxelle', 'weeknxanfirst', 'combines', 'doomandgloomers', 'paterno', 'newsxcxa', 'creepxa', 'impressive', 'chants', 'particularxa', 'thoughtful', 'loveshimself', 'sewers', 'functionality', 'fire', 'dessert', 'expected', 'blazeraddict', 'accomplished', 'incredible', 'hopeless', 'funnywhats', 'overbut', 'donennand', 'wishes', 'fred', 'havenstop', 'onlyenglish', 'teenagers', 'answered', 'hustler', 'sinner', 'disliked', 'taxpayersclean', 'huh', 'desensitised', 'hispanic', 'weather', 'drives', 'ranga', 'afixing', 'workxcxa', 'sowegadawgxabut', 'storynnwhen', 'loves', 'ny', 'childish', 'dare', 'rocking', 'engaged', 'blacklist', 'areas', 'mici', 'goalkeepersthey', 'namennyou', 'airmix', 'alrightnwell', 'wack', 'nickname', 'babby', 'platform', 'nonexistant', 'childrenxa', 'risk', 'savior', 'disrespecting', 'worse', 'stakexcxa', 'crapnnyoure', 'skater', 'xathat', 'pricing', 'shabaab', 'twatxaxa', 'loool', 'stokes', 'exempt', 'awefully', 'mansionnnnnone', 'ose', 'doorxcxa', 'tops', 'physiological', 'upgrade', 'doublespeaking', 'withdrew', 'furthernnthe', 'tipping', 'nitexaxaxa', 'die', 'xcxaa', 'xahim', 'way', 'cherries', 'ialistscom', 'httptcokwuw', 'greg', 'rhino', 'courtnnchris', 'committed', 'fuss', 'princess', 'blogger', 'welp', 'creatures', 'correction', 'meat', 'stroller', 'phuedi', 'travel', 'abuses', 'xapa', 'qatar', 'joyce', 'bomb', 'nigh', 'seperate', 'milwaukee', 'birth', 'making', 'womenhating', 'battier', 'serves', 'root', 'sandbox', 'nopeyour', 'schooll', 'host', 'dkless', 'itnbut', 'sholaameobi', 'virginia', 'disputing', 'ideals', 'labour', 'hall', 'seemed', 'cewubacca', 'subject', 'penalty', 'ijuries', 'weekly', 'cleveland', 'santorum', 'points', 'deceitful', 'strongayou', 'jack', 'lid', 'uncaring', 'dumbkopf', 'heatoutside', 'fend', 'tabloids', 'speak', 'lowest', 'jae', 'beslut', 'gangster', 'punctuation', 'chappaquiddick', 'slang', 'computers', 'cheap', 'explorability', 'cleaner', 'attempts', 'katana', 'rooftops', 'brees', 'onyou', 'shyte', 'pennsylvania', 'highlighting', 'nuffffff', 'made', 'ska', 'blueprints', 'calls', 'pampered', 'pinkel', 'trash', 'providing', 'starved', 'lebron', 'adulterer', 'goneso', 'greasy', 'houc', 'compete', 'hamm', 'explainedxathat', 'dates', 'defendias', 'posing', 'tablet', 'tds', 'regardless', 'myt', 'destroy', 'management', 'sticker', 'mollusc', 'um', 'iu', 'settle', 'luke', 'xanobody', 'roses', 'fucken', 'frakking', 'mortal', 'melo', 'bribery', 'deadly', 'morto', 'heckle', 'statutory', 'inxaplace', 'crapi', 'invisible', 'buddha', 'alonebitch', 'ugly', 'wm', 'thexaback', 'egyptiansxcxa', 'surface', 'literally', 'elite', 'intercettazioni', 'liars', 'emptyxahead', 'crickets', 'viewable', 'baptists', 'commentsnnlets', 'house', 'hoo', 'red', 'bag', 'worsenndont', 'idiot', 'grant', 'threw', 'girlsso', 'pointblankly', 'enlighten', 'itselfxa', 'stevenever', 'costa', 'protect', 'sticky', 'soxet', 'zealot', 'doj', 'pose', 'operates', 'rides', 'scott', 'frankly', 'mountains', 'sholawhat', 'puttting', 'anthem', 'baba', 'parlamentare', 'slowly', 'anynnational', 'husband', 'schoen', 'huts', 'jackie', 'dawgjamfan', 'angle', 'ditching', 'xaperhaps', 'peronist', 'genious', 'sector', 'lavendar', 'retro', 'acheson', 'ethicsxcxaxcxa', 'powersnnmsnbc', 'visa', 'skateboard', 'polluted', 'tate', 'youxcxasit', 'nnpeople', 'kenya', 'fattotornata', 'unrestricted', 'outthese', 'manners', 'penalized', 'balls', 'libtard', 'articulett', 'nana', 'voluntary', 'demonstrating', 'samurai', 'botton', 'etalnnthe', 'shilohthe', 'francisco', 'spendxa', 'direct', 'educational', 'musics', 'ws', 'ssxa', 'drawn', 'lkp', 'thxeam', 'weekend', 'happens', 'bombastic', 'historystrong', 'overseas', 'rob', 'suprise', 'sorrynnyou', 'lobbyist', 'modest', 'commissars', 'balotellis', 'pony', 'thisxaxa', 'lazymaxketterxa', 'limitxa', 'filthy', 'fine', 'album', 'bws', 'sued', 'consumes', 'damascus', 'karlann', 'ridicule', 'enis', 'parliament', 'befriend', 'trickled', 'skrew', 'toolbox', 'lipsxcxa', 'chime', 'communityxexxd', 'anythingnboth', 'insanehuh', 'daciddragon', 'odonnelllook', 'memphis', 'disaster', 'unannounced', 'holiday', 'yellowstone', 'boston', 'outworld', 'zuccotti', 'knuckleheads', 'broad', 'sasha', 'bullies', 'abortionsnnalso', 'copper', 'spawn', 'tina', 'forthalso', 'cretinous', 'mxfjlighet', 'clichxeand', 'trading', 'selfworth', 'nwhen', 'feedbackxa', 'hates', 'macro', 'subjected', 'found', 'yourselfnnmuch', 'nephew', 'calvert', 'godont', 'empire', 'dropoff', 'alonennand', 'school', 'ntook', 'policennand', 'combat', 'prostitutes', 'forwarded', 'grizzlies', 'skip', 'glommeronner', 'relocate', 'attacking', 'br', 'presidential', 'notorious', 'anf', 'want', 'payments', 'didnni', 'blowup', 'tunes', 'namemovie', 'loathing', 'hypocrites', 'quota', 'valuenand', 'changing', 'connect', 'wisely', 'crossword', 'resurrected', 'selfishly', 'nnif', 'ipod', 'contributions', 'brier', 'blacks', 'libturds', 'utah', 'suddenly', 'soulsnprove', 'players', 'pipe', 'recognition', 'compulsory', 'deconstructing', 'pe', 'letsgowestxatry', 'httptcoyhelahaq', 'appeared', 'sono', 'hosts', 'needed', 'ideologue', 'melly', 'sensors', 'gxf', 'ball', 'nnhe', 'transports', 'kiii', 'healthier', 'deniro', 'nnnread', 'coin', 'very', 'steelers', 'manyxasri', 'population', 'software', 'effectively', 'laxa', 'ugk', 'freewhen', 'herrera', 'injected', 'bananas', 'rooneys', 'amnesty', 'refuse', 'darzinxawell', 'drugaddled', 'psycho', 'nnxexxcixexxm', 'passport', 'hence', 'part', 'refrigerator', 'smackdown', 'slxeppa', 'kommer', 'birtherism', 'twice', 'hexexxs', 'cameren', 'hmrc', 'fishins', 'vigilante', 'glen', 'pointbypoint', 'ctxfi', 'raw', 'tous', 'dnnyou', 'sandwich', 'gente', 'sharexa', 'goals', 'dignity', 'concoctions', 'spears', 'hypocrisy', 'scolari', 'vanessa', 'thenmake', 'hosseini', 'uuauuuuu', 'emitowany', 'entitlements', 'minor', 'hamare', 'prevented', 'fucktard', 'blackmailed', 'lltrixmass', 'pals', 'drops', 'thueadt', 'spinoff', 'painterkeep', 'ra', 'game', 'donniexa', 'kindergarten', 'opening', 'monica', 'csrs', 'childrento', 'nbobcats', 'data', 'ntan', 'ocean', 'diplzzzzzz', 'midfing', 'peanut', 'exists', 'stapletoni', 'hahahahahaha', 'uaui', 'axa', 'tiniest', 'claiming', 'economiic', 'brushing', 'usual', 'loon', 'possible', 'systematic', 'agxcxa', 'learned', 'doubtnnhumans', 'lth', 'yourselfs', 'telefonate', 'reynolds', 'oir', 'nnon', 'bussiness', 'uctax', 'gli', 'much', 'pathology', 'terribly', 'pspan', 'bay', 'around', 'swore', 'striking', 'channel', 'presidentnnit', 'criminal', 'libidiot', 'dylan', 'intended', 'mouthif', 'monks', 'anticipatednan', 'calliope', 'creditits', 'wenger', 'marco', 'fuckyourself', 'ebosn', 'thisxa', 'headline', 'mayoral', 'obamacare', 'toxcxadefense', 'spam', 'bryan', 'numbernyou', 'bullshitxannput', 'alakda', 'nghiuecm', 'quyuebft', 'tamara', 'folkets', 'publicity', 'literature', 'preinterview', 'calm', 'infiltrated', 'alla', 'instead', 'worst', 'fandom', 'compelling', 'councilman', 'theyxexxre', 'pill', 'nowxa', 'platypus', 'promoted', 'comunity', 'holds', 'unsweetened', 'communists', 'safety', 'minute', 'engraved', 'nba', 'contingent', 'nndid', 'traits', 'pressure', 'den', 'nnabby', 'mercy', 'agreement', 'dumfxfrklara', 'takersso', 'libero', 'they', 'keptthey', 'interviewed', 'mc', 'hurt', 'newspaper', 'obra', 'tributes', 'cronyism', 'likesn', 'nthis', 'woke', 'beanstalk', 'bronco', 'butxcxathe', 'lkissler', 'africamore', 'nakuatuta', 'adaptible', 'buzzfeed', 'dumbass', 'prowess', 'moaning', 'africayou', 'keynsian', 'jessup', 'republican', 'sang', 'powerlessness', 'daughter', 'modal', 'connection', 'xaum', 'deserved', 'whinge', 'backing', 'roger', 'paychecks', 'saints', 'rashi', 'doremus', 'app', 'ireal', 'servicesector', 'sakiliya', 'harris', 'miss', 'pushing', 'inverse', 'pileup', 'choicexcxa', 'grows', 'wiscnnnotice', 'mouths', 'unlockable', 'encouraged', 'pinko', 'ratio', 'xcxayour', 'wrote', 'muschamp', 'peevedmichelle', 'byandlarge', 'jonxnyou', 'purchase', 'nbakare', 'mayor', 'osama', 'degrade', 'bradly', 'liberalsall', 'biggest', 'woods', 'cersei', 'viewing', 'prisonmary', 'berkeley', 'donnnbtw', 'quality', 'sohow', 'sxed', 'longs', 'fuks', 'edhe', 'xathats', 'looknignorant', 'khan', 'written', 'rude', 'exciting', 'blasting', 'notback', 'ivvaledani', 'evasion', 'leaf', 'operate', 'truengo', 'portraying', 'csms', 'hairsxanot', 'desperate', 'northeastern', 'statistical', 'gary', 'xaku', 'httpsharesqzst', 'scams', 'cheapened', 'yourselvesss', 'ek', 'friedmans', 'postspeople', 'brooks', 'autopsy', 'aided', 'whoresay', 'shared', 'somalians', 'spokexaand', 'juegonn', 'chirping', 'weakminded', 'kentucky', 'dxeremot', 'guest', 'plaque', 'niggr', 'positively', 'stacy', 'jane', 'juego', 'hubbard', 'overits', 'prob', 'favre', 'obamafunded', 'sensability', 'scumbag', 'disagree', 'switzerland', 'libsxa', 'moj', 'widespread', 'assign', 'someday', 'bigtimeufeff', 'accident', 'corporate', 'delicate', 'deliverance', 'nplenty', 'fake', 'deductions', 'moravy', 'extremely', 'nnwell', 'wishing', 'heresy', 'elitist', 'buildings', 'fundamental', 'xalolnnyou', 'unstoppable', 'fertilizer', 'numberxa', 'guilty', 'babapuppe', 'echoed', 'janab', 'timengwynnno', 'postsnwe', 'admit', 'swings', 'transformer', 'dxfng', 'assfuck', 'illegalnni', 'suppose', 'biuebft', 'hamara', 'kick', 'blew', 'promo', 'inc', 'sjuxerig', 'captain', 'gleaming', 'cheerleaders', 'lax', 'pharma', 'crapping', 'bolshevik', 'pile', 'adam', 'kenyan', 'global', 'amazed', 'chunky', 'sprew', 'uuebfn', 'selfdescribed', 'lemme', 'puzzling', 'tattoosgirls', 'gulfstream', 'family', 'senator', 'pale', 'taxing', 'profitsfor', 'person', 'orpi', 'menus', 'ham', 'compassion', 'whitmenitis', 'xcxathat', 'fanart', 'investigated', 'instill', 'sanctions', 'hurried', 'slayed', 'lolnnif', 'insaan', 'ideal', 'consequences', 'neighbors', 'recognize', 'nrequire', 'flaccid', 'make', 'muedi', 'dissembling', 'hexa', 'pussycat', 'othersnnyour', 'sowed', 'drawing', 'pukes', 'bargaining', 'insist', 'injure', 'exagerrating', 'removing', 'balas', 'selfcontrol', 'closurennthe', 'document', 'nxa', 'axlrodesxawere', 'assets', 'jeez', 'foro', 'joker', 'races', 'heshe', 'bald', 'yearsbatshit', 'clips', 'mrbreeze', 'xcxayes', 'infant', 'jut', 'girli', 'spanish', 'capacity', 'christopherm', 'route', 'puppets', 'chuecdn', 'iowa', 'terrified', 'evangelistic', 'coming', 'convince', 'jacking', 'xannall', 'wonxcxa', 'just', 'xayes', 'cuefc', 'childgary', 'unwanted', 'cone', 'trips', 'newt', 'yeaaaa', 'hair', 'mightxcxaxcxain', 'alreadyxa', 'interracial', 'moslems', 'themi', 'sorosxcxa', 'gets', 'arguement', 'said', 'mot', 'thunderbird', 'chueat', 'meannif', 'produce', 'vacationsxaand', 'nnnndear', 'positive', 'amanda', 'pop', 'homies', 'allnnyour', 'jokeisnt', 'dealnthunder', 'feesxcxa', 'jeff', 'infuriated', 'cod', 'mugshots', 'robbed', 'til', 'ofnothing', 'proposals', 'indeed', 'richest', 'censoredever', 'never', 'rate', 'emni', 'timexa', 'onesnnhere', 'ron', 'borderstates', 'nutbagyoure', 'linus', 'xaand', 'sob', 'margin', 'wrestler', 'humiliating', 'likje', 'swallow', 'stones', 'gingrich', 'itxexxs', 'karen', 'housenthese', 'superior', 'toygers', 'rast', 'prototype', 'lipped', 'eastern', 'comic', 'enforcement', 'asspolitically', 'subtext', 'sabrina', 'ineffective', 'moronnbsp', 'dxer', 'obstical', 'blond', 'religionnnnow', 'pleas', 'whereas', 'hannity', 'excessive', 'haul', 'solemn', 'adviser', 'halfcourt', 'buenas', 'accusation', 'older', 'vent', 'foregone', 'jaemill', 'wrists', 'join', 'bugs', 'socialistic', 'talentand', 'regret', 'souls', 'thatxafirst', 'lnfaoooo', 'arewere', 'rattled', 'cameras', 'sound', 'tart', 'lgbt', 'likexai', 'brandnxango', 'shadows', 'tired', 'tracklisting', 'discomfortxcxa', 'gather', 'nubuedbc', 'feuded', 'primitive', 'allegiancennthe', 'aquire', 'hideously', 'mech', 'iv', 'bipartisan', 'familyxa', 'bosh', 'sunni', 'iliterate', 'reacting', 'ammede', 'marines', 'jokes', 'culture', 'dealnspurs', 'nov', 'americansno', 'runway', 'closet', 'atlanta', 'ramirez', 'bags', 'tv', 'heightobject', 'viablexa', 'hoping', 'fret', 'outxatheorem', 'shaky', 'jsr', 'plagues', 'nso', 'enters', 'let', 'guts', 'cleaning', 'introvert', 'sermons', 'noui', 'rubber', 'snot', 'lifei', 'compassionate', 'wadeyou', 'dress', 'queda', 'crash', 'extending', 'jajajaja', 'cuxed', 'shamed', 'previously', 'expand', 'privacy', 'member', 'angsty', 'joelweltman', 'partisannnyou', 'allocated', 'youll', 'lanny', 'cheats', 'registered', 'wild', 'le', 'dxen', 'ergo', 'acceptable', 'revolt', 'censured', 'xameet', 'tued', 'cambiar', 'moolah', 'alleged', 'felony', 'farms', 'rays', 'honorable', 'leaves', 'yankees', 'dim', 'toad', 'randomize', 'drunknnheat', 'unemployed', 'informative', 'allways', 'uga', 'anecdotal', 'stephen', 'totalitarianism', 'leader', 'residency', 'taxpaying', 'ku', 'eslewhere', 'accurately', 'ghostnmeclaps', 'buttfuckle', 'diarrhea', 'stephanopoulos', 'prediction', 'manu', 'scumbags', 'numerous', 'volta', 'sparky', 'polish', 'horseracing', 'hilton', 'isnut', 'tour', 'tad', 'xcxaor', 'websitesnncould', 'inflictedupon', 'scandalonly', 'dna', 'flashinthepan', 'lanzar', 'nhxecn', 'actors', 'clinging', 'enda', 'myselfxcxa', 'thjat', 'mermaids', 'performance', 'mi', 'penisxa', 'weiner', 'animation', 'exception', 'dck', 'emerging', 'manny', 'elites', 'marring', 'dawg', 'plowed', 'interruptedxa', 'enlace', 'foolnnthis', 'arexapuzzling', 'system', 'surpreme', 'scoobyyou', 'goin', 'khuec', 'spendingnnpack', 'thxen', 'concurring', 'too', 'replacementnn', 'nyc', 'xd', 'greianfuck', 'helpful', 'ityou', 'dega', 'spending', 'credit', 'ndjej', 'freedom', 'bribes', 'kan', 'swallowed', 'witnessing', 'sanitation', 'cancel', 'processed', 'nominees', 'uuedi', 'mudslimes', 'politiken', 'dontcuz', 'fully', 'affod', 'lloyd', 'incarcerate', 'silly', 'deepwater', 'matchxa', 'looks', 'boif', 'dealnmanu', 'money', 'admitted', 'proposed', 'duty', 'themnnlisten', 'guarding', 'freda', 'talents', 'comitatus', 'rxfui', 'thexadipshat', 'vicious', 'approximately', 'isa', 'rose', 'his', 'languages', 'doggystyle', 'lookxexx', 'arufeffe', 'holesecretly', 'salad', 'prisons', 'underscoring', 'dressage', 'hearse', 'basket', 'unattended', 'revisit', 'record', 'preach', 'praise', 'far', 'wasteland', 'dorinxcxbe', 'beliefs', 'cry', 'frxen', 'sympathy', 'hubuedfng', 'xawe', 'ouer', 'trashcan', 'pedophilesxcxa', 'impressivexcxa', 'comprehension', 'degeneres', 'minajxcxa', 'hon', 'tune', 'momedia', 'eyein', 'forehead', 'all', 'agencies', 'innocent', 'campbell', 'bras', 'socialism', 'fagnnnnnwe', 'establishing', 'uuedng', 'mexicans', 'dial', 'jake', 'conservatism', 'servant', 'delicacy', 'independents', 'dwis', 'hmmmm', 'foremost', 'xcxaand', 'flattering', 'alert', 'memorials', 'lessen', 'se', 'firehole', 'thinkers', 'movingnngus', 'uganda', 'wr', 'wholenfind', 'substance', 'jurisdictions', 'tubby', 'dolan', 'greencardxa', 'onn', 'olb', 'dummies', 'ia', 'coffee', 'grow', 'nnromney', 'modernismstrong', 'lookingxa', 'ballsnthey', 'promised', 'alsonndid', 'rot', 'greyidk', 'unquotenn', 'freekie', 'elections', 'actuality', 'pstars', 'pornoi', 'infomation', 'southto', 'twat', 'demolibutards', 'lobbyistsduh', 'poor', 'yur', 'childrenn', 'singer', 'peaceful', 'benefit', 'fight', 'navigation', 'nsc', 'albums', 'pricks', 'boredass', 'sanyu', 'foul', 'dominion', 'gadget', 'soviet', 'pennylane', 'ja', 'county', 'dumbama', 'fined', 'jive', 'marinon', 'stata', 'saul', 'minding', 'costnnandrea', 'gloves', 'knack', 'band', 'wordnin', 'itxannshe', 'significant', 'feed', 'feet', 'xafuckin', 'profilexa', 'bagundi', 'happynn', 'tard', 'fees', 'subtle', 'donnthen', 'evolution', 'unwinnable', 'updatednnnbest', 'arar', 'mountaintop', 'premise', 'racism', 'divisions', 'thank', 'engineers', 'child', 'tattooed', 'ofxa', 'pxa', 'hitanother', 'wicked', 'two', 'wen', 'jib', 'worldnnbtw', 'cj', 'unlikely', 'internal', 'spoilt', 'himn', 'regular', 'divisive', 'barbed', 'sasuke', 'creepier', 'bashers', 'cocks', 'breakfast', 'cari', 'widgetn', 'praktickxeho', 'glum', 'hearty', 'foxtarrds', 'libelously', 'drivein', 'oakar', 'rightwing', 'sad', 'room', 'lsoing', 'coatxathatus', 'tillrxeckligt', 'india', 'general', 'obiously', 'oven', 'nine', 'flames', 'snowstorms', 'timeout', 'ought', 'decides', 'sensexagod', 'trend', 'guard', 'pornoxa', 'multiple', 'triumph', 'afroamerican', 'pauly', 'of', 'wouldve', 'worn', 'gain', 'kicks', 'losses', 'disturbing', 'dhs', 'tissues', 'carbon', 'scumbagxcxa', 'earning', 'duniya', 'fetishes', 'timennfor', 'bozo', 'ruffles', 'culpablexcxain', 'keys', 'jeans', 'fascination', 'comics', 'dozens', 'zeppelin', 'hasta', 'norway', 'drivers', 'coat', 'haa', 'xaim', 'petrsmailbox', 'expelled', 'coloring', 'reporter', 'kapoorall', 'export', 'slogan', 'hippie', 'becos', 'brick', 'gingrey', 'principal', 'starched', 'moronic', 'poser', 'beatleslife', 'mennwords', 'soulful', 'i', 'trodde', 'pervert', 'ideanna', 'itinerary', 'nnliberals', 'awhile', 'some', 'foran', 'onions', 'dontxadescribe', 'predecessor', 'kno', 'useless', 'diet', 'broadcasting', 'double', 'drago', 'sweden', 'speculated', 'eat', 'si', 'kosh', 'muslim', 'boldfaced', 'hit', 'corners', 'exs', 'spin', 'bruseki', 'racists', 'spectacle', 'weights', 'snider', 'entities', 'drugs', 'beeblmeyer', 'memorial', 'expert', 'xexxcconsulting', 'defrauding', 'attack', 'hoxa', 'zimbabwe', 'jays', 'trainers', 'loony', 'orwell', 'churchwould', 'to', 'edging', 'clubs', 'verbal', 'compares', 'clicks', 'fanboy', 'arsenalnxani', 'confinement', 'homicide', 'friendshe', 'judgments', 'chrissakes', 'damaging', 'avb', 'wins', 'russias', 'thecock', 'count', 'guessed', 'cover', 'thisi', 'farit', 'ml', 'upxaand', 'bigg', 'exakt', 'uede', 'boalsburg', 'kate', 'pitcher', 'intelligent', 'blowone', 'zuckenberg', 'verbatimsmh', 'agreed', 'district', 'atheists', 'slaves', 'narcissim', 'yell', 'legallynnhow', 'nnwe', 'egotistical', 'figures', 'dar', 'theif', 'fin', 'forgettable', 'dainty', 'stfu', 'condominiums', 'haloweennand', 'lesbian', 'xcxafrederick', 'heres', 'location', 'thanx', 'three', 'wc', 'timesnnnhow', 'clam', 'cyclists', 'teet', 'furious', 'molestation', 'sec', 'real', 'xcxaha', 'preservation', 'irreparable', 'esos', 'nosexa', 'brought', 'obviouslygive', 'classforumitem', 'pakistanio', 'machine', 'privately', 'handout', 'ccw', 'slob', 'prosecutor', 'livingdead', 'stereotypes', 'statements', 'supportive', 'rump', 'unlicensed', 'griji', 'slush', 'outspent', 'guyall', 'xannanyway', 'maher', 'destroying', 'airplane', 'stands', 'bst', 'prep', 'savages', 'afforded', 'xcxais', 'alejate', 'somos', 'ofshit', 'norfolk', 'mad', 'trolls', 'lilly', 'cbs', 'molest', 'wingnuts', 'argie', 'pirate', 'rumpy', 'loselose', 'dunnowhatever', 'wasyou', 'shelf', 'becouse', 'pentru', 'muppet', 'closing', 'tug', 'up', 'autopsying', 'himph', 'fiance', 'imprison', 'spun', 'arexaxathere', 'thexcxaun', 'venables', 'dry', 'firedi', 'httpsharesqztvq', 'ted', 'demsxato', 'collectively', 'knowit', 'pillow', 'cd', 'labelwith', 'emotion', 'allnthe', 'centre', 'lifenlaugin', 'zhang', 'impossibly', 'appt', 'holder', 'midst', 'lunduke', 'sets', 'cut', 'shows', 'depressing', 'profiled', 'botheringnnim', 'fb', 'cho', 'imbecile', 'powerfulstop', 'clark', 'bigs', 'ot', 'mxehxenda', 'privileged', 'retiring', 'fawking', 'gon', 'rough', 'occupied', 'comparable', 'damien', 'henry', 'nnexcept', 'bastard', 'wordswho', 'actual', 'httptcogvxfir', 'austin', 'logistic', 'becks', 'buddy', 'peoplenngoogle', 'jenn', 'friendsxcxa', 'whitewashed', 'ponzi', 'fair', 'redneck', 'throughout', 'aboutnot', 'comically', 'smooth', 'ed', 'booed', 'usbut', 'company', 'seniors', 'pound', 'bringing', 'metaphor', 'idiotnot', 'pissedoff', 'deeds', 'ppl', 'stable', 'studiebidrag', 'tobacco', 'male', 'hawkins', 'justification', 'rubin', 'appreciation', 'je', 'put', 'rooseveltxcxa', 'leser', 'misandry', 'seams', 'antiamerican', 'audacity', 'numerical', 'pointless', 'rejects', 'rimes', 'shade', 'crime', 'use', 'someredneck', 'diferrent', 'bushs', 'vxec', 'raking', 'churchstrong', 'delving', 'bad', 'mmos', 'arkannnyou', 'hasnxexxt', 'evangelists', 'wasts', 'raises', 'attention', 'romance', 'assault', 'looked', 'outstanding', 'underestimate', 'ticketncalling', 'credits', 'younto', 'mcgeeeeee', 'beating', 'bile', 'belongsnn', 'lieu', 'secondsnstill', 'regulates', 'tit', 'bootstraps', 'gibbon', 'productive', 'diots', 'filth', 'asia', 'demoncrats', 'garbage', 'quotesdiversity', 'utilizing', 'menu', 'ntyranids', 'miaminnlife', 'believers', 'them', 'anywhere', 'innnthe', 'results', 'calle', 'wvu', 'programnn', 'jurisprudence', 'edd', 'further', 'blazing', 'dealnit', 'vocal', 'vart', 'sp', 'reliable', 'betemit', 'weeksnthen', 'owe', 'alotnkeeps', 'skillnaden', 'pbs', 'timesi', 'fairly', 'seriuosnn', 'shri', 'triggered', 'ony', 'tag', 'f', 'wallet', 'processxexxd', 'delta', 'spoiler', 'evildoers', 'topis', 'dice', 'xcxaobama', 'refreshed', 'mangaanime', 'hausafulani', 'millionxexxand', 'ran', 'dreamboat', 'an', 'distasteful', 'style', 'klarar', 'swept', 'raids', 'econimic', 'hoconnor', 'late', 'nntoo', 'ethnocentrism', 'petitionsnnwe', 'multiplayer', 'abruptly', 'devils', 'nnorthern', 'chxeut', 'httptcolywpopfj', 'services', 'allpro', 'inning', 'crtnn', 'susan', 'scatterbrain', 'wheelman', 'betcha', 'tenure', 'messxa', 'implying', 'firmly', 'hannitys', 'pac', 'vadalia', 'carnal', 'tsiolkovsky', 'z', 'katie', 'bud', 'nxaxacome', 'noose', 'governmentus', 'particularly', 'cenk', 'chances', 'kg', 'irs', 'proposalsnn', 'momshe', 'httptcohhgnir', 'spreadxcxa', 'phonics', 'committees', 'slus', 'nicki', 'pools', 'uedf', 'winners', 'cxfn', 'ruling', 'obstructing', 'swags', 'makennnow', 'transparent', 'hubby', 'logged', 'yourselfnnthank', 'shortstaffed', 'safest', 'becomeextinct', 'governmentxcxa', 'avatar', 'overhaul', 'promptly', 'monkey', 'bounds', 'tende', 'democrat', 'decisions', 'sissyboys', 'thisbabs', 'queen', 'hubris', 'levelmeningan', 'jealous', 'attemtping', 'prescribed', 'army', 'dopey', 'forum', 'natrual', 'pretended', 'ibothi', 'accused', 'sueltan', 'bats', 'fuckk', 'douche', 'expletive', 'goofballxa', 'hung', 'importance', 'xexxcfxexxing', 'cramps', 'horny', 'highflying', 'conduct', 'xexxcthese', 'teat', 'bumsnnany', 'yellow', 'fielder', 'article', 'cos', 'bury', 'labeled', 'sites', 'lindsey', 'governorxexxs', 'as', 'rave', 'punjab', 'represent', 'theocracy', 'snow', 'howeva', 'whoever', 'lunches', 'snort', 'kennedys', 'bullshit', 'thankless', 'tell', 'africa', 'fighting', 'conclusions', 'responsible', 'rednecks', 'client', 'youxastole', 'android', 'misuse', 'rapexcxa', 'nearby', 'austrian', 'trafford', 'waht', 'lift', 'understandn', 'buildingxa', 'stated', 'gamenhehe', 'shorts', 'thoughof', 'cueeda', 'unless', 'mansion', 'unarmed', 'officers', 'leggere', 'beeyatchnnnot', 'seattle', 'stamp', 'hxeaut', 'threads', 'polenta', 'vik', 'bargain', 'tidelander', 'lp', 'probono', 'rationalization', 'accidental', 'call', 'heck', 'concern', 'gimmicknnheres', 'hounds', 'rerpublicans', 'fromxcxa', 'unite', 'buung', 'pistachios', 'pack', 'fagged', 'loads', 'teledysk', 'dolls', 'competing', 'carter', 'harassing', 'shirtswerve', 'abilitya', 'beaters', 'dukakisxexx', 'infertile', 'partyit', 'xcno', 'everybody', 'scissor', 'abnormal', 'cents', 'dumbst', 'planetxasuch', 'doesnt', 'is', 'memories', 'zoanthropes', 'cxf', 'niners', 'baphomet', 'joe', 'acc', 'thoughtthrough', 'iraq', 'tries', 'hxfui', 'rxetta', 'jac', 'helpless', 'grazid', 'violently', 'chats', 'lethal', 'career', 'upn', 'benchmarks', 'multiplyand', 'defend', 'ants', 'tee', 'valuetrueparam', 'silver', 'elements', 'deflowered', 'houa', 'frat', 'organized', 'crockbrock', 'ribsnnfirst', 'ots', 'vxeuy', 'defence', 'sueay', 'chewed', 'titus', 'gender', 'promisesnand', 'broadcasts', 'pagan', 'scorn', 'xahands', 'thrown', 'fantasize', 'priests', 'obumbles', 'tenmember', 'label', 'whens', 'sussed', 'shithang', 'whatsamatter', 'thatxcxa', 'approaching', 'unya', 'yoursilf', 'enormous', 'angelic', 'governent', 'casings', 'dave', 'wtfff', 'incarcerated', 'graft', 'casexa', 'letting', 'messing', 'contraceptives', 'retire', 'itnnanyone', 'get', 'typing', 'touching', 'tradesmen', 'knowxcxannand', 'annoyed', 'stubborn', 'businessman', 'stems', 'tow', 'underwear', 'capcom', 'espouse', 'peltons', 'canh', 'sorts', 'developed', 'muchxa', 'affected', 'eating', 'ofxadecoration', 'numerology', 'maxine', 'song', 'satisfy', 'dilfer', 'dikhead', 'brockmedia', 'trollingdouche', 'juries', 'silently', 'nhxen', 'gates', 'chiu', 'actuallyxa', 'crowded', 'pink', 'nhiuecu', 'nhuecf', 'hittem', 'jacked', 'knowthe', 'secularism', 'natives', 'sxekerstxella', 'obamasass', 'actxa', 'bullshitnhow', 'jets', 'give', 'stalinist', 'wats', 'hermano', 'godxcxa', 'odumbosxa', 'methods', 'iq', 'majority', 'civilized', 'whenxcxairan', 'fraudcharles', 'foolish', 'mira', 'ede', 'pwned', 'chloxe', 'scotus', 'shte', 'stuffnthink', 'planebnnit', 'necessary', 'math', 'tomato', 'fraud', 'ewww', 'prostituted', 'frxega', 'diffent', 'itch', 'expressly', 'correctthe', 'rap', 'rene', 'mainstream', 'againeverxcxa', 'furthers', 'komen', 'romer', 'distributed', 'vulgar', 'cadre', 'elected', 'recruits', 'bitchnnnwaaaaa', 'relax', 'remembered', 'boxxcxa', 'midget', 'cnnxa', 'american', 'nickelback', 'outnnbut', 'dogooders', 'difference', 'pedophilia', 'thatnn', 'tough', 'affect', 'dreaming', 'ricexa', 'twistedxa', 'los', 'h', 'polls', 'imperial', 'lichen', 'peace', 'explorer', 'smells', 'produces', 'mccourt', 'pistol', 'bare', 'jokea', 'logo', 'afvetnnim', 'pudding', 'mediawiki', 'often', 'andf', 'annoys', 'discover', 'mennwhen', 'sworn', 'fieldsnn', 'unsolved', 'perece', 'ufeffthe', 'cripled', 'cue', 'probable', 'timennits', 'nothings', 'mannacross', 'harm', 'palins', 'elude', 'draft', 'mikieboy', 'bennbrought', 'pc', 'leash', 'blessing', 'festdoes', 'confident', 'mejon', 'past', 'bdn', 'lush', 'compsognathus', 'feelingsxcxa', 'bixeauu', 'ray', 'recruiting', 'maimed', 'xcxadavid', 'fool', 'hoss', 'imillionairei', 'viewer', 'temporary', 'allpowerful', 'arrangements', 'dissolved', 'jskop', 'importing', 'heroic', 'geraldo', 'however', 'nhuuc', 'relate', 'unforgiving', 'picture', 'folkvalda', 'bastar', 'likexalittle', 'patches', 'avem', 'lampard', 'waggonner', 'linenteachers', 'barrels', 'forearm', 'votexafor', 'nnndeniece', 'nga', 'flying', 'httpsharesqngko', 'illegal', 'cuz', 'jobcreation', 'championxcxa', 'cmorris', 'refusing', 'tories', 'governments', 'sleep', 'faithfuls', 'tham', 'watersxcxa', 'seditious', 'literate', 'articles', 'cbf', 'whew', 'unsolicited', 'polarizingnn', 'street', 'vid', 'cholesterol', 'bestiality', 'fangirl', 'bubba', 'missing', 'thinking', 'dang', 'named', 'shits', 'stairs', 'author', 'sngniggas', 'tonite', 'loan', 'bride', 'konw', 'blogs', 'mutilated', 'xawhen', 'patrick', 'fillings', 'selfrighteous', 'detta', 'ummmm', 'politiskt', 'lowonly', 'licensed', 'passing', 'dunno', 'regarded', 'focking', 'anymorenncan', 'baddys', 'denial', 'viable', 'smoking', 'competent', 'immature', 'fatally', 'biuecu', 'suef', 'manure', 'enjoying', 'judgementn', 'cosigns', 'bash', 'blamewas', 'xasurely', 'transnational', 'blunder', 'rove', 'guysbe', 'lefty', 'unjust', 'requirements', 'threethe', 'orgasm', 'duncan', 'magoo', 'robocop', 'dontknow', 'flicksnn', 'brey', 'saidnnregarding', 'aarongmyers', 'employees', 'yah', 'ni', 'transmission', 'urn', 'cblogging', 'convention', 'besmirch', 'forxathisxawith', 'due', 'consents', 'adjust', 'beach', 'kuch', 'embarrassment', 'knickers', 'divine', 'freemasons', 'staples', 'younsomething', 'yomtovrsquos', 'mesaman', 'ordinary', 'shave', 'camera', 'setxa', 'donor', 'bones', 'fungerar', 'abusing', 'floating', 'uncles', 'xcxaeven', 'charts', 'modelnnnnikita', 'registering', 'resorts', 'picky', 'baby', 'lucky', 'bullying', 'reminded', 'orange', 'doubt', 'florida', 'youngbae', 'aroundnnso', 'bolins', 'over', 'steeped', 'turds', 'tropical', 'nominationxcxa', 'utan', 'sumwhere', 'larger', 'cons', 'robotic', 'cranial', 'aaaah', 'shunned', 'nuts', 'pissy', 'shapes', 'busas', 'adapted', 'pieces', 'uss', 'coonass', 'thinknhonestly', 'httpsharesqmmk', 'atmosphere', 'lisa', 'somehow', 'delete', 'tragic', 'cellulite', 'memo', 'revised', 'capita', 'panetta', 'careful', 'foot', 'insert', 'ricks', 'misdemeanor', 'hearxcxa', 'proud', 'jacket', 'bother', 'plz', 'everywhere', 'unitednnonly', 'crynnyou', 'teeming', 'untruennot', 'studies', 'ymcb', 'hundreds', 'xahmmm', 'blowhard', 'ti', 'attributes', 'survive', 'ens', 'gamego', 'romneyit', 'nothingbully', 'nhueefng', 'misleading', 'interact', 'attacksxaacross', 'branch', 'improvement', 'teabaggers', 'vatican', 'medicaid', 'mating', 'commendations', 'buy', 'mandates', 'hes', 'understood', 'iminant', 'endless', 'username']\n"
          ],
          "name": "stdout"
        }
      ]
    },
    {
      "metadata": {
        "id": "uqdOBBxp5fW8",
        "colab_type": "code",
        "colab": {}
      },
      "cell_type": "code",
      "source": [
        "def wordArray(string, dic):\n",
        "    words = string.split()\n",
        "    for i, word in enumerate(words):\n",
        "        words[i] = regex.sub('', word)\n",
        "        words[i] = words[i].lower()\n",
        "    words = [word for word in words if (word != \"\" and len(word) <= 15)]\n",
        "    array = [0] * len(dic)\n",
        "    for word in words:\n",
        "        for i, w in enumerate(dic):\n",
        "            if word == w:\n",
        "                array[i] = 1\n",
        "                break\n",
        "    return array"
      ],
      "execution_count": 0,
      "outputs": []
    },
    {
      "metadata": {
        "id": "Dp6kJTHuRCxg",
        "colab_type": "code",
        "cellView": "code",
        "colab": {}
      },
      "cell_type": "code",
      "source": [
        "print(wordArray(data['Comment'][0], words_dict))"
      ],
      "execution_count": 0,
      "outputs": []
    },
    {
      "metadata": {
        "id": "e_JPBe6lRCxt",
        "colab_type": "code",
        "outputId": "2ce49249-3de3-4fea-c8c1-9dcc4dabb20a",
        "colab": {
          "base_uri": "https://localhost:8080/",
          "height": 51
        }
      },
      "cell_type": "code",
      "source": [
        "import numpy as np\n",
        "print(np.zeros((2,3)))"
      ],
      "execution_count": 0,
      "outputs": [
        {
          "output_type": "stream",
          "text": [
            "[[0. 0. 0.]\n",
            " [0. 0. 0.]]\n"
          ],
          "name": "stdout"
        }
      ]
    },
    {
      "metadata": {
        "id": "FiV89v_lO89v",
        "colab_type": "code",
        "outputId": "a6f6de1a-c907-4809-b955-77d82d15856b",
        "colab": {
          "base_uri": "https://localhost:8080/",
          "height": 51
        }
      },
      "cell_type": "code",
      "source": [
        "import sys, time\n",
        "start_time = time.time()\n",
        "m = np.zeros((data['Comment'].count(), len(words_dict))) # matrixのフレームを作り、0を初期値として入れておく\n",
        "for i, s in enumerate(data['Comment']): # wordArrayを作り、matrixの要素を入れ替える\n",
        "    m[i,:] = np.array(wordArray(s, words_dict))\n",
        "print(\"Cost Time: {}s\".format(time.time() - start_time))\n",
        "print(\"Cost Ram: {}GB\".format(sys.getsizeof(m)/(1024**3)))"
      ],
      "execution_count": 0,
      "outputs": [
        {
          "output_type": "stream",
          "text": [
            "Cost Time: 132.32329440116882s\n",
            "Cost Ram: 0.5243053808808327GB\n"
          ],
          "name": "stdout"
        }
      ]
    },
    {
      "metadata": {
        "id": "IZV12lwaRCxy",
        "colab_type": "code",
        "outputId": "23d6dfc6-ad3e-4487-af0d-8631912f57ac",
        "colab": {
          "base_uri": "https://localhost:8080/",
          "height": 68
        }
      },
      "cell_type": "code",
      "source": [
        "X = pd.DataFrame(m)\n",
        "Y = data['Insult']\n",
        "print(m.shape)\n",
        "print(X.shape)\n",
        "print(Y.shape)"
      ],
      "execution_count": 0,
      "outputs": [
        {
          "output_type": "stream",
          "text": [
            "(3947, 17829)\n",
            "(3947, 17829)\n",
            "(3947,)\n"
          ],
          "name": "stdout"
        }
      ]
    },
    {
      "metadata": {
        "id": "VGnYdUKWUX9H",
        "colab_type": "code",
        "outputId": "1a2ffc09-0068-4dfa-c347-a03d6ec633df",
        "colab": {
          "base_uri": "https://localhost:8080/",
          "height": 51
        }
      },
      "cell_type": "code",
      "source": [
        "# 疎行列(Sparse Matrix)化\n",
        "from scipy import sparse\n",
        "sm = sparse.csr_matrix(m)\n",
        "print(sm.shape)\n",
        "print(\"Cost Ram: {}B\".format(sys.getsizeof(sm)))\n",
        "# Fitの速度も早くなる！"
      ],
      "execution_count": 0,
      "outputs": [
        {
          "output_type": "stream",
          "text": [
            "(3947, 17829)\n",
            "Cost Ram: 56B\n"
          ],
          "name": "stdout"
        }
      ]
    },
    {
      "metadata": {
        "id": "NgQeVFXAEEiZ",
        "colab_type": "code",
        "outputId": "70a20346-06bd-430f-a877-fa9f8e9f2c50",
        "colab": {
          "base_uri": "https://localhost:8080/",
          "height": 85
        }
      },
      "cell_type": "code",
      "source": [
        "# Sparse Matrixの仕組み\n",
        "print(sm[0])"
      ],
      "execution_count": 0,
      "outputs": [
        {
          "output_type": "stream",
          "text": [
            "  (0, 580)\t1.0\n",
            "  (0, 10103)\t1.0\n",
            "  (0, 10198)\t1.0\n",
            "  (0, 13739)\t1.0\n"
          ],
          "name": "stdout"
        }
      ]
    },
    {
      "metadata": {
        "id": "KgvczQFhEMdA",
        "colab_type": "code",
        "outputId": "44920e64-d0ca-4c60-8eaa-ddf194327c77",
        "colab": {
          "base_uri": "https://localhost:8080/",
          "height": 85
        }
      },
      "cell_type": "code",
      "source": [
        "print(\"  580: {}\\n10103: {}\\n10198: {}\\n13739: {}\".format(words_dict[580], words_dict[10103], words_dict[10198], words_dict[13739]))"
      ],
      "execution_count": 0,
      "outputs": [
        {
          "output_type": "stream",
          "text": [
            "  580: you\n",
            "10103: dad\n",
            "10198: your\n",
            "13739: fuck\n"
          ],
          "name": "stdout"
        }
      ]
    },
    {
      "metadata": {
        "id": "PxI-E4HAgHC0",
        "colab_type": "text"
      },
      "cell_type": "markdown",
      "source": [
        "## ②トレーニングと評価"
      ]
    },
    {
      "metadata": {
        "id": "3Rk44-rwmEFp",
        "colab_type": "text"
      },
      "cell_type": "markdown",
      "source": [
        "### 決定木 (Decision Tree)\n",
        "\n",
        "![Decision Tree](https://cdn-images-1.medium.com/max/1200/0*Yclq0kqMAwCQcIV_.jpg)"
      ]
    },
    {
      "metadata": {
        "id": "1fGw9rOLmHvb",
        "colab_type": "text"
      },
      "cell_type": "markdown",
      "source": [
        "### Random Forest\n",
        "\n",
        "団結力最高！！\n",
        "\n",
        "![Random Forest](https://i1.wp.com/dataaspirant.com/wp-content/uploads/2017/04/Random-Forest-Introduction.jpg?resize=690%2C345)"
      ]
    },
    {
      "metadata": {
        "id": "LzhJloQa0Iv9",
        "colab_type": "text"
      },
      "cell_type": "markdown",
      "source": [
        "### XGBoost\n",
        "\n",
        "Gradient BoostingとRandom Forestsを組み合わせたアンサンブル学習である\n",
        "[from Qitta](https://qiita.com/yh0sh/items/1df89b12a8dcd15bd5aa)"
      ]
    },
    {
      "metadata": {
        "scrolled": true,
        "id": "20rF7a27RCx7",
        "colab_type": "code",
        "outputId": "186715cd-3021-4bd6-8852-84db81c9ffc4",
        "colab": {
          "base_uri": "https://localhost:8080/",
          "height": 34
        }
      },
      "cell_type": "code",
      "source": [
        "import xgboost as xgb\n",
        "from sklearn.model_selection import train_test_split\n",
        "import time\n",
        "\n",
        "start_time = time.time()\n",
        "XGB = xgb.XGBClassifier() # n_estimators=500, learning_rate=0.1, max_depth=2\n",
        "X_train, X_test, y_train, y_test = train_test_split(sm, Y,test_size = 1/6, random_state=42)\n",
        "XGB.fit(X_train,y_train)\n",
        "print(\"Cost Time: {}s\".format(time.time() - start_time))\n",
        "\n",
        "# Without Sparse Matrix: 625.0822050571442s\n",
        "# With Sparse Matrix:    5.461507081985474s"
      ],
      "execution_count": 0,
      "outputs": [
        {
          "output_type": "stream",
          "text": [
            "Cost Time: 1.3328125476837158s\n"
          ],
          "name": "stdout"
        }
      ]
    },
    {
      "metadata": {
        "id": "q9QcRG5-YMPb",
        "colab_type": "code",
        "outputId": "d1dadd98-311c-42bd-bc96-89252671e759",
        "colab": {
          "base_uri": "https://localhost:8080/",
          "height": 170
        }
      },
      "cell_type": "code",
      "source": [
        "y_pred = XGB.predict_proba(X_test)\n",
        "print(y_pred)\n",
        "print(y_pred.shape)\n",
        "print(X_test.shape)\n",
        "# probility(insult == 0)/ probility(insult == 1)"
      ],
      "execution_count": 0,
      "outputs": [
        {
          "output_type": "stream",
          "text": [
            "[[0.29377627 0.7062237 ]\n",
            " [0.67608356 0.32391647]\n",
            " [0.67608356 0.32391647]\n",
            " ...\n",
            " [0.67608356 0.32391647]\n",
            " [0.6195689  0.38043112]\n",
            " [0.22055    0.77945   ]]\n",
            "(658, 2)\n",
            "(658, 17829)\n"
          ],
          "name": "stdout"
        }
      ]
    },
    {
      "metadata": {
        "id": "N_Gtf7XvYCvc",
        "colab_type": "code",
        "colab": {}
      },
      "cell_type": "code",
      "source": [
        "y_pred = XGB.predict_proba(X_test)[:,1]\n",
        "#y_pred = XGB.predict(X_test)"
      ],
      "execution_count": 0,
      "outputs": []
    },
    {
      "metadata": {
        "id": "8vg_84LQcz5C",
        "colab_type": "text"
      },
      "cell_type": "markdown",
      "source": [
        "True Positive(TP)： 正解データ正であるものを、正しく正と予測できた数\n",
        "\n",
        "False Positive(FP)：正解データ負であるものを、間違って正と予測した数\n",
        "\n",
        "True Positive Rate  (真陽性率）： TP/(TP+FN)\n",
        "\n",
        "False Positive Rate(偽陽性率）： FP/(FP+TN)\n",
        "\n",
        "![AUC](https://cdn-ak.f.st-hatena.com/images/fotolife/N/Np-Ur/20171121/20171121235406.png)\n",
        "\n",
        "(横軸：偽陽性率、縦軸：真陽性率）\n",
        "\n",
        "AUC(Area under an ROC curve)\n",
        "\n",
        "ref: https://takuti.me/note/auc/"
      ]
    },
    {
      "metadata": {
        "id": "yWKr79ACRCx9",
        "colab_type": "code",
        "outputId": "d421cc0d-0478-4c3d-8e1b-f7e775974593",
        "colab": {
          "base_uri": "https://localhost:8080/",
          "height": 34
        }
      },
      "cell_type": "code",
      "source": [
        "from sklearn.metrics import auc\n",
        "from sklearn.metrics import roc_curve\n",
        "fpr, tpr, thresholds = roc_curve(y_test, y_pred)\n",
        "AUC = auc(fpr, tpr)\n",
        "print(AUC)"
      ],
      "execution_count": 0,
      "outputs": [
        {
          "output_type": "stream",
          "text": [
            "0.8404284790839412\n"
          ],
          "name": "stdout"
        }
      ]
    },
    {
      "metadata": {
        "id": "GboxFy-P0Oi0",
        "colab_type": "text"
      },
      "cell_type": "markdown",
      "source": [
        "### DeepLearning"
      ]
    },
    {
      "metadata": {
        "id": "R3tfjCF36IF9",
        "colab_type": "text"
      },
      "cell_type": "markdown",
      "source": [
        "Step 1:  Hidden Layerの層数とニューロン数を決める\n",
        "\n",
        "![Neural Network](http://blog.christianperone.com/wp-content/uploads/2015/08/neural_net2.jpeg)\n",
        "\n",
        "---\n",
        "\n",
        "\n",
        "\n",
        "Step 2:  Activation Functionを決める\n",
        "\n",
        "　[Activation Fuction](http://www.bdpt.net/cn/others/activation_functions_d3.html)\n",
        " \n",
        "　![Relu/Sigmoid](https://cdn-images-1.medium.com/max/1600/1*XxxiA0jJvPrHEJHD4z893g.png)\n",
        " \n",
        "　①Relu\n",
        "*   Hidden Layerによく使われる\n",
        "*   R'(z) for z>0 = 1 収束早い\n",
        "\n",
        "　②Sigmoid\n",
        "*   出力Layerによく使われる\n",
        "*   Binary問題\n",
        "\n",
        "　![Softmax](https://i.stack.imgur.com/0rewJ.png)\n",
        "\n",
        "　③Softmax\n",
        "*   出力Layerによく使われる\n",
        "*   Binary問題\n",
        "\n",
        "\n",
        "---\n",
        "\n",
        "\n",
        "\n",
        "Step 3:  Loss Functionを決める\n",
        "\n",
        "　For Regression(回帰) Case: \n",
        " \n",
        "　　①Mean Squared Error\n",
        "  \n",
        "　　![MSE](http://203.195.193.174/nat123CacheFolder/7777772E626470742E6E6574/52906a94acb2405285e00cada1b72665CD30CE38D031CF2FCD35DF31C83ACF36C530C6_10e825a5cf31393d848171cb38fd2e50/cn/wp-content/uploads/2017/12/dl_09_001.png)\n",
        "          \n",
        "　　②Mean Absolute Error\n",
        "          \n",
        "　　![MAE](http://203.195.193.174/nat123CacheFolder/7777772E626470742E6E6574/52906a94acb2405285e00cada1b72665CD30CE38D031CF2FCD35DF31C83ACF36C530C6_10e825a5cf31393d848171cb38fd2e50/cn/wp-content/uploads/2017/12/dl_09_002.png)\n",
        "          \n",
        "　　③Mean Absolute Percentage error\n",
        "  \n",
        "　　![MAPE](http://203.195.193.174/nat123CacheFolder/7777772E626470742E6E6574/52906a94acb2405285e00cada1b72665CD30CE38D031CF2FCD35DF31C83ACF36C530C6_10e825a5cf31393d848171cb38fd2e50/cn/wp-content/uploads/2017/12/dl_09_003.png)\n",
        "          \n",
        "　　④Mean Squared Logarithmic Error\n",
        "  \n",
        "　　![MSLE](http://203.195.193.174/nat123CacheFolder/7777772E626470742E6E6574/52906a94acb2405285e00cada1b72665CD30CE38D031CF2FCD35DF31C83ACF36C530C6_10e825a5cf31393d848171cb38fd2e50/cn/wp-content/uploads/2017/12/dl_09_004.png)\n",
        "  \n",
        "　For Classification(分類) Case:\n",
        " \n",
        "　　①Binary Crossentropy (出力Yは0/1というBinary問題の場合)\n",
        "  \n",
        "　　![BC](http://203.195.193.174/nat123CacheFolder/7777772E626470742E6E6574/52906a94acb2405285e00cada1b72665CD30CE38D031CF2FCD35DF31C83ACF36C530C6_10e825a5cf31393d848171cb38fd2e50/cn/wp-content/uploads/2017/12/dl_09_011.png)\n",
        "  \n",
        "　　②Categorical Crossentropy (答えは一つしかない場合)\n",
        "  \n",
        "　　![CC](http://203.195.193.174/nat123CacheFolder/7777772E626470742E6E6574/52906a94acb2405285e00cada1b72665CD30CE38D031CF2FCD35DF31C83ACF36C530C6_10e825a5cf31393d848171cb38fd2e50/cn/wp-content/uploads/2017/12/dl_09_012.png)\n",
        "  \n",
        "  \n",
        "\n",
        "---\n",
        "\n",
        "\n",
        "\n",
        "Step 4:  Optimizerを決める\n",
        "\n",
        "　Parameters: ①Learning Rate、②Momentum、③Decay\n",
        " \n",
        " \n",
        "\n",
        "---\n",
        "\n",
        "\n",
        " \n",
        "Step 5:  Compile Model\n",
        "\n",
        "\n",
        "\n",
        "---\n",
        "\n",
        "\n",
        "\n",
        "Step 6:  Fit Model"
      ]
    },
    {
      "metadata": {
        "id": "oG00ihNW0SJ0",
        "colab_type": "code",
        "colab": {}
      },
      "cell_type": "code",
      "source": [
        "import tensorflow as tf\n",
        "from keras.models import  Model\n",
        "from keras.layers import Dense, Activation, Input\n",
        "\n",
        "from sklearn.model_selection import train_test_split\n",
        "\n",
        "import matplotlib.pyplot as plt\n",
        "import numpy as np"
      ],
      "execution_count": 0,
      "outputs": []
    },
    {
      "metadata": {
        "id": "yNKKcmGs-92c",
        "colab_type": "code",
        "outputId": "0b895a33-8aa2-4a69-a730-9dea13795d2d",
        "colab": {
          "base_uri": "https://localhost:8080/",
          "height": 272
        }
      },
      "cell_type": "code",
      "source": [
        "# Create model with API mode\n",
        "\n",
        "input = Input(shape=(sm.shape[1],), sparse=True)\n",
        "x = Dense(128, activation='sigmoid')(input)\n",
        "x = Dense(256, activation='sigmoid')(x)\n",
        "output = Dense(1, activation='sigmoid')(x)\n",
        "\n",
        "model = Model(inputs=[input], outputs=[output])\n",
        "\n",
        "model.summary()"
      ],
      "execution_count": 0,
      "outputs": [
        {
          "output_type": "stream",
          "text": [
            "_________________________________________________________________\n",
            "Layer (type)                 Output Shape              Param #   \n",
            "=================================================================\n",
            "input_15 (InputLayer)        (None, 17829)             0         \n",
            "_________________________________________________________________\n",
            "dense_43 (Dense)             (None, 128)               2282240   \n",
            "_________________________________________________________________\n",
            "dense_44 (Dense)             (None, 256)               33024     \n",
            "_________________________________________________________________\n",
            "dense_45 (Dense)             (None, 1)                 257       \n",
            "=================================================================\n",
            "Total params: 2,315,521\n",
            "Trainable params: 2,315,521\n",
            "Non-trainable params: 0\n",
            "_________________________________________________________________\n"
          ],
          "name": "stdout"
        }
      ]
    },
    {
      "metadata": {
        "id": "Zny7jG9I5zkW",
        "colab_type": "code",
        "colab": {}
      },
      "cell_type": "code",
      "source": [
        "model.compile(loss='binary_crossentropy', optimizer='adam', metrics=['accuracy'])"
      ],
      "execution_count": 0,
      "outputs": []
    },
    {
      "metadata": {
        "id": "EgaQEsWk7vM8",
        "colab_type": "code",
        "outputId": "ecf9b7f0-db6c-4a8c-f20e-02532fa9534c",
        "colab": {
          "base_uri": "https://localhost:8080/",
          "height": 357
        }
      },
      "cell_type": "code",
      "source": [
        "X_train, X_test, y_train, y_test = train_test_split(sm, Y,test_size = 1/6, random_state=42)\n",
        "history = model.fit(X_train, y_train, batch_size=64, verbose=1, epochs=10, shuffle=True)"
      ],
      "execution_count": 0,
      "outputs": [
        {
          "output_type": "stream",
          "text": [
            "Epoch 1/10\n",
            "3289/3289 [==============================] - 4s 1ms/step - loss: 0.5916 - acc: 0.7145\n",
            "Epoch 2/10\n",
            "3289/3289 [==============================] - 3s 904us/step - loss: 0.5278 - acc: 0.7370\n",
            "Epoch 3/10\n",
            "3289/3289 [==============================] - 3s 907us/step - loss: 0.4059 - acc: 0.8036\n",
            "Epoch 4/10\n",
            "3289/3289 [==============================] - 3s 872us/step - loss: 0.2789 - acc: 0.8927\n",
            "Epoch 5/10\n",
            "3289/3289 [==============================] - 3s 887us/step - loss: 0.1963 - acc: 0.9322\n",
            "Epoch 6/10\n",
            "3289/3289 [==============================] - 3s 893us/step - loss: 0.1402 - acc: 0.9590\n",
            "Epoch 7/10\n",
            "3289/3289 [==============================] - 3s 900us/step - loss: 0.1040 - acc: 0.9711\n",
            "Epoch 8/10\n",
            "3289/3289 [==============================] - 3s 901us/step - loss: 0.0772 - acc: 0.9811\n",
            "Epoch 9/10\n",
            "3289/3289 [==============================] - 3s 879us/step - loss: 0.0596 - acc: 0.9872\n",
            "Epoch 10/10\n",
            "3289/3289 [==============================] - 3s 902us/step - loss: 0.0467 - acc: 0.9903\n"
          ],
          "name": "stdout"
        }
      ]
    },
    {
      "metadata": {
        "id": "y-ccOjdSFS-2",
        "colab_type": "code",
        "colab": {}
      },
      "cell_type": "code",
      "source": [
        "y_pred = model.predict(X_test)"
      ],
      "execution_count": 0,
      "outputs": []
    },
    {
      "metadata": {
        "id": "2OFbXGg_GkFx",
        "colab_type": "code",
        "outputId": "ca62f2e9-1f6f-45bb-afd0-c71b927fdbc9",
        "colab": {
          "base_uri": "https://localhost:8080/",
          "height": 34
        }
      },
      "cell_type": "code",
      "source": [
        "from sklearn.metrics import auc\n",
        "from sklearn.metrics import roc_curve\n",
        "fpr, tpr, thresholds = roc_curve(y_test, y_pred)\n",
        "AUC = auc(fpr, tpr)\n",
        "print(AUC)"
      ],
      "execution_count": 0,
      "outputs": [
        {
          "output_type": "stream",
          "text": [
            "0.8526987718164188\n"
          ],
          "name": "stdout"
        }
      ]
    },
    {
      "metadata": {
        "id": "nvricwgMIZ81",
        "colab_type": "code",
        "outputId": "5d2e47fb-4d16-4333-8917-84f1c8513d74",
        "colab": {
          "base_uri": "https://localhost:8080/",
          "height": 51
        }
      },
      "cell_type": "code",
      "source": [
        "score = model.evaluate(X_test, y_test, batch_size=64)\n",
        "print(score[1]) # not AUC?"
      ],
      "execution_count": 0,
      "outputs": [
        {
          "output_type": "stream",
          "text": [
            "658/658 [==============================] - 0s 583us/step\n",
            "0.8297872342237224\n"
          ],
          "name": "stdout"
        }
      ]
    },
    {
      "metadata": {
        "id": "QJrDit-fGvGC",
        "colab_type": "code",
        "outputId": "26469cfc-d31d-4ca2-8d10-d6a319765fab",
        "colab": {
          "base_uri": "https://localhost:8080/",
          "height": 376
        }
      },
      "cell_type": "code",
      "source": [
        "plt.plot(history.history['acc'])\n",
        "plt.plot(history.history['loss'])\n",
        "plt.title('Train History')\n",
        "plt.ylabel(['acc', 'loss'])\n",
        "plt.xlabel('Epoch')\n",
        "plt.legend(['acc', 'loss'], loc='right')\n",
        "plt.show()"
      ],
      "execution_count": 0,
      "outputs": [
        {
          "output_type": "display_data",
          "data": {
            "image/png": "[encoded data removed]",
            "text/plain": [
              "<matplotlib.figure.Figure at 0x7f2d7cd980f0>"
            ]
          },
          "metadata": {
            "tags": []
          }
        }
      ]
    },
    {
      "metadata": {
        "id": "wzKvKygKgVwl",
        "colab_type": "text"
      },
      "cell_type": "markdown",
      "source": [
        "# Appendix：Data処理方法（Feature Engineering）"
      ]
    },
    {
      "metadata": {
        "id": "rQWrfbOq2Aau",
        "colab_type": "text"
      },
      "cell_type": "markdown",
      "source": [
        "## 定量化（Quantify）：文字→数値"
      ]
    },
    {
      "metadata": {
        "id": "knENRxlgaFWw",
        "colab_type": "code",
        "outputId": "303d4c32-10d9-47ad-e34b-50000c95517a",
        "colab": {
          "base_uri": "https://localhost:8080/",
          "height": 205
        }
      },
      "cell_type": "code",
      "source": [
        "lyrics = [\"P-P-A-P\", \"I have a pen, I have a apple\", \"Uh! Apple Pen!\", \"I have a pen, I have pineapple\", \"Uh! Pineapple Pen!\", \"Apple Pen, Pineapple Pen\", \"Uh! Pen Pineapple Apple Pen\", \"Pen Pineapple Apple Pen\"]\n",
        "print(\"{}\\n\".format(lyrics))\n",
        "for i, lyric in enumerate(lyrics):\n",
        "  print(\"{}  {}\".format(i, lyric))"
      ],
      "execution_count": 0,
      "outputs": [
        {
          "output_type": "stream",
          "text": [
            "['P-P-A-P', 'I have a pen, I have a apple', 'Uh! Apple Pen!', 'I have a pen, I have pineapple', 'Uh! Pineapple Pen!', 'Apple Pen, Pineapple Pen', 'Uh! Pen Pineapple Apple Pen', 'Pen Pineapple Apple Pen']\n",
            "\n",
            "0  P-P-A-P\n",
            "1  I have a pen, I have a apple\n",
            "2  Uh! Apple Pen!\n",
            "3  I have a pen, I have pineapple\n",
            "4  Uh! Pineapple Pen!\n",
            "5  Apple Pen, Pineapple Pen\n",
            "6  Uh! Pen Pineapple Apple Pen\n",
            "7  Pen Pineapple Apple Pen\n"
          ],
          "name": "stdout"
        }
      ]
    },
    {
      "metadata": {
        "id": "wPJXK9t0aFZ5",
        "colab_type": "code",
        "outputId": "9afd6e3e-138c-4b9e-d398-7f6bd5a2b332",
        "colab": {
          "base_uri": "https://localhost:8080/",
          "height": 185
        }
      },
      "cell_type": "code",
      "source": [
        "# 単語単位で分ける\n",
        "lyric_words = lyrics[1].split()\n",
        "print(\"{}\\n\".format(lyric_words))\n",
        "for i, word in enumerate(lyric_words):\n",
        "  print(\"{}  {}\".format(i, word))"
      ],
      "execution_count": 0,
      "outputs": [
        {
          "output_type": "stream",
          "text": [
            "['I', 'have', 'a', 'pen,', 'I', 'have', 'a', 'apple']\n",
            "\n",
            "0  I\n",
            "1  have\n",
            "2  a\n",
            "3  pen,\n",
            "4  I\n",
            "5  have\n",
            "6  a\n",
            "7  apple\n"
          ],
          "name": "stdout"
        }
      ]
    },
    {
      "metadata": {
        "id": "XvMVRAj9aFcp",
        "colab_type": "code",
        "outputId": "37b074e0-84f9-405f-a4d6-ad693918a4ea",
        "colab": {
          "base_uri": "https://localhost:8080/",
          "height": 34
        }
      },
      "cell_type": "code",
      "source": [
        "# 正規化(Normalization)\n",
        "# a~z & A~Z以外のcharをemptyに取り替える（けずる）\n",
        "import re\n",
        "regex = re.compile('[^a-zA-Z]')\n",
        "regex.sub('', lyric_words[3])"
      ],
      "execution_count": 0,
      "outputs": [
        {
          "output_type": "execute_result",
          "data": {
            "text/plain": [
              "'pen'"
            ]
          },
          "metadata": {
            "tags": []
          },
          "execution_count": 8
        }
      ]
    },
    {
      "metadata": {
        "id": "9avcrI55aFff",
        "colab_type": "code",
        "outputId": "f9b95e1a-626b-431c-e5d8-a862a53672c7",
        "colab": {
          "base_uri": "https://localhost:8080/",
          "height": 54
        }
      },
      "cell_type": "code",
      "source": [
        "# 全ての単語が含まれる語彙集(Dictionary)作成\n",
        "lyric_dict = []\n",
        "for lyric in lyrics:\n",
        "    lyric_dict = lyric_dict + lyric.split()\n",
        "for i, word in enumerate(lyric_dict):\n",
        "  lyric_dict[i] = regex.sub('', word)\n",
        "  lyric_dict[i] = lyric_dict[i].lower()\n",
        "print(lyric_dict)"
      ],
      "execution_count": 0,
      "outputs": [
        {
          "output_type": "stream",
          "text": [
            "['ppap', 'i', 'have', 'a', 'pen', 'i', 'have', 'a', 'apple', 'uh', 'apple', 'pen', 'i', 'have', 'a', 'pen', 'i', 'have', 'pineapple', 'uh', 'pineapple', 'pen', 'apple', 'pen', 'pineapple', 'pen', 'uh', 'pen', 'pineapple', 'apple', 'pen', 'pen', 'pineapple', 'apple', 'pen']\n"
          ],
          "name": "stdout"
        }
      ]
    },
    {
      "metadata": {
        "id": "of7j8ns-zTAF",
        "colab_type": "code",
        "outputId": "69d524c2-370f-4d53-e6d3-869103a467b9",
        "colab": {
          "base_uri": "https://localhost:8080/",
          "height": 34
        }
      },
      "cell_type": "code",
      "source": [
        "# 重複単語を削除\n",
        "lyric_dict = list(set(lyric_dict))\n",
        "print(lyric_dict)"
      ],
      "execution_count": 0,
      "outputs": [
        {
          "output_type": "stream",
          "text": [
            "['i', 'have', 'apple', 'uh', 'a', 'pen', 'ppap', 'pineapple']\n"
          ],
          "name": "stdout"
        }
      ]
    },
    {
      "metadata": {
        "id": "B6qeUNy6RCxU",
        "colab_type": "code",
        "colab": {}
      },
      "cell_type": "code",
      "source": [
        "def wordArray(string, dic):\n",
        "    words = string.split()\n",
        "    for i, word in enumerate(words):\n",
        "        words[i] = regex.sub('', word)\n",
        "        words[i] = words[i].lower()\n",
        "    array = [0] * len(dic)\n",
        "    for word in words:\n",
        "        for i, w in enumerate(dic):\n",
        "            if word == w:\n",
        "                array[i] = 1\n",
        "                break\n",
        "    return array"
      ],
      "execution_count": 0,
      "outputs": []
    },
    {
      "metadata": {
        "id": "pyffL0ybzTC8",
        "colab_type": "code",
        "outputId": "288720c1-a25a-4f6f-8676-83a34bcb824d",
        "colab": {
          "base_uri": "https://localhost:8080/",
          "height": 301
        }
      },
      "cell_type": "code",
      "source": [
        "import pandas as pd\n",
        "\n",
        "lyric_list = []\n",
        "lyric_array_list = []\n",
        "for lyric in lyrics:\n",
        "  lyric_list.append(lyric)\n",
        "  lyric_array_list.append(wordArray(lyric, lyric_dict))\n",
        "lyric_dataframe = pd.DataFrame()\n",
        "lyric_dataframe['lyric'] = lyric_list\n",
        "lyric_dataframe['array'] = lyric_array_list\n",
        "print(lyric_dict)\n",
        "lyric_dataframe"
      ],
      "execution_count": 0,
      "outputs": [
        {
          "output_type": "stream",
          "text": [
            "['i', 'have', 'apple', 'uh', 'a', 'pen', 'ppap', 'pineapple']\n"
          ],
          "name": "stdout"
        },
        {
          "output_type": "execute_result",
          "data": {
            "text/html": [
              "<div>\n",
              "<style scoped>\n",
              "    .dataframe tbody tr th:only-of-type {\n",
              "        vertical-align: middle;\n",
              "    }\n",
              "\n",
              "    .dataframe tbody tr th {\n",
              "        vertical-align: top;\n",
              "    }\n",
              "\n",
              "    .dataframe thead th {\n",
              "        text-align: right;\n",
              "    }\n",
              "</style>\n",
              "<table border=\"1\" class=\"dataframe\">\n",
              "  <thead>\n",
              "    <tr style=\"text-align: right;\">\n",
              "      <th></th>\n",
              "      <th>lyric</th>\n",
              "      <th>array</th>\n",
              "    </tr>\n",
              "  </thead>\n",
              "  <tbody>\n",
              "    <tr>\n",
              "      <th>0</th>\n",
              "      <td>P-P-A-P</td>\n",
              "      <td>[0, 0, 0, 0, 0, 0, 1, 0]</td>\n",
              "    </tr>\n",
              "    <tr>\n",
              "      <th>1</th>\n",
              "      <td>I have a pen, I have a apple</td>\n",
              "      <td>[1, 1, 1, 0, 1, 1, 0, 0]</td>\n",
              "    </tr>\n",
              "    <tr>\n",
              "      <th>2</th>\n",
              "      <td>Uh! Apple Pen!</td>\n",
              "      <td>[0, 0, 1, 1, 0, 1, 0, 0]</td>\n",
              "    </tr>\n",
              "    <tr>\n",
              "      <th>3</th>\n",
              "      <td>I have a pen, I have pineapple</td>\n",
              "      <td>[1, 1, 0, 0, 1, 1, 0, 1]</td>\n",
              "    </tr>\n",
              "    <tr>\n",
              "      <th>4</th>\n",
              "      <td>Uh! Pineapple Pen!</td>\n",
              "      <td>[0, 0, 0, 1, 0, 1, 0, 1]</td>\n",
              "    </tr>\n",
              "    <tr>\n",
              "      <th>5</th>\n",
              "      <td>Apple Pen, Pineapple Pen</td>\n",
              "      <td>[0, 0, 1, 0, 0, 1, 0, 1]</td>\n",
              "    </tr>\n",
              "    <tr>\n",
              "      <th>6</th>\n",
              "      <td>Uh! Pen Pineapple Apple Pen</td>\n",
              "      <td>[0, 0, 1, 1, 0, 1, 0, 1]</td>\n",
              "    </tr>\n",
              "    <tr>\n",
              "      <th>7</th>\n",
              "      <td>Pen Pineapple Apple Pen</td>\n",
              "      <td>[0, 0, 1, 0, 0, 1, 0, 1]</td>\n",
              "    </tr>\n",
              "  </tbody>\n",
              "</table>\n",
              "</div>"
            ],
            "text/plain": [
              "                            lyric                     array\n",
              "0                         P-P-A-P  [0, 0, 0, 0, 0, 0, 1, 0]\n",
              "1    I have a pen, I have a apple  [1, 1, 1, 0, 1, 1, 0, 0]\n",
              "2                  Uh! Apple Pen!  [0, 0, 1, 1, 0, 1, 0, 0]\n",
              "3  I have a pen, I have pineapple  [1, 1, 0, 0, 1, 1, 0, 1]\n",
              "4              Uh! Pineapple Pen!  [0, 0, 0, 1, 0, 1, 0, 1]\n",
              "5        Apple Pen, Pineapple Pen  [0, 0, 1, 0, 0, 1, 0, 1]\n",
              "6     Uh! Pen Pineapple Apple Pen  [0, 0, 1, 1, 0, 1, 0, 1]\n",
              "7         Pen Pineapple Apple Pen  [0, 0, 1, 0, 0, 1, 0, 1]"
            ]
          },
          "metadata": {
            "tags": []
          },
          "execution_count": 12
        }
      ]
    },
    {
      "metadata": {
        "id": "hEWDdIBal6OX",
        "colab_type": "code",
        "colab": {}
      },
      "cell_type": "code",
      "source": [
        "lyric_matriz = np.array([np.array(lyric_array) for lyric_array in lyric_array_list])"
      ],
      "execution_count": 0,
      "outputs": []
    },
    {
      "metadata": {
        "id": "oi27G13tmjZg",
        "colab_type": "code",
        "outputId": "c38b0572-45a0-4f62-de76-fc3cb436909c",
        "colab": {
          "base_uri": "https://localhost:8080/",
          "height": 153
        }
      },
      "cell_type": "code",
      "source": [
        "lyric_matriz"
      ],
      "execution_count": 0,
      "outputs": [
        {
          "output_type": "execute_result",
          "data": {
            "text/plain": [
              "array([[0, 0, 0, 0, 0, 1, 0, 0],\n",
              "       [0, 0, 1, 1, 1, 0, 1, 1],\n",
              "       [1, 0, 0, 0, 0, 0, 1, 1],\n",
              "       [0, 1, 1, 1, 1, 0, 1, 0],\n",
              "       [1, 1, 0, 0, 0, 0, 1, 0],\n",
              "       [0, 1, 0, 0, 0, 0, 1, 1],\n",
              "       [1, 1, 0, 0, 0, 0, 1, 1],\n",
              "       [0, 1, 0, 0, 0, 0, 1, 1]])"
            ]
          },
          "metadata": {
            "tags": []
          },
          "execution_count": 91
        }
      ]
    },
    {
      "metadata": {
        "id": "jfeIE_ZJhEv3",
        "colab_type": "text"
      },
      "cell_type": "markdown",
      "source": [
        "### Scikit-Learn の特徴抽出ライブラリの利用"
      ]
    },
    {
      "metadata": {
        "id": "w4hZEoIRgmCH",
        "colab_type": "code",
        "colab": {}
      },
      "cell_type": "code",
      "source": [
        "from sklearn.feature_extraction.text import CountVectorizer\n",
        "cv = CountVectorizer()"
      ],
      "execution_count": 0,
      "outputs": []
    },
    {
      "metadata": {
        "id": "KE-WpdCsgsOB",
        "colab_type": "code",
        "colab": {}
      },
      "cell_type": "code",
      "source": [
        "cv.fit(data.Comment)\n",
        "print(cv.get_feature_names()[:15])\n",
        "print(len(cv.get_feature_names()))"
      ],
      "execution_count": 0,
      "outputs": []
    },
    {
      "metadata": {
        "id": "GT8VHzB6hD_9",
        "colab_type": "code",
        "colab": {}
      },
      "cell_type": "code",
      "source": [
        "sm_cv = cv.transform(data.Comment)\n",
        "Y = data['Insult']"
      ],
      "execution_count": 0,
      "outputs": []
    },
    {
      "metadata": {
        "id": "M7kVGg143Tgk",
        "colab_type": "code",
        "colab": {}
      },
      "cell_type": "code",
      "source": [
        "sm_cv.shape"
      ],
      "execution_count": 0,
      "outputs": []
    },
    {
      "metadata": {
        "id": "kmB2Hvxh3VxK",
        "colab_type": "code",
        "colab": {}
      },
      "cell_type": "code",
      "source": [
        "print(sm_cv[0])"
      ],
      "execution_count": 0,
      "outputs": []
    },
    {
      "metadata": {
        "id": "Pvgj7j0s3gj5",
        "colab_type": "code",
        "colab": {}
      },
      "cell_type": "code",
      "source": [
        "print(\" 3409: {}\\n 5434: {}\\n16397: {}\\n16405: {}\".format(cv.get_feature_names()[3409], cv.get_feature_names()[5434], cv.get_feature_names()[16397], cv.get_feature_names()[16405]))"
      ],
      "execution_count": 0,
      "outputs": []
    },
    {
      "metadata": {
        "id": "-gDUlSyQ4rMf",
        "colab_type": "code",
        "colab": {}
      },
      "cell_type": "code",
      "source": [
        "sm_cv[0].shape"
      ],
      "execution_count": 0,
      "outputs": []
    }
  ]
}